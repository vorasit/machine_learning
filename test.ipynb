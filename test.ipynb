{
 "cells": [
  {
   "cell_type": "code",
   "execution_count": 2,
   "id": "4ffc3617",
   "metadata": {},
   "outputs": [
    {
     "name": "stdout",
     "output_type": "stream",
     "text": [
      "1 2 3 4 5 6 7 8 9 10\n"
     ]
    }
   ],
   "source": [
    "one_to_ten = range(1,11)\n",
    "print(*one_to_ten)\n",
    "# * ปริ้นแบบเรียงลำดับ"
   ]
  },
  {
   "cell_type": "code",
   "execution_count": 4,
   "id": "27fd3a29",
   "metadata": {},
   "outputs": [
    {
     "name": "stdout",
     "output_type": "stream",
     "text": [
      "0 2 4 6 8 10 12 14 16 18\n"
     ]
    }
   ],
   "source": [
    "even = range(0,20,2)\n",
    "print(*even)"
   ]
  },
  {
   "cell_type": "code",
   "execution_count": 8,
   "id": "cbb9ca2c",
   "metadata": {},
   "outputs": [
    {
     "name": "stdout",
     "output_type": "stream",
     "text": [
      "1 3 5 7 9 11 13 15 17 19\n"
     ]
    }
   ],
   "source": [
    "odd = range(1,20,2)\n",
    "print(*odd)"
   ]
  },
  {
   "cell_type": "code",
   "execution_count": 10,
   "id": "c153d692",
   "metadata": {},
   "outputs": [
    {
     "name": "stdout",
     "output_type": "stream",
     "text": [
      "10 9 8 7 6 5 4 3 2 1\n"
     ]
    }
   ],
   "source": [
    "count_down = range(10,0,-1)\n",
    "print(*count_down)"
   ]
  },
  {
   "cell_type": "code",
   "execution_count": 11,
   "id": "525bd045",
   "metadata": {},
   "outputs": [
    {
     "name": "stdout",
     "output_type": "stream",
     "text": [
      "12345678910"
     ]
    }
   ],
   "source": [
    "one_to_ten = range(1,11)\n",
    "for x in one_to_ten:\n",
    "    print(x,sep='',end='')"
   ]
  },
  {
   "cell_type": "code",
   "execution_count": 18,
   "id": "87e09d07",
   "metadata": {},
   "outputs": [
    {
     "name": "stdout",
     "output_type": "stream",
     "text": [
      "[1, 2, 3, 4, 5]\n",
      "12345"
     ]
    }
   ],
   "source": [
    "a = list([1,2,3,4,5])\n",
    "print(a)\n",
    "for x in a:\n",
    "    print(x,sep='',end='')\n",
    "    #print(',')"
   ]
  },
  {
   "cell_type": "code",
   "execution_count": 4,
   "id": "9a152334",
   "metadata": {},
   "outputs": [
    {
     "name": "stdout",
     "output_type": "stream",
     "text": [
      "5\n",
      "25\n",
      "1009\n",
      "7\n",
      "0 - 108\n",
      "1 - 1009\n",
      "2 - 101\n",
      "3 - 7\n",
      "4 - 11\n"
     ]
    }
   ],
   "source": [
    "a = [1,3,5,7,9]\n",
    "print(len(a))\n",
    "print(sum(a))\n",
    "\n",
    "b = [108,1009,101,7,11]\n",
    "print(max(b))\n",
    "print(min(b))\n",
    "\n",
    "for (i,v) in enumerate(b):\n",
    "    print(f'{i} - {v}')"
   ]
  },
  {
   "cell_type": "code",
   "execution_count": 13,
   "id": "17cbfeb6",
   "metadata": {},
   "outputs": [
    {
     "name": "stdout",
     "output_type": "stream",
     "text": [
      "[['red', 'green', 'blue'], ['black', 'white']]\n",
      "red\n",
      "green\n",
      "blue\n",
      "black\n",
      "white\n"
     ]
    }
   ],
   "source": [
    "colors = [['red','green','blue'] , ['black','white']]\n",
    "\n",
    "print(colors)\n",
    "print(colors[0][0])\n",
    "print(colors[0][1])\n",
    "print(colors[0][2])\n",
    "print(colors[1][0])\n",
    "print(colors[1][1])"
   ]
  },
  {
   "cell_type": "code",
   "execution_count": 16,
   "id": "71f1248f",
   "metadata": {},
   "outputs": [
    {
     "name": "stdout",
     "output_type": "stream",
     "text": [
      "red green blue black white "
     ]
    }
   ],
   "source": [
    "colors = [['red','green','blue'] , ['black','white']]\n",
    "for cols in colors:\n",
    "    for c in cols:\n",
    "        print(c,end=' ')"
   ]
  },
  {
   "cell_type": "code",
   "execution_count": 18,
   "id": "830bbe3a",
   "metadata": {},
   "outputs": [
    {
     "name": "stdout",
     "output_type": "stream",
     "text": [
      "ok\n"
     ]
    }
   ],
   "source": [
    "if 'green' in colors[0]:\n",
    "    print('ok')"
   ]
  },
  {
   "cell_type": "code",
   "execution_count": 1,
   "id": "19198dfc",
   "metadata": {},
   "outputs": [
    {
     "name": "stdout",
     "output_type": "stream",
     "text": [
      "[['red', 'green', 'blue'], ['black', 'white', 'yellow']]\n"
     ]
    }
   ],
   "source": [
    "colors = [['red','green','blue'] , ['black','white']]\n",
    "colors[1].append('yellow')\n",
    "print(colors)"
   ]
  },
  {
   "cell_type": "code",
   "execution_count": 5,
   "id": "12a8c709",
   "metadata": {},
   "outputs": [
    {
     "name": "stdout",
     "output_type": "stream",
     "text": [
      "no yellow\n",
      "yes yellow\n"
     ]
    }
   ],
   "source": [
    "for cols in colors:\n",
    "    if 'yellow' in cols:\n",
    "        print(\"yes yellow\")\n",
    "    else:\n",
    "        print(\"no yellow\")"
   ]
  },
  {
   "cell_type": "code",
   "execution_count": 3,
   "id": "904d64fe",
   "metadata": {},
   "outputs": [
    {
     "name": "stdout",
     "output_type": "stream",
     "text": [
      "(1, 2, 3)\n"
     ]
    }
   ],
   "source": [
    "b = tuple([1,2,3])\n",
    "print(b)\n"
   ]
  },
  {
   "cell_type": "code",
   "execution_count": 6,
   "id": "82683de2",
   "metadata": {},
   "outputs": [
    {
     "name": "stdout",
     "output_type": "stream",
     "text": [
      "thailand\n",
      "pin\n",
      "range(80, 100)\n",
      "[2, 4, 6, 8]\n"
     ]
    }
   ],
   "source": [
    "country = {'th':'thailand','jp':'japan','kr':'korea'}\n",
    "info = {'name':'pin','age':'25','single':True}\n",
    "ranges = {'a':range(80,100),'b':range(70,9)}\n",
    "odd_evens = {'odd':[1,3,5,7,9],'even':[2,4,6,8]}\n",
    "\n",
    "print(country['th'])\n",
    "print(info['name'])\n",
    "print(ranges['a'])\n",
    "print(odd_evens['even'])"
   ]
  },
  {
   "cell_type": "code",
   "execution_count": 13,
   "id": "d3350fcd",
   "metadata": {},
   "outputs": [
    {
     "name": "stdout",
     "output_type": "stream",
     "text": [
      "country  th  is  thailand\n",
      "country  jp  is  japan\n",
      "country  kr  is  korea\n"
     ]
    }
   ],
   "source": [
    "for key in country:\n",
    "    print('country ' , str(key) , \" is \" , country[key])"
   ]
  },
  {
   "cell_type": "code",
   "execution_count": 18,
   "id": "4fe15fd8",
   "metadata": {},
   "outputs": [
    {
     "name": "stdout",
     "output_type": "stream",
     "text": [
      "th : thailand\n",
      "jp : japan\n",
      "kr : korea\n"
     ]
    }
   ],
   "source": [
    "for (k,v) in country.items():\n",
    "    print(f'{k} : {v}' )"
   ]
  },
  {
   "cell_type": "code",
   "execution_count": 21,
   "id": "d8df862b",
   "metadata": {},
   "outputs": [
    {
     "name": "stdout",
     "output_type": "stream",
     "text": [
      "1.20.1\n"
     ]
    }
   ],
   "source": [
    "import numpy as np\n",
    "print(np.__version__)"
   ]
  },
  {
   "cell_type": "code",
   "execution_count": 22,
   "id": "6c3d03af",
   "metadata": {},
   "outputs": [
    {
     "name": "stdout",
     "output_type": "stream",
     "text": [
      "[2 4 6]\n"
     ]
    }
   ],
   "source": [
    "a = np.array([2,4,6])\n",
    "print(a)"
   ]
  },
  {
   "cell_type": "code",
   "execution_count": 27,
   "id": "4f4136cd",
   "metadata": {},
   "outputs": [
    {
     "name": "stdout",
     "output_type": "stream",
     "text": [
      "a =  [0. 0. 0. 0. 0.]\n",
      "b =  [1. 1. 1. 1. 1.]\n",
      "c =  [8 8 8 8 8]\n",
      "d =  [1 2 3 4 5]\n",
      "e =  [1 3 5 7 9]\n",
      "f =  [ 1.  4.  7. 10.]\n",
      "g =  [ 1.   2.8  4.6  6.4  8.2 10. ]\n",
      "h =  [26.74406041 43.14694761 19.49283986 86.17726766  9.75406077 38.96002649\n",
      " 22.72862221 12.07131458 16.63609687 23.65025174]\n",
      "i =  [0.73373759 0.71817309 0.22455809 0.31454258 0.61271566 0.42460398\n",
      " 0.22298009 0.46118274 0.77250473 0.76601397]\n"
     ]
    }
   ],
   "source": [
    "a = np.zeros(5)\n",
    "b = np.ones(5)\n",
    "c = np.full(5,8)\n",
    "d = np.arange(1,6)\n",
    "e = np.arange(1,10,2)\n",
    "f = np.linspace(1,10,4)\n",
    "g = np.linspace(1,10,6)\n",
    "h = np.random.uniform(1,101,10)\n",
    "i = np.random.rand(10)\n",
    "\n",
    "print('a = ',a)\n",
    "print('b = ',b)\n",
    "print('c = ',c)\n",
    "print('d = ',d)\n",
    "print('e = ',e)\n",
    "print('f = ',f)\n",
    "print('g = ',g)\n",
    "print('h = ',h)\n",
    "print('i = ',i)"
   ]
  },
  {
   "cell_type": "code",
   "execution_count": 30,
   "id": "3d5f779c",
   "metadata": {},
   "outputs": [
    {
     "name": "stdout",
     "output_type": "stream",
     "text": [
      "a[0] =  7\n",
      "a[1]+a[3] =  1020\n",
      "a[-1] =  555\n",
      "a[-5] =  11\n",
      "*a =  7 11 108 1009 101 555\n",
      "7\n",
      "11\n",
      "108\n",
      "1009\n",
      "101\n",
      "555\n"
     ]
    }
   ],
   "source": [
    "a = np.array([7,11,108,1009,101,555])\n",
    "print('a[0] = ',a[0])\n",
    "print('a[1]+a[3] = ',a[1]+a[3])\n",
    "print('a[-1] = ',a[-1])\n",
    "print('a[-5] = ',a[-5])\n",
    "print('*a = ',*a)\n",
    "for value in a: print(value)"
   ]
  },
  {
   "cell_type": "code",
   "execution_count": 36,
   "id": "a7e622f9",
   "metadata": {},
   "outputs": [
    {
     "name": "stdout",
     "output_type": "stream",
     "text": [
      "1\n"
     ]
    }
   ],
   "source": [
    "a2d = np.array([[1,2,3],[4,5,6],[7,8,9]])\n",
    "print(a2d[0,0])"
   ]
  },
  {
   "cell_type": "code",
   "execution_count": 38,
   "id": "9e7c76c7",
   "metadata": {},
   "outputs": [
    {
     "name": "stdout",
     "output_type": "stream",
     "text": [
      "[  17   21  118 1019  111  565]\n"
     ]
    }
   ],
   "source": [
    "a = np.array([7,11,108,1009,101,555])\n",
    "arr2 = a+10\n",
    "print(arr2)"
   ]
  },
  {
   "cell_type": "code",
   "execution_count": 39,
   "id": "fcadeb92",
   "metadata": {},
   "outputs": [
    {
     "name": "stdout",
     "output_type": "stream",
     "text": [
      "   One  Two  Three  Four\n",
      "A   10   50     80   567\n",
      "B    5   25     75   432\n",
      "C   15   30     60   777\n",
      "D   10   40     70   555\n"
     ]
    }
   ],
   "source": [
    "import pandas as pd\n",
    "data =[\n",
    "    [10,50,80,567],\n",
    "    [5,25,75,432],\n",
    "    [15,30,60,777],\n",
    "    [10,40,70,555]]\n",
    "df = pd.DataFrame(data,\n",
    "                 index=list('ABCD'),\n",
    "                 columns=['One','Two','Three','Four'])\n",
    "print(df)"
   ]
  },
  {
   "cell_type": "code",
   "execution_count": 41,
   "id": "b1b302b6",
   "metadata": {},
   "outputs": [
    {
     "name": "stdout",
     "output_type": "stream",
     "text": [
      "    col1  col2  col3\n",
      "p1   110   210   310\n",
      "p2   111   211   311\n",
      "p3   112   212   312\n",
      "p4   113   213   313\n"
     ]
    }
   ],
   "source": [
    "import pandas as pd\n",
    "data = {'col1':[110,111,112,113],\n",
    "       'col2':[210,211,212,213],\n",
    "       'col3':[310,311,312,313]}\n",
    "df = pd.DataFrame(data,index=['p1','p2','p3','p4'])\n",
    "print(df)"
   ]
  },
  {
   "cell_type": "code",
   "execution_count": 44,
   "id": "868b1631",
   "metadata": {},
   "outputs": [
    {
     "name": "stdout",
     "output_type": "stream",
     "text": [
      "p1    110\n",
      "p2    111\n",
      "p3    112\n",
      "p4    113\n",
      "Name: price, dtype: int64\n"
     ]
    }
   ],
   "source": [
    "import pandas as pd\n",
    "data = {'price':[110,111,112,113],\n",
    "       'sales':[210,211,212,213],\n",
    "       'stock':[310,311,312,313]}\n",
    "df = pd.DataFrame(data,index=['p1','p2','p3','p4'])\n",
    "print(df['price'])"
   ]
  },
  {
   "cell_type": "code",
   "execution_count": 51,
   "id": "4d5cfe0f",
   "metadata": {},
   "outputs": [
    {
     "data": {
      "text/html": [
       "<div>\n",
       "<style scoped>\n",
       "    .dataframe tbody tr th:only-of-type {\n",
       "        vertical-align: middle;\n",
       "    }\n",
       "\n",
       "    .dataframe tbody tr th {\n",
       "        vertical-align: top;\n",
       "    }\n",
       "\n",
       "    .dataframe thead th {\n",
       "        text-align: right;\n",
       "    }\n",
       "</style>\n",
       "<table border=\"1\" class=\"dataframe\">\n",
       "  <thead>\n",
       "    <tr style=\"text-align: right;\">\n",
       "      <th></th>\n",
       "      <th>one</th>\n",
       "      <th>three</th>\n",
       "      <th>five</th>\n",
       "    </tr>\n",
       "  </thead>\n",
       "  <tbody>\n",
       "    <tr>\n",
       "      <th>0</th>\n",
       "      <td>755</td>\n",
       "      <td>0.303016</td>\n",
       "      <td>8.841531</td>\n",
       "    </tr>\n",
       "    <tr>\n",
       "      <th>1</th>\n",
       "      <td>397</td>\n",
       "      <td>0.808704</td>\n",
       "      <td>-8.739953</td>\n",
       "    </tr>\n",
       "    <tr>\n",
       "      <th>2</th>\n",
       "      <td>610</td>\n",
       "      <td>0.410973</td>\n",
       "      <td>-9.747614</td>\n",
       "    </tr>\n",
       "    <tr>\n",
       "      <th>3</th>\n",
       "      <td>238</td>\n",
       "      <td>0.207628</td>\n",
       "      <td>8.259031</td>\n",
       "    </tr>\n",
       "    <tr>\n",
       "      <th>4</th>\n",
       "      <td>635</td>\n",
       "      <td>0.407612</td>\n",
       "      <td>9.983159</td>\n",
       "    </tr>\n",
       "    <tr>\n",
       "      <th>5</th>\n",
       "      <td>660</td>\n",
       "      <td>0.638643</td>\n",
       "      <td>-6.165517</td>\n",
       "    </tr>\n",
       "    <tr>\n",
       "      <th>6</th>\n",
       "      <td>745</td>\n",
       "      <td>0.395255</td>\n",
       "      <td>1.749613</td>\n",
       "    </tr>\n",
       "    <tr>\n",
       "      <th>7</th>\n",
       "      <td>545</td>\n",
       "      <td>0.172244</td>\n",
       "      <td>-3.230696</td>\n",
       "    </tr>\n",
       "    <tr>\n",
       "      <th>8</th>\n",
       "      <td>694</td>\n",
       "      <td>0.134322</td>\n",
       "      <td>8.999053</td>\n",
       "    </tr>\n",
       "    <tr>\n",
       "      <th>9</th>\n",
       "      <td>199</td>\n",
       "      <td>0.813318</td>\n",
       "      <td>-1.365264</td>\n",
       "    </tr>\n",
       "  </tbody>\n",
       "</table>\n",
       "</div>"
      ],
      "text/plain": [
       "   one     three      five\n",
       "0  755  0.303016  8.841531\n",
       "1  397  0.808704 -8.739953\n",
       "2  610  0.410973 -9.747614\n",
       "3  238  0.207628  8.259031\n",
       "4  635  0.407612  9.983159\n",
       "5  660  0.638643 -6.165517\n",
       "6  745  0.395255  1.749613\n",
       "7  545  0.172244 -3.230696\n",
       "8  694  0.134322  8.999053\n",
       "9  199  0.813318 -1.365264"
      ]
     },
     "metadata": {},
     "output_type": "display_data"
    },
    {
     "data": {
      "text/html": [
       "<div>\n",
       "<style scoped>\n",
       "    .dataframe tbody tr th:only-of-type {\n",
       "        vertical-align: middle;\n",
       "    }\n",
       "\n",
       "    .dataframe tbody tr th {\n",
       "        vertical-align: top;\n",
       "    }\n",
       "\n",
       "    .dataframe thead th {\n",
       "        text-align: right;\n",
       "    }\n",
       "</style>\n",
       "<table border=\"1\" class=\"dataframe\">\n",
       "  <thead>\n",
       "    <tr style=\"text-align: right;\">\n",
       "      <th></th>\n",
       "      <th>two</th>\n",
       "      <th>three</th>\n",
       "      <th>four</th>\n",
       "    </tr>\n",
       "  </thead>\n",
       "  <tbody>\n",
       "    <tr>\n",
       "      <th>0</th>\n",
       "      <td>1.671735</td>\n",
       "      <td>0.303016</td>\n",
       "      <td>39</td>\n",
       "    </tr>\n",
       "    <tr>\n",
       "      <th>1</th>\n",
       "      <td>7.088057</td>\n",
       "      <td>0.808704</td>\n",
       "      <td>22</td>\n",
       "    </tr>\n",
       "    <tr>\n",
       "      <th>2</th>\n",
       "      <td>7.994125</td>\n",
       "      <td>0.410973</td>\n",
       "      <td>7</td>\n",
       "    </tr>\n",
       "    <tr>\n",
       "      <th>3</th>\n",
       "      <td>2.774560</td>\n",
       "      <td>0.207628</td>\n",
       "      <td>40</td>\n",
       "    </tr>\n",
       "    <tr>\n",
       "      <th>4</th>\n",
       "      <td>5.305614</td>\n",
       "      <td>0.407612</td>\n",
       "      <td>31</td>\n",
       "    </tr>\n",
       "    <tr>\n",
       "      <th>5</th>\n",
       "      <td>3.190126</td>\n",
       "      <td>0.638643</td>\n",
       "      <td>98</td>\n",
       "    </tr>\n",
       "    <tr>\n",
       "      <th>6</th>\n",
       "      <td>9.281384</td>\n",
       "      <td>0.395255</td>\n",
       "      <td>58</td>\n",
       "    </tr>\n",
       "    <tr>\n",
       "      <th>7</th>\n",
       "      <td>9.414939</td>\n",
       "      <td>0.172244</td>\n",
       "      <td>27</td>\n",
       "    </tr>\n",
       "    <tr>\n",
       "      <th>8</th>\n",
       "      <td>5.985033</td>\n",
       "      <td>0.134322</td>\n",
       "      <td>53</td>\n",
       "    </tr>\n",
       "    <tr>\n",
       "      <th>9</th>\n",
       "      <td>1.426482</td>\n",
       "      <td>0.813318</td>\n",
       "      <td>81</td>\n",
       "    </tr>\n",
       "  </tbody>\n",
       "</table>\n",
       "</div>"
      ],
      "text/plain": [
       "        two     three  four\n",
       "0  1.671735  0.303016    39\n",
       "1  7.088057  0.808704    22\n",
       "2  7.994125  0.410973     7\n",
       "3  2.774560  0.207628    40\n",
       "4  5.305614  0.407612    31\n",
       "5  3.190126  0.638643    98\n",
       "6  9.281384  0.395255    58\n",
       "7  9.414939  0.172244    27\n",
       "8  5.985033  0.134322    53\n",
       "9  1.426482  0.813318    81"
      ]
     },
     "metadata": {},
     "output_type": "display_data"
    },
    {
     "data": {
      "text/html": [
       "<div>\n",
       "<style scoped>\n",
       "    .dataframe tbody tr th:only-of-type {\n",
       "        vertical-align: middle;\n",
       "    }\n",
       "\n",
       "    .dataframe tbody tr th {\n",
       "        vertical-align: top;\n",
       "    }\n",
       "\n",
       "    .dataframe thead th {\n",
       "        text-align: right;\n",
       "    }\n",
       "</style>\n",
       "<table border=\"1\" class=\"dataframe\">\n",
       "  <thead>\n",
       "    <tr style=\"text-align: right;\">\n",
       "      <th></th>\n",
       "      <th>four</th>\n",
       "      <th>five</th>\n",
       "    </tr>\n",
       "  </thead>\n",
       "  <tbody>\n",
       "    <tr>\n",
       "      <th>2</th>\n",
       "      <td>7</td>\n",
       "      <td>-9.747614</td>\n",
       "    </tr>\n",
       "    <tr>\n",
       "      <th>3</th>\n",
       "      <td>40</td>\n",
       "      <td>8.259031</td>\n",
       "    </tr>\n",
       "    <tr>\n",
       "      <th>4</th>\n",
       "      <td>31</td>\n",
       "      <td>9.983159</td>\n",
       "    </tr>\n",
       "  </tbody>\n",
       "</table>\n",
       "</div>"
      ],
      "text/plain": [
       "   four      five\n",
       "2     7 -9.747614\n",
       "3    40  8.259031\n",
       "4    31  9.983159"
      ]
     },
     "metadata": {},
     "output_type": "display_data"
    },
    {
     "data": {
      "text/html": [
       "<div>\n",
       "<style scoped>\n",
       "    .dataframe tbody tr th:only-of-type {\n",
       "        vertical-align: middle;\n",
       "    }\n",
       "\n",
       "    .dataframe tbody tr th {\n",
       "        vertical-align: top;\n",
       "    }\n",
       "\n",
       "    .dataframe thead th {\n",
       "        text-align: right;\n",
       "    }\n",
       "</style>\n",
       "<table border=\"1\" class=\"dataframe\">\n",
       "  <thead>\n",
       "    <tr style=\"text-align: right;\">\n",
       "      <th></th>\n",
       "      <th>one</th>\n",
       "      <th>three</th>\n",
       "      <th>five</th>\n",
       "    </tr>\n",
       "  </thead>\n",
       "  <tbody>\n",
       "    <tr>\n",
       "      <th>0</th>\n",
       "      <td>755</td>\n",
       "      <td>0.303016</td>\n",
       "      <td>8.841531</td>\n",
       "    </tr>\n",
       "    <tr>\n",
       "      <th>1</th>\n",
       "      <td>397</td>\n",
       "      <td>0.808704</td>\n",
       "      <td>-8.739953</td>\n",
       "    </tr>\n",
       "    <tr>\n",
       "      <th>2</th>\n",
       "      <td>610</td>\n",
       "      <td>0.410973</td>\n",
       "      <td>-9.747614</td>\n",
       "    </tr>\n",
       "    <tr>\n",
       "      <th>3</th>\n",
       "      <td>238</td>\n",
       "      <td>0.207628</td>\n",
       "      <td>8.259031</td>\n",
       "    </tr>\n",
       "    <tr>\n",
       "      <th>4</th>\n",
       "      <td>635</td>\n",
       "      <td>0.407612</td>\n",
       "      <td>9.983159</td>\n",
       "    </tr>\n",
       "    <tr>\n",
       "      <th>5</th>\n",
       "      <td>660</td>\n",
       "      <td>0.638643</td>\n",
       "      <td>-6.165517</td>\n",
       "    </tr>\n",
       "    <tr>\n",
       "      <th>6</th>\n",
       "      <td>745</td>\n",
       "      <td>0.395255</td>\n",
       "      <td>1.749613</td>\n",
       "    </tr>\n",
       "    <tr>\n",
       "      <th>7</th>\n",
       "      <td>545</td>\n",
       "      <td>0.172244</td>\n",
       "      <td>-3.230696</td>\n",
       "    </tr>\n",
       "    <tr>\n",
       "      <th>8</th>\n",
       "      <td>694</td>\n",
       "      <td>0.134322</td>\n",
       "      <td>8.999053</td>\n",
       "    </tr>\n",
       "    <tr>\n",
       "      <th>9</th>\n",
       "      <td>199</td>\n",
       "      <td>0.813318</td>\n",
       "      <td>-1.365264</td>\n",
       "    </tr>\n",
       "  </tbody>\n",
       "</table>\n",
       "</div>"
      ],
      "text/plain": [
       "   one     three      five\n",
       "0  755  0.303016  8.841531\n",
       "1  397  0.808704 -8.739953\n",
       "2  610  0.410973 -9.747614\n",
       "3  238  0.207628  8.259031\n",
       "4  635  0.407612  9.983159\n",
       "5  660  0.638643 -6.165517\n",
       "6  745  0.395255  1.749613\n",
       "7  545  0.172244 -3.230696\n",
       "8  694  0.134322  8.999053\n",
       "9  199  0.813318 -1.365264"
      ]
     },
     "metadata": {},
     "output_type": "display_data"
    }
   ],
   "source": [
    "import numpy as np\n",
    "import pandas as pd\n",
    "data = {'one':np.random.randint(100,1000,10),\n",
    "       'two':np.random.uniform(1,10,10),\n",
    "       'three':np.random.rand(10),\n",
    "       'four':np.random.randint(1,100,10),\n",
    "       'five':np.random.uniform(-10,10,10)}\n",
    "df = pd.DataFrame(data)\n",
    "display(df[['one','three','five']],\n",
    "       df[:][['two','three','four']],\n",
    "       df.iloc[2:5,3:5],\n",
    "       df.iloc[::,[0,2,4]])"
   ]
  },
  {
   "cell_type": "code",
   "execution_count": 52,
   "id": "cd67cba0",
   "metadata": {},
   "outputs": [
    {
     "data": {
      "text/html": [
       "<div>\n",
       "<style scoped>\n",
       "    .dataframe tbody tr th:only-of-type {\n",
       "        vertical-align: middle;\n",
       "    }\n",
       "\n",
       "    .dataframe tbody tr th {\n",
       "        vertical-align: top;\n",
       "    }\n",
       "\n",
       "    .dataframe thead th {\n",
       "        text-align: right;\n",
       "    }\n",
       "</style>\n",
       "<table border=\"1\" class=\"dataframe\">\n",
       "  <thead>\n",
       "    <tr style=\"text-align: right;\">\n",
       "      <th></th>\n",
       "      <th>price</th>\n",
       "      <th>sales</th>\n",
       "      <th>stock</th>\n",
       "    </tr>\n",
       "  </thead>\n",
       "  <tbody>\n",
       "    <tr>\n",
       "      <th>1</th>\n",
       "      <td>300</td>\n",
       "      <td>30</td>\n",
       "      <td>0</td>\n",
       "    </tr>\n",
       "    <tr>\n",
       "      <th>3</th>\n",
       "      <td>500</td>\n",
       "      <td>50</td>\n",
       "      <td>1</td>\n",
       "    </tr>\n",
       "  </tbody>\n",
       "</table>\n",
       "</div>"
      ],
      "text/plain": [
       "   price  sales  stock\n",
       "1    300     30      0\n",
       "3    500     50      1"
      ]
     },
     "metadata": {},
     "output_type": "display_data"
    },
    {
     "data": {
      "text/html": [
       "<div>\n",
       "<style scoped>\n",
       "    .dataframe tbody tr th:only-of-type {\n",
       "        vertical-align: middle;\n",
       "    }\n",
       "\n",
       "    .dataframe tbody tr th {\n",
       "        vertical-align: top;\n",
       "    }\n",
       "\n",
       "    .dataframe thead th {\n",
       "        text-align: right;\n",
       "    }\n",
       "</style>\n",
       "<table border=\"1\" class=\"dataframe\">\n",
       "  <thead>\n",
       "    <tr style=\"text-align: right;\">\n",
       "      <th></th>\n",
       "      <th>price</th>\n",
       "      <th>sales</th>\n",
       "      <th>stock</th>\n",
       "    </tr>\n",
       "  </thead>\n",
       "  <tbody>\n",
       "    <tr>\n",
       "      <th>0</th>\n",
       "      <td>200</td>\n",
       "      <td>0</td>\n",
       "      <td>8</td>\n",
       "    </tr>\n",
       "    <tr>\n",
       "      <th>1</th>\n",
       "      <td>300</td>\n",
       "      <td>30</td>\n",
       "      <td>0</td>\n",
       "    </tr>\n",
       "    <tr>\n",
       "      <th>2</th>\n",
       "      <td>250</td>\n",
       "      <td>25</td>\n",
       "      <td>5</td>\n",
       "    </tr>\n",
       "  </tbody>\n",
       "</table>\n",
       "</div>"
      ],
      "text/plain": [
       "   price  sales  stock\n",
       "0    200      0      8\n",
       "1    300     30      0\n",
       "2    250     25      5"
      ]
     },
     "metadata": {},
     "output_type": "display_data"
    },
    {
     "data": {
      "text/html": [
       "<div>\n",
       "<style scoped>\n",
       "    .dataframe tbody tr th:only-of-type {\n",
       "        vertical-align: middle;\n",
       "    }\n",
       "\n",
       "    .dataframe tbody tr th {\n",
       "        vertical-align: top;\n",
       "    }\n",
       "\n",
       "    .dataframe thead th {\n",
       "        text-align: right;\n",
       "    }\n",
       "</style>\n",
       "<table border=\"1\" class=\"dataframe\">\n",
       "  <thead>\n",
       "    <tr style=\"text-align: right;\">\n",
       "      <th></th>\n",
       "      <th>price</th>\n",
       "      <th>sales</th>\n",
       "      <th>stock</th>\n",
       "    </tr>\n",
       "  </thead>\n",
       "  <tbody>\n",
       "    <tr>\n",
       "      <th>1</th>\n",
       "      <td>300</td>\n",
       "      <td>30</td>\n",
       "      <td>0</td>\n",
       "    </tr>\n",
       "  </tbody>\n",
       "</table>\n",
       "</div>"
      ],
      "text/plain": [
       "   price  sales  stock\n",
       "1    300     30      0"
      ]
     },
     "metadata": {},
     "output_type": "display_data"
    },
    {
     "data": {
      "text/html": [
       "<div>\n",
       "<style scoped>\n",
       "    .dataframe tbody tr th:only-of-type {\n",
       "        vertical-align: middle;\n",
       "    }\n",
       "\n",
       "    .dataframe tbody tr th {\n",
       "        vertical-align: top;\n",
       "    }\n",
       "\n",
       "    .dataframe thead th {\n",
       "        text-align: right;\n",
       "    }\n",
       "</style>\n",
       "<table border=\"1\" class=\"dataframe\">\n",
       "  <thead>\n",
       "    <tr style=\"text-align: right;\">\n",
       "      <th></th>\n",
       "      <th>price</th>\n",
       "      <th>stock</th>\n",
       "    </tr>\n",
       "  </thead>\n",
       "  <tbody>\n",
       "    <tr>\n",
       "      <th>0</th>\n",
       "      <td>200</td>\n",
       "      <td>8</td>\n",
       "    </tr>\n",
       "    <tr>\n",
       "      <th>2</th>\n",
       "      <td>250</td>\n",
       "      <td>5</td>\n",
       "    </tr>\n",
       "    <tr>\n",
       "      <th>3</th>\n",
       "      <td>500</td>\n",
       "      <td>1</td>\n",
       "    </tr>\n",
       "  </tbody>\n",
       "</table>\n",
       "</div>"
      ],
      "text/plain": [
       "   price  stock\n",
       "0    200      8\n",
       "2    250      5\n",
       "3    500      1"
      ]
     },
     "metadata": {},
     "output_type": "display_data"
    }
   ],
   "source": [
    "import pandas as pd\n",
    "data = {'price':[200,300,250,500],\n",
    "       'sales':[0,30,25,50],\n",
    "       'stock':[8,0,5,1]}\n",
    "df = pd.DataFrame(data)\n",
    "display(df[df['price'] >= 300],\n",
    "        df[(df.price >= 200) & (df.price <= 300)],\n",
    "       df[df['stock'] == 0],\n",
    "       df[['price','stock']][df.stock > 0])"
   ]
  },
  {
   "cell_type": "code",
   "execution_count": 53,
   "id": "ffa082ff",
   "metadata": {},
   "outputs": [
    {
     "data": {
      "text/plain": [
       "one      5139.000000\n",
       "two        49.412370\n",
       "three       5.808855\n",
       "four      478.000000\n",
       "five       28.000136\n",
       "dtype: float64"
      ]
     },
     "metadata": {},
     "output_type": "display_data"
    },
    {
     "data": {
      "text/plain": [
       "5139.0"
      ]
     },
     "metadata": {},
     "output_type": "display_data"
    },
    {
     "data": {
      "text/plain": [
       "one      975.000000\n",
       "two        9.746558\n",
       "three      0.959922\n",
       "four      91.000000\n",
       "five       8.496339\n",
       "dtype: float64"
      ]
     },
     "metadata": {},
     "output_type": "display_data"
    },
    {
     "data": {
      "text/plain": [
       "975.0"
      ]
     },
     "metadata": {},
     "output_type": "display_data"
    },
    {
     "data": {
      "text/html": [
       "<div>\n",
       "<style scoped>\n",
       "    .dataframe tbody tr th:only-of-type {\n",
       "        vertical-align: middle;\n",
       "    }\n",
       "\n",
       "    .dataframe tbody tr th {\n",
       "        vertical-align: top;\n",
       "    }\n",
       "\n",
       "    .dataframe thead th {\n",
       "        text-align: right;\n",
       "    }\n",
       "</style>\n",
       "<table border=\"1\" class=\"dataframe\">\n",
       "  <thead>\n",
       "    <tr style=\"text-align: right;\">\n",
       "      <th></th>\n",
       "      <th>one</th>\n",
       "      <th>two</th>\n",
       "      <th>three</th>\n",
       "      <th>four</th>\n",
       "      <th>five</th>\n",
       "    </tr>\n",
       "  </thead>\n",
       "  <tbody>\n",
       "    <tr>\n",
       "      <th>count</th>\n",
       "      <td>10.000000</td>\n",
       "      <td>10.000000</td>\n",
       "      <td>10.000000</td>\n",
       "      <td>10.000000</td>\n",
       "      <td>10.000000</td>\n",
       "    </tr>\n",
       "    <tr>\n",
       "      <th>mean</th>\n",
       "      <td>513.900000</td>\n",
       "      <td>4.941237</td>\n",
       "      <td>0.580885</td>\n",
       "      <td>47.800000</td>\n",
       "      <td>2.800014</td>\n",
       "    </tr>\n",
       "    <tr>\n",
       "      <th>std</th>\n",
       "      <td>282.870386</td>\n",
       "      <td>2.609799</td>\n",
       "      <td>0.319641</td>\n",
       "      <td>27.271475</td>\n",
       "      <td>3.900266</td>\n",
       "    </tr>\n",
       "    <tr>\n",
       "      <th>min</th>\n",
       "      <td>101.000000</td>\n",
       "      <td>1.485533</td>\n",
       "      <td>0.024641</td>\n",
       "      <td>10.000000</td>\n",
       "      <td>-2.047466</td>\n",
       "    </tr>\n",
       "    <tr>\n",
       "      <th>25%</th>\n",
       "      <td>375.000000</td>\n",
       "      <td>3.642539</td>\n",
       "      <td>0.561858</td>\n",
       "      <td>27.500000</td>\n",
       "      <td>-0.835650</td>\n",
       "    </tr>\n",
       "    <tr>\n",
       "      <th>50%</th>\n",
       "      <td>504.000000</td>\n",
       "      <td>4.318477</td>\n",
       "      <td>0.609629</td>\n",
       "      <td>45.000000</td>\n",
       "      <td>3.611862</td>\n",
       "    </tr>\n",
       "    <tr>\n",
       "      <th>75%</th>\n",
       "      <td>696.250000</td>\n",
       "      <td>6.416140</td>\n",
       "      <td>0.793116</td>\n",
       "      <td>69.750000</td>\n",
       "      <td>5.103211</td>\n",
       "    </tr>\n",
       "    <tr>\n",
       "      <th>max</th>\n",
       "      <td>975.000000</td>\n",
       "      <td>9.746558</td>\n",
       "      <td>0.959922</td>\n",
       "      <td>91.000000</td>\n",
       "      <td>8.496339</td>\n",
       "    </tr>\n",
       "  </tbody>\n",
       "</table>\n",
       "</div>"
      ],
      "text/plain": [
       "              one        two      three       four       five\n",
       "count   10.000000  10.000000  10.000000  10.000000  10.000000\n",
       "mean   513.900000   4.941237   0.580885  47.800000   2.800014\n",
       "std    282.870386   2.609799   0.319641  27.271475   3.900266\n",
       "min    101.000000   1.485533   0.024641  10.000000  -2.047466\n",
       "25%    375.000000   3.642539   0.561858  27.500000  -0.835650\n",
       "50%    504.000000   4.318477   0.609629  45.000000   3.611862\n",
       "75%    696.250000   6.416140   0.793116  69.750000   5.103211\n",
       "max    975.000000   9.746558   0.959922  91.000000   8.496339"
      ]
     },
     "metadata": {},
     "output_type": "display_data"
    },
    {
     "name": "stdout",
     "output_type": "stream",
     "text": [
      "<class 'pandas.core.frame.DataFrame'>\n",
      "RangeIndex: 10 entries, 0 to 9\n",
      "Data columns (total 5 columns):\n",
      " #   Column  Non-Null Count  Dtype  \n",
      "---  ------  --------------  -----  \n",
      " 0   one     10 non-null     int32  \n",
      " 1   two     10 non-null     float64\n",
      " 2   three   10 non-null     float64\n",
      " 3   four    10 non-null     int32  \n",
      " 4   five    10 non-null     float64\n",
      "dtypes: float64(3), int32(2)\n",
      "memory usage: 448.0 bytes\n"
     ]
    },
    {
     "data": {
      "text/html": [
       "<div>\n",
       "<style scoped>\n",
       "    .dataframe tbody tr th:only-of-type {\n",
       "        vertical-align: middle;\n",
       "    }\n",
       "\n",
       "    .dataframe tbody tr th {\n",
       "        vertical-align: top;\n",
       "    }\n",
       "\n",
       "    .dataframe thead th {\n",
       "        text-align: right;\n",
       "    }\n",
       "</style>\n",
       "<table border=\"1\" class=\"dataframe\">\n",
       "  <thead>\n",
       "    <tr style=\"text-align: right;\">\n",
       "      <th></th>\n",
       "      <th>col1</th>\n",
       "      <th>col2</th>\n",
       "      <th>three</th>\n",
       "      <th>four</th>\n",
       "      <th>five</th>\n",
       "    </tr>\n",
       "  </thead>\n",
       "  <tbody>\n",
       "    <tr>\n",
       "      <th>0</th>\n",
       "      <td>420</td>\n",
       "      <td>3.686764</td>\n",
       "      <td>0.601044</td>\n",
       "      <td>25</td>\n",
       "      <td>4.148608</td>\n",
       "    </tr>\n",
       "    <tr>\n",
       "      <th>1</th>\n",
       "      <td>360</td>\n",
       "      <td>3.627798</td>\n",
       "      <td>0.860154</td>\n",
       "      <td>57</td>\n",
       "      <td>-1.129199</td>\n",
       "    </tr>\n",
       "    <tr>\n",
       "      <th>2</th>\n",
       "      <td>975</td>\n",
       "      <td>5.236418</td>\n",
       "      <td>0.618214</td>\n",
       "      <td>37</td>\n",
       "      <td>5.421412</td>\n",
       "    </tr>\n",
       "    <tr>\n",
       "      <th>3</th>\n",
       "      <td>721</td>\n",
       "      <td>9.746558</td>\n",
       "      <td>0.024641</td>\n",
       "      <td>74</td>\n",
       "      <td>3.432073</td>\n",
       "    </tr>\n",
       "    <tr>\n",
       "      <th>4</th>\n",
       "      <td>124</td>\n",
       "      <td>1.485533</td>\n",
       "      <td>0.573024</td>\n",
       "      <td>78</td>\n",
       "      <td>8.496339</td>\n",
       "    </tr>\n",
       "    <tr>\n",
       "      <th>5</th>\n",
       "      <td>622</td>\n",
       "      <td>4.330566</td>\n",
       "      <td>0.034284</td>\n",
       "      <td>35</td>\n",
       "      <td>-1.969497</td>\n",
       "    </tr>\n",
       "    <tr>\n",
       "      <th>6</th>\n",
       "      <td>579</td>\n",
       "      <td>6.809380</td>\n",
       "      <td>0.959922</td>\n",
       "      <td>18</td>\n",
       "      <td>3.791651</td>\n",
       "    </tr>\n",
       "    <tr>\n",
       "      <th>7</th>\n",
       "      <td>808</td>\n",
       "      <td>2.044401</td>\n",
       "      <td>0.796513</td>\n",
       "      <td>10</td>\n",
       "      <td>7.811219</td>\n",
       "    </tr>\n",
       "    <tr>\n",
       "      <th>8</th>\n",
       "      <td>429</td>\n",
       "      <td>4.306388</td>\n",
       "      <td>0.558135</td>\n",
       "      <td>53</td>\n",
       "      <td>-2.047466</td>\n",
       "    </tr>\n",
       "    <tr>\n",
       "      <th>9</th>\n",
       "      <td>101</td>\n",
       "      <td>8.138565</td>\n",
       "      <td>0.782924</td>\n",
       "      <td>91</td>\n",
       "      <td>0.044996</td>\n",
       "    </tr>\n",
       "  </tbody>\n",
       "</table>\n",
       "</div>"
      ],
      "text/plain": [
       "   col1      col2     three  four      five\n",
       "0   420  3.686764  0.601044    25  4.148608\n",
       "1   360  3.627798  0.860154    57 -1.129199\n",
       "2   975  5.236418  0.618214    37  5.421412\n",
       "3   721  9.746558  0.024641    74  3.432073\n",
       "4   124  1.485533  0.573024    78  8.496339\n",
       "5   622  4.330566  0.034284    35 -1.969497\n",
       "6   579  6.809380  0.959922    18  3.791651\n",
       "7   808  2.044401  0.796513    10  7.811219\n",
       "8   429  4.306388  0.558135    53 -2.047466\n",
       "9   101  8.138565  0.782924    91  0.044996"
      ]
     },
     "execution_count": 53,
     "metadata": {},
     "output_type": "execute_result"
    }
   ],
   "source": [
    "import numpy as np\n",
    "import pandas as pd\n",
    "data = {'one':np.random.randint(100,1000,10),\n",
    "       'two':np.random.uniform(1,10,10),\n",
    "       'three':np.random.rand(10),\n",
    "       'four':np.random.randint(1,100,10),\n",
    "       'five':np.random.uniform(-10,10,10)}\n",
    "df = pd.DataFrame(data)\n",
    "display(df.sum(),\n",
    "       df.sum()['one'],\n",
    "       df.max(),\n",
    "       df.max()['one'],\n",
    "       df.describe())\n",
    "df.info()\n",
    "df.rename(columns={'one':'col1','two':'col2'})"
   ]
  },
  {
   "cell_type": "code",
   "execution_count": 54,
   "id": "334cb02d",
   "metadata": {},
   "outputs": [
    {
     "data": {
      "text/html": [
       "<div>\n",
       "<style scoped>\n",
       "    .dataframe tbody tr th:only-of-type {\n",
       "        vertical-align: middle;\n",
       "    }\n",
       "\n",
       "    .dataframe tbody tr th {\n",
       "        vertical-align: top;\n",
       "    }\n",
       "\n",
       "    .dataframe thead th {\n",
       "        text-align: right;\n",
       "    }\n",
       "</style>\n",
       "<table border=\"1\" class=\"dataframe\">\n",
       "  <thead>\n",
       "    <tr style=\"text-align: right;\">\n",
       "      <th></th>\n",
       "      <th>one</th>\n",
       "      <th>two</th>\n",
       "      <th>three</th>\n",
       "      <th>four</th>\n",
       "      <th>five</th>\n",
       "    </tr>\n",
       "  </thead>\n",
       "  <tbody>\n",
       "    <tr>\n",
       "      <th>0</th>\n",
       "      <td>105</td>\n",
       "      <td>9.714917</td>\n",
       "      <td>0.480905</td>\n",
       "      <td>44</td>\n",
       "      <td>5.824568</td>\n",
       "    </tr>\n",
       "    <tr>\n",
       "      <th>1</th>\n",
       "      <td>347</td>\n",
       "      <td>6.076264</td>\n",
       "      <td>0.266251</td>\n",
       "      <td>56</td>\n",
       "      <td>-0.758420</td>\n",
       "    </tr>\n",
       "    <tr>\n",
       "      <th>2</th>\n",
       "      <td>110</td>\n",
       "      <td>9.663630</td>\n",
       "      <td>0.558145</td>\n",
       "      <td>96</td>\n",
       "      <td>-9.420160</td>\n",
       "    </tr>\n",
       "    <tr>\n",
       "      <th>...</th>\n",
       "      <td>...</td>\n",
       "      <td>...</td>\n",
       "      <td>...</td>\n",
       "      <td>...</td>\n",
       "      <td>...</td>\n",
       "    </tr>\n",
       "    <tr>\n",
       "      <th>7</th>\n",
       "      <td>824</td>\n",
       "      <td>4.728549</td>\n",
       "      <td>0.231191</td>\n",
       "      <td>77</td>\n",
       "      <td>5.866393</td>\n",
       "    </tr>\n",
       "    <tr>\n",
       "      <th>8</th>\n",
       "      <td>256</td>\n",
       "      <td>8.834852</td>\n",
       "      <td>0.601589</td>\n",
       "      <td>59</td>\n",
       "      <td>7.583669</td>\n",
       "    </tr>\n",
       "    <tr>\n",
       "      <th>9</th>\n",
       "      <td>472</td>\n",
       "      <td>6.972474</td>\n",
       "      <td>0.816969</td>\n",
       "      <td>35</td>\n",
       "      <td>-5.542109</td>\n",
       "    </tr>\n",
       "  </tbody>\n",
       "</table>\n",
       "<p>10 rows × 5 columns</p>\n",
       "</div>"
      ],
      "text/plain": [
       "    one       two     three  four      five\n",
       "0   105  9.714917  0.480905    44  5.824568\n",
       "1   347  6.076264  0.266251    56 -0.758420\n",
       "2   110  9.663630  0.558145    96 -9.420160\n",
       "..  ...       ...       ...   ...       ...\n",
       "7   824  4.728549  0.231191    77  5.866393\n",
       "8   256  8.834852  0.601589    59  7.583669\n",
       "9   472  6.972474  0.816969    35 -5.542109\n",
       "\n",
       "[10 rows x 5 columns]"
      ]
     },
     "metadata": {},
     "output_type": "display_data"
    }
   ],
   "source": [
    "import numpy as np\n",
    "import pandas as pd\n",
    "data = {'one':np.random.randint(100,1000,10),\n",
    "       'two':np.random.uniform(1,10,10),\n",
    "       'three':np.random.rand(10),\n",
    "       'four':np.random.randint(1,100,10),\n",
    "       'five':np.random.uniform(-10,10,10)}\n",
    "df = pd.DataFrame(data)\n",
    "with pd.option_context('display.max_rows',6):display(df)"
   ]
  },
  {
   "cell_type": "code",
   "execution_count": 56,
   "id": "312dceb6",
   "metadata": {},
   "outputs": [
    {
     "name": "stdout",
     "output_type": "stream",
     "text": [
      "<module 'matplotlib.pyplot' from 'C:\\\\ProgramData\\\\Anaconda3\\\\lib\\\\site-packages\\\\matplotlib\\\\pyplot.py'>\n"
     ]
    }
   ],
   "source": [
    "import matplotlib.pyplot as plt\n",
    "\n",
    "print(plt)"
   ]
  },
  {
   "cell_type": "code",
   "execution_count": 57,
   "id": "28001129",
   "metadata": {},
   "outputs": [
    {
     "data": {
      "image/png": "[encoded data removed]",
      "text/plain": [
       "<Figure size 432x288 with 1 Axes>"
      ]
     },
     "metadata": {
      "needs_background": "light"
     },
     "output_type": "display_data"
    }
   ],
   "source": [
    "import matplotlib.pyplot as plt\n",
    "\n",
    "y = [2,20,10,15,10]\n",
    "x = ['Mon','Tue','Wed','Thu','Fri']\n",
    "\n",
    "plt.plot(x,y)\n",
    "plt.show()"
   ]
  },
  {
   "cell_type": "code",
   "execution_count": 68,
   "id": "93fa777a",
   "metadata": {},
   "outputs": [
    {
     "data": {
      "image/png": "[encoded data removed]",
      "text/plain": [
       "<Figure size 1080x360 with 1 Axes>"
      ]
     },
     "metadata": {
      "needs_background": "light"
     },
     "output_type": "display_data"
    }
   ],
   "source": [
    "import matplotlib.pyplot as plt\n",
    "import numpy as np\n",
    "x = np.random.randint(1,11,5)\n",
    "x = list('ABCDE')\n",
    "plt.rcParams['figure.figsize'] = (15,5) # width=10  height=5\n",
    "\n",
    "#plt.figure(figsize=(10,5))\n",
    "plt.plot(x,y)\n",
    "plt.show()"
   ]
  },
  {
   "cell_type": "code",
   "execution_count": null,
   "id": "eb42e799",
   "metadata": {},
   "outputs": [],
   "source": []
  }
 ],
 "metadata": {
  "kernelspec": {
   "display_name": "Python 3",
   "language": "python",
   "name": "python3"
  },
  "language_info": {
   "codemirror_mode": {
    "name": "ipython",
    "version": 3
   },
   "file_extension": ".py",
   "mimetype": "text/x-python",
   "name": "python",
   "nbconvert_exporter": "python",
   "pygments_lexer": "ipython3",
   "version": "3.8.8"
  }
 },
 "nbformat": 4,
 "nbformat_minor": 5
}
