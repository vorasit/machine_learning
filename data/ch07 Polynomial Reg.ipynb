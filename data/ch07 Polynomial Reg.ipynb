{
 "cells": [
  {
   "cell_type": "markdown",
   "metadata": {},
   "source": [
    "# Polynomial Regression"
   ]
  },
  {
   "cell_type": "code",
   "execution_count": 1,
   "metadata": {},
   "outputs": [],
   "source": [
    "import pandas as pd\n",
    "import matplotlib.pyplot as plt\n",
    "import seaborn as sns\n",
    "import numpy as np"
   ]
  },
  {
   "cell_type": "markdown",
   "metadata": {},
   "source": [
    "### Data"
   ]
  },
  {
   "cell_type": "code",
   "execution_count": 2,
   "metadata": {},
   "outputs": [
    {
     "data": {
      "text/html": [
       "<div>\n",
       "<style scoped>\n",
       "    .dataframe tbody tr th:only-of-type {\n",
       "        vertical-align: middle;\n",
       "    }\n",
       "\n",
       "    .dataframe tbody tr th {\n",
       "        vertical-align: top;\n",
       "    }\n",
       "\n",
       "    .dataframe thead th {\n",
       "        text-align: right;\n",
       "    }\n",
       "</style>\n",
       "<table border=\"1\" class=\"dataframe\">\n",
       "  <thead>\n",
       "    <tr style=\"text-align: right;\">\n",
       "      <th></th>\n",
       "      <th>SGP</th>\n",
       "      <th>THA</th>\n",
       "      <th>USA</th>\n",
       "      <th>VNM</th>\n",
       "    </tr>\n",
       "  </thead>\n",
       "  <tbody>\n",
       "    <tr>\n",
       "      <th>1960</th>\n",
       "      <td>704462302.4</td>\n",
       "      <td>2.760747e+09</td>\n",
       "      <td>5.433000e+11</td>\n",
       "      <td>NaN</td>\n",
       "    </tr>\n",
       "    <tr>\n",
       "      <th>1961</th>\n",
       "      <td>764308114.5</td>\n",
       "      <td>3.034044e+09</td>\n",
       "      <td>5.633000e+11</td>\n",
       "      <td>NaN</td>\n",
       "    </tr>\n",
       "    <tr>\n",
       "      <th>1962</th>\n",
       "      <td>825885273.7</td>\n",
       "      <td>3.308913e+09</td>\n",
       "      <td>6.051000e+11</td>\n",
       "      <td>NaN</td>\n",
       "    </tr>\n",
       "    <tr>\n",
       "      <th>1963</th>\n",
       "      <td>917222004.4</td>\n",
       "      <td>3.540403e+09</td>\n",
       "      <td>6.386000e+11</td>\n",
       "      <td>NaN</td>\n",
       "    </tr>\n",
       "    <tr>\n",
       "      <th>1964</th>\n",
       "      <td>893734483.2</td>\n",
       "      <td>3.889130e+09</td>\n",
       "      <td>6.858000e+11</td>\n",
       "      <td>NaN</td>\n",
       "    </tr>\n",
       "  </tbody>\n",
       "</table>\n",
       "</div>"
      ],
      "text/plain": [
       "              SGP           THA           USA  VNM\n",
       "1960  704462302.4  2.760747e+09  5.433000e+11  NaN\n",
       "1961  764308114.5  3.034044e+09  5.633000e+11  NaN\n",
       "1962  825885273.7  3.308913e+09  6.051000e+11  NaN\n",
       "1963  917222004.4  3.540403e+09  6.386000e+11  NaN\n",
       "1964  893734483.2  3.889130e+09  6.858000e+11  NaN"
      ]
     },
     "execution_count": 2,
     "metadata": {},
     "output_type": "execute_result"
    }
   ],
   "source": [
    "# df = pd.read_csv('data/gdp4c.csv')\n",
    "df = pd.read_csv('data/gdp4c.csv', index_col=0)\n",
    "df.head()              # NaN = Not a Number"
   ]
  },
  {
   "cell_type": "code",
   "execution_count": 3,
   "metadata": {},
   "outputs": [
    {
     "data": {
      "text/html": [
       "<div>\n",
       "<style scoped>\n",
       "    .dataframe tbody tr th:only-of-type {\n",
       "        vertical-align: middle;\n",
       "    }\n",
       "\n",
       "    .dataframe tbody tr th {\n",
       "        vertical-align: top;\n",
       "    }\n",
       "\n",
       "    .dataframe thead th {\n",
       "        text-align: right;\n",
       "    }\n",
       "</style>\n",
       "<table border=\"1\" class=\"dataframe\">\n",
       "  <thead>\n",
       "    <tr style=\"text-align: right;\">\n",
       "      <th></th>\n",
       "      <th>SGP</th>\n",
       "      <th>THA</th>\n",
       "      <th>USA</th>\n",
       "      <th>VNM</th>\n",
       "    </tr>\n",
       "  </thead>\n",
       "  <tbody>\n",
       "    <tr>\n",
       "      <th>2013</th>\n",
       "      <td>3.044540e+11</td>\n",
       "      <td>4.203330e+11</td>\n",
       "      <td>1.669150e+13</td>\n",
       "      <td>1.712220e+11</td>\n",
       "    </tr>\n",
       "    <tr>\n",
       "      <th>2014</th>\n",
       "      <td>3.115390e+11</td>\n",
       "      <td>4.073390e+11</td>\n",
       "      <td>1.742760e+13</td>\n",
       "      <td>1.862050e+11</td>\n",
       "    </tr>\n",
       "    <tr>\n",
       "      <th>2015</th>\n",
       "      <td>3.040980e+11</td>\n",
       "      <td>4.013990e+11</td>\n",
       "      <td>1.812070e+13</td>\n",
       "      <td>1.932410e+11</td>\n",
       "    </tr>\n",
       "    <tr>\n",
       "      <th>2016</th>\n",
       "      <td>3.097640e+11</td>\n",
       "      <td>4.117550e+11</td>\n",
       "      <td>1.862450e+13</td>\n",
       "      <td>2.052760e+11</td>\n",
       "    </tr>\n",
       "    <tr>\n",
       "      <th>2017</th>\n",
       "      <td>3.239070e+11</td>\n",
       "      <td>4.552210e+11</td>\n",
       "      <td>1.939060e+13</td>\n",
       "      <td>2.238640e+11</td>\n",
       "    </tr>\n",
       "  </tbody>\n",
       "</table>\n",
       "</div>"
      ],
      "text/plain": [
       "               SGP           THA           USA           VNM\n",
       "2013  3.044540e+11  4.203330e+11  1.669150e+13  1.712220e+11\n",
       "2014  3.115390e+11  4.073390e+11  1.742760e+13  1.862050e+11\n",
       "2015  3.040980e+11  4.013990e+11  1.812070e+13  1.932410e+11\n",
       "2016  3.097640e+11  4.117550e+11  1.862450e+13  2.052760e+11\n",
       "2017  3.239070e+11  4.552210e+11  1.939060e+13  2.238640e+11"
      ]
     },
     "execution_count": 3,
     "metadata": {},
     "output_type": "execute_result"
    }
   ],
   "source": [
    "df.tail()"
   ]
  },
  {
   "cell_type": "code",
   "execution_count": 4,
   "metadata": {},
   "outputs": [
    {
     "data": {
      "text/html": [
       "<div>\n",
       "<style scoped>\n",
       "    .dataframe tbody tr th:only-of-type {\n",
       "        vertical-align: middle;\n",
       "    }\n",
       "\n",
       "    .dataframe tbody tr th {\n",
       "        vertical-align: top;\n",
       "    }\n",
       "\n",
       "    .dataframe thead th {\n",
       "        text-align: right;\n",
       "    }\n",
       "</style>\n",
       "<table border=\"1\" class=\"dataframe\">\n",
       "  <thead>\n",
       "    <tr style=\"text-align: right;\">\n",
       "      <th></th>\n",
       "      <th>SGP</th>\n",
       "      <th>THA</th>\n",
       "      <th>USA</th>\n",
       "      <th>VNM</th>\n",
       "    </tr>\n",
       "  </thead>\n",
       "  <tbody>\n",
       "    <tr>\n",
       "      <th>count</th>\n",
       "      <td>5.800000e+01</td>\n",
       "      <td>5.800000e+01</td>\n",
       "      <td>5.800000e+01</td>\n",
       "      <td>3.300000e+01</td>\n",
       "    </tr>\n",
       "    <tr>\n",
       "      <th>mean</th>\n",
       "      <td>8.043585e+10</td>\n",
       "      <td>1.227440e+11</td>\n",
       "      <td>6.991516e+12</td>\n",
       "      <td>6.878553e+10</td>\n",
       "    </tr>\n",
       "    <tr>\n",
       "      <th>std</th>\n",
       "      <td>1.007247e+11</td>\n",
       "      <td>1.353708e+11</td>\n",
       "      <td>5.857794e+12</td>\n",
       "      <td>6.664636e+10</td>\n",
       "    </tr>\n",
       "    <tr>\n",
       "      <th>min</th>\n",
       "      <td>7.044623e+08</td>\n",
       "      <td>2.760747e+09</td>\n",
       "      <td>5.433000e+11</td>\n",
       "      <td>6.293305e+09</td>\n",
       "    </tr>\n",
       "    <tr>\n",
       "      <th>25%</th>\n",
       "      <td>5.320927e+09</td>\n",
       "      <td>1.399794e+10</td>\n",
       "      <td>1.583852e+12</td>\n",
       "      <td>2.465747e+10</td>\n",
       "    </tr>\n",
       "    <tr>\n",
       "      <th>50%</th>\n",
       "      <td>2.788040e+10</td>\n",
       "      <td>6.695904e+10</td>\n",
       "      <td>5.455160e+12</td>\n",
       "      <td>3.506411e+10</td>\n",
       "    </tr>\n",
       "    <tr>\n",
       "      <th>75%</th>\n",
       "      <td>9.937334e+10</td>\n",
       "      <td>1.719910e+11</td>\n",
       "      <td>1.137740e+13</td>\n",
       "      <td>1.060150e+11</td>\n",
       "    </tr>\n",
       "    <tr>\n",
       "      <th>max</th>\n",
       "      <td>3.239070e+11</td>\n",
       "      <td>4.552210e+11</td>\n",
       "      <td>1.939060e+13</td>\n",
       "      <td>2.238640e+11</td>\n",
       "    </tr>\n",
       "  </tbody>\n",
       "</table>\n",
       "</div>"
      ],
      "text/plain": [
       "                SGP           THA           USA           VNM\n",
       "count  5.800000e+01  5.800000e+01  5.800000e+01  3.300000e+01\n",
       "mean   8.043585e+10  1.227440e+11  6.991516e+12  6.878553e+10\n",
       "std    1.007247e+11  1.353708e+11  5.857794e+12  6.664636e+10\n",
       "min    7.044623e+08  2.760747e+09  5.433000e+11  6.293305e+09\n",
       "25%    5.320927e+09  1.399794e+10  1.583852e+12  2.465747e+10\n",
       "50%    2.788040e+10  6.695904e+10  5.455160e+12  3.506411e+10\n",
       "75%    9.937334e+10  1.719910e+11  1.137740e+13  1.060150e+11\n",
       "max    3.239070e+11  4.552210e+11  1.939060e+13  2.238640e+11"
      ]
     },
     "execution_count": 4,
     "metadata": {},
     "output_type": "execute_result"
    }
   ],
   "source": [
    "df.describe()"
   ]
  },
  {
   "cell_type": "code",
   "execution_count": 5,
   "metadata": {},
   "outputs": [
    {
     "data": {
      "text/plain": [
       "(58, 4)"
      ]
     },
     "execution_count": 5,
     "metadata": {},
     "output_type": "execute_result"
    }
   ],
   "source": [
    "df.shape        # มิติข้อมูล"
   ]
  },
  {
   "cell_type": "code",
   "execution_count": 6,
   "metadata": {},
   "outputs": [
    {
     "data": {
      "text/plain": [
       "SGP     0\n",
       "THA     0\n",
       "USA     0\n",
       "VNM    25\n",
       "dtype: int64"
      ]
     },
     "execution_count": 6,
     "metadata": {},
     "output_type": "execute_result"
    }
   ],
   "source": [
    "# ตรวจสอบว่ามีข้อมูลสูญหายหรือไม่? Check missing data\n",
    "df.isnull().sum()"
   ]
  },
  {
   "cell_type": "markdown",
   "metadata": {},
   "source": [
    "### Data Visualization"
   ]
  },
  {
   "cell_type": "code",
   "execution_count": 7,
   "metadata": {},
   "outputs": [
    {
     "data": {
      "image/png": "[encoded data removed]",
      "text/plain": [
       "<Figure size 504x288 with 1 Axes>"
      ]
     },
     "metadata": {},
     "output_type": "display_data"
    }
   ],
   "source": [
    "sns.set_style('darkgrid')\n",
    "plt.figure(figsize=(7,4))\n",
    "plt.scatter(df.index, df.THA, label='THA')\n",
    "plt.scatter(df.index, df.SGP, label='SGP')\n",
    "plt.scatter(df.index, df.VNM, label='VNM')\n",
    "plt.ylabel('GDP')\n",
    "plt.legend()\n",
    "plt.show()"
   ]
  },
  {
   "cell_type": "code",
   "execution_count": 8,
   "metadata": {},
   "outputs": [
    {
     "data": {
      "image/png": "[encoded data removed]",
      "text/plain": [
       "<Figure size 432x288 with 1 Axes>"
      ]
     },
     "metadata": {},
     "output_type": "display_data"
    }
   ],
   "source": [
    "sns.set_style('darkgrid')\n",
    "sns.scatterplot(data=df, x=df.index, y='THA', label='THA')\n",
    "sns.scatterplot(data=df, x=df.index, y='SGP', label='SGP')\n",
    "sns.scatterplot(data=df, x=df.index, y='VNM', label='VNM')\n",
    "plt.ylabel('GDP')\n",
    "plt.show()"
   ]
  },
  {
   "cell_type": "code",
   "execution_count": 9,
   "metadata": {},
   "outputs": [
    {
     "data": {
      "image/png": "[encoded data removed]",
      "text/plain": [
       "<Figure size 432x288 with 1 Axes>"
      ]
     },
     "metadata": {},
     "output_type": "display_data"
    }
   ],
   "source": [
    "plt.rcParams.update({'font.size':14})  \n",
    "plt.scatter(df.index, df.THA)\n",
    "plt.ylabel('GDP')\n",
    "plt.show()"
   ]
  },
  {
   "cell_type": "markdown",
   "metadata": {},
   "source": [
    "## Linear Regression"
   ]
  },
  {
   "cell_type": "code",
   "execution_count": 10,
   "metadata": {},
   "outputs": [],
   "source": [
    "from sklearn.linear_model import LinearRegression"
   ]
  },
  {
   "cell_type": "code",
   "execution_count": 11,
   "metadata": {},
   "outputs": [
    {
     "data": {
      "text/html": [
       "<div>\n",
       "<style scoped>\n",
       "    .dataframe tbody tr th:only-of-type {\n",
       "        vertical-align: middle;\n",
       "    }\n",
       "\n",
       "    .dataframe tbody tr th {\n",
       "        vertical-align: top;\n",
       "    }\n",
       "\n",
       "    .dataframe thead th {\n",
       "        text-align: right;\n",
       "    }\n",
       "</style>\n",
       "<table border=\"1\" class=\"dataframe\">\n",
       "  <thead>\n",
       "    <tr style=\"text-align: right;\">\n",
       "      <th></th>\n",
       "      <th>SGP</th>\n",
       "      <th>THA</th>\n",
       "      <th>USA</th>\n",
       "      <th>VNM</th>\n",
       "    </tr>\n",
       "  </thead>\n",
       "  <tbody>\n",
       "    <tr>\n",
       "      <th>1960</th>\n",
       "      <td>704462302.4</td>\n",
       "      <td>2.760747e+09</td>\n",
       "      <td>5.433000e+11</td>\n",
       "      <td>NaN</td>\n",
       "    </tr>\n",
       "    <tr>\n",
       "      <th>1961</th>\n",
       "      <td>764308114.5</td>\n",
       "      <td>3.034044e+09</td>\n",
       "      <td>5.633000e+11</td>\n",
       "      <td>NaN</td>\n",
       "    </tr>\n",
       "    <tr>\n",
       "      <th>1962</th>\n",
       "      <td>825885273.7</td>\n",
       "      <td>3.308913e+09</td>\n",
       "      <td>6.051000e+11</td>\n",
       "      <td>NaN</td>\n",
       "    </tr>\n",
       "    <tr>\n",
       "      <th>1963</th>\n",
       "      <td>917222004.4</td>\n",
       "      <td>3.540403e+09</td>\n",
       "      <td>6.386000e+11</td>\n",
       "      <td>NaN</td>\n",
       "    </tr>\n",
       "    <tr>\n",
       "      <th>1964</th>\n",
       "      <td>893734483.2</td>\n",
       "      <td>3.889130e+09</td>\n",
       "      <td>6.858000e+11</td>\n",
       "      <td>NaN</td>\n",
       "    </tr>\n",
       "  </tbody>\n",
       "</table>\n",
       "</div>"
      ],
      "text/plain": [
       "              SGP           THA           USA  VNM\n",
       "1960  704462302.4  2.760747e+09  5.433000e+11  NaN\n",
       "1961  764308114.5  3.034044e+09  5.633000e+11  NaN\n",
       "1962  825885273.7  3.308913e+09  6.051000e+11  NaN\n",
       "1963  917222004.4  3.540403e+09  6.386000e+11  NaN\n",
       "1964  893734483.2  3.889130e+09  6.858000e+11  NaN"
      ]
     },
     "execution_count": 11,
     "metadata": {},
     "output_type": "execute_result"
    }
   ],
   "source": [
    "df.head()"
   ]
  },
  {
   "cell_type": "code",
   "execution_count": 13,
   "metadata": {},
   "outputs": [
    {
     "data": {
      "text/plain": [
       "Int64Index([1960, 1961, 1962, 1963, 1964], dtype='int64')"
      ]
     },
     "execution_count": 13,
     "metadata": {},
     "output_type": "execute_result"
    }
   ],
   "source": [
    "x = df.index\n",
    "x[:5]"
   ]
  },
  {
   "cell_type": "code",
   "execution_count": 14,
   "metadata": {},
   "outputs": [
    {
     "data": {
      "text/plain": [
       "array([[1960],\n",
       "       [1961],\n",
       "       [1962],\n",
       "       [1963],\n",
       "       [1964]], dtype=int64)"
      ]
     },
     "execution_count": 14,
     "metadata": {},
     "output_type": "execute_result"
    }
   ],
   "source": [
    "x = df.index.values.reshape(-1, 1)\n",
    "x[:5]"
   ]
  },
  {
   "cell_type": "code",
   "execution_count": 15,
   "metadata": {},
   "outputs": [
    {
     "data": {
      "text/plain": [
       "1960    2.760747e+09\n",
       "1961    3.034044e+09\n",
       "1962    3.308913e+09\n",
       "1963    3.540403e+09\n",
       "1964    3.889130e+09\n",
       "Name: THA, dtype: float64"
      ]
     },
     "execution_count": 15,
     "metadata": {},
     "output_type": "execute_result"
    }
   ],
   "source": [
    "y = df.THA\n",
    "y[:5]"
   ]
  },
  {
   "cell_type": "code",
   "execution_count": 16,
   "metadata": {},
   "outputs": [
    {
     "data": {
      "text/plain": [
       "LinearRegression()"
      ]
     },
     "execution_count": 16,
     "metadata": {},
     "output_type": "execute_result"
    }
   ],
   "source": [
    "model = LinearRegression()\n",
    "model.fit(x, y)"
   ]
  },
  {
   "cell_type": "markdown",
   "metadata": {},
   "source": [
    "### ประเมิน (Evaluation)"
   ]
  },
  {
   "cell_type": "code",
   "execution_count": 17,
   "metadata": {},
   "outputs": [
    {
     "data": {
      "text/plain": [
       "0.8129995489142143"
      ]
     },
     "execution_count": 17,
     "metadata": {},
     "output_type": "execute_result"
    }
   ],
   "source": [
    "model.score(x, y)   # ประเมิน (Evaluate the Model)"
   ]
  },
  {
   "cell_type": "markdown",
   "metadata": {},
   "source": [
    "### Visualize model"
   ]
  },
  {
   "cell_type": "code",
   "execution_count": 18,
   "metadata": {},
   "outputs": [
    {
     "data": {
      "image/png": "[encoded data removed]",
      "text/plain": [
       "<Figure size 432x288 with 1 Axes>"
      ]
     },
     "metadata": {},
     "output_type": "display_data"
    }
   ],
   "source": [
    "y_predict = model.predict(x)\n",
    "\n",
    "plt.scatter(x, y, color='b',s=20)  # ข้อมูลจริง     # color, size\n",
    "plt.plot(x, y_predict, linewidth='2', color='r')   # model\n",
    "\n",
    "plt.show()"
   ]
  },
  {
   "cell_type": "code",
   "execution_count": 19,
   "metadata": {},
   "outputs": [],
   "source": [
    "from sklearn.metrics import mean_squared_error, mean_absolute_error, r2_score"
   ]
  },
  {
   "cell_type": "code",
   "execution_count": 20,
   "metadata": {},
   "outputs": [
    {
     "data": {
      "text/plain": [
       "3.367746040591713e+21"
      ]
     },
     "execution_count": 20,
     "metadata": {},
     "output_type": "execute_result"
    }
   ],
   "source": [
    "mean_squared_error(y, y_predict)"
   ]
  },
  {
   "cell_type": "code",
   "execution_count": 21,
   "metadata": {},
   "outputs": [
    {
     "data": {
      "text/plain": [
       "48790601316.37217"
      ]
     },
     "execution_count": 21,
     "metadata": {},
     "output_type": "execute_result"
    }
   ],
   "source": [
    "mean_absolute_error(y, y_predict)"
   ]
  },
  {
   "cell_type": "code",
   "execution_count": 22,
   "metadata": {},
   "outputs": [
    {
     "data": {
      "text/plain": [
       "58032284468.14508"
      ]
     },
     "execution_count": 22,
     "metadata": {},
     "output_type": "execute_result"
    }
   ],
   "source": [
    "np.sqrt(mean_squared_error(y, y_predict))"
   ]
  },
  {
   "cell_type": "code",
   "execution_count": 23,
   "metadata": {},
   "outputs": [
    {
     "name": "stdout",
     "output_type": "stream",
     "text": [
      "R2 = 0.81300 \n",
      "R2 = 0.81300 \n",
      "MSE = 3.3677e+21 \n",
      "RMSE = 5.8032e+10 \n"
     ]
    }
   ],
   "source": [
    "print('R2 = {:.5f} '.format(model.score(x, y)))\n",
    "print('R2 = {:.5f} '.format(r2_score(y, y_predict)))\n",
    "\n",
    "print('MSE = {:.4e} '.format(mean_squared_error(y, y_predict)))\n",
    "print('RMSE = {:.4e} '.format(np.sqrt(mean_squared_error(y, y_predict))))"
   ]
  },
  {
   "cell_type": "markdown",
   "metadata": {},
   "source": [
    "### ทำนาย (Predict)"
   ]
  },
  {
   "cell_type": "code",
   "execution_count": 24,
   "metadata": {},
   "outputs": [
    {
     "name": "stdout",
     "output_type": "stream",
     "text": [
      "350,427,351,989 \n",
      "3.504274E+11 \n"
     ]
    }
   ],
   "source": [
    "y_predict = model.predict([[2020]])  # GDP ใน ปี 2020 มีค่าเท่าใด\n",
    "\n",
    "y_predict[0]\n",
    "# \n",
    "\n",
    "print('{:,.0f} '.format(y_predict[0]))\n",
    "print('{:,.6E} '.format(y_predict[0]))"
   ]
  },
  {
   "cell_type": "code",
   "execution_count": 25,
   "metadata": {},
   "outputs": [
    {
     "data": {
      "text/plain": [
       "array([2.78146930e+11, 3.14287141e+11, 3.28743225e+11, 3.50427352e+11])"
      ]
     },
     "execution_count": 25,
     "metadata": {},
     "output_type": "execute_result"
    }
   ],
   "source": [
    "x_input = [2010, 2015, 2017, 2020]\n",
    "x_input = np.array(x_input).reshape(-1, 1)\n",
    "# x_input =  [[2010], \n",
    "#             [2015], \n",
    "#             [2017], \n",
    "#             [2020]]\n",
    "y_predict = model.predict(x_input)\n",
    "y_predict"
   ]
  },
  {
   "cell_type": "code",
   "execution_count": 26,
   "metadata": {},
   "outputs": [
    {
     "data": {
      "text/plain": [
       "array([[2010],\n",
       "       [2015],\n",
       "       [2017],\n",
       "       [2020]])"
      ]
     },
     "execution_count": 26,
     "metadata": {},
     "output_type": "execute_result"
    }
   ],
   "source": [
    "x_input"
   ]
  },
  {
   "cell_type": "code",
   "execution_count": 27,
   "metadata": {},
   "outputs": [
    {
     "name": "stdout",
     "output_type": "stream",
     "text": [
      "2.7815e+11\n",
      "3.1429e+11\n",
      "3.2874e+11\n",
      "3.5043e+11\n"
     ]
    }
   ],
   "source": [
    "for val in y_predict:\n",
    "    print('{:.4e}'.format(val))"
   ]
  },
  {
   "cell_type": "code",
   "execution_count": 28,
   "metadata": {},
   "outputs": [
    {
     "name": "stdout",
     "output_type": "stream",
     "text": [
      "0 [2010] 2.7815e+11\n",
      "1 [2015] 3.1429e+11\n",
      "2 [2017] 3.2874e+11\n",
      "3 [2020] 3.5043e+11\n"
     ]
    }
   ],
   "source": [
    "for i, val in enumerate(y_predict):\n",
    "    # print(i, x_input[i] , val)\n",
    "    print(f'{i} {x_input[i]} {val:.4e}')"
   ]
  },
  {
   "cell_type": "code",
   "execution_count": 29,
   "metadata": {},
   "outputs": [
    {
     "data": {
      "text/plain": [
       "2010    3.411050e+11\n",
       "2011    3.708190e+11\n",
       "2012    3.975580e+11\n",
       "2013    4.203330e+11\n",
       "2014    4.073390e+11\n",
       "2015    4.013990e+11\n",
       "2016    4.117550e+11\n",
       "2017    4.552210e+11\n",
       "Name: THA, dtype: float64"
      ]
     },
     "execution_count": 29,
     "metadata": {},
     "output_type": "execute_result"
    }
   ],
   "source": [
    "df.THA.tail(8)"
   ]
  },
  {
   "cell_type": "markdown",
   "metadata": {},
   "source": [
    "## Polynomial Regression"
   ]
  },
  {
   "cell_type": "code",
   "execution_count": 30,
   "metadata": {},
   "outputs": [],
   "source": [
    "from sklearn.linear_model import LinearRegression\n",
    "from sklearn.preprocessing import PolynomialFeatures"
   ]
  },
  {
   "cell_type": "code",
   "execution_count": 31,
   "metadata": {},
   "outputs": [
    {
     "data": {
      "text/plain": [
       "Int64Index([1960, 1961, 1962, 1963, 1964], dtype='int64')"
      ]
     },
     "execution_count": 31,
     "metadata": {},
     "output_type": "execute_result"
    }
   ],
   "source": [
    "x = df.index\n",
    "x[:5]"
   ]
  },
  {
   "cell_type": "code",
   "execution_count": 32,
   "metadata": {},
   "outputs": [
    {
     "data": {
      "text/plain": [
       "array([[1960],\n",
       "       [1961],\n",
       "       [1962],\n",
       "       [1963],\n",
       "       [1964]], dtype=int64)"
      ]
     },
     "execution_count": 32,
     "metadata": {},
     "output_type": "execute_result"
    }
   ],
   "source": [
    "x = df.index.values.reshape(-1, 1)\n",
    "x[:5]"
   ]
  },
  {
   "cell_type": "code",
   "execution_count": 33,
   "metadata": {},
   "outputs": [],
   "source": [
    "y = df.THA"
   ]
  },
  {
   "cell_type": "code",
   "execution_count": 34,
   "metadata": {},
   "outputs": [],
   "source": [
    "poly_features = PolynomialFeatures(degree=2)  ## Degrees\n",
    "x_poly = poly_features.fit_transform(x)"
   ]
  },
  {
   "cell_type": "code",
   "execution_count": 39,
   "metadata": {},
   "outputs": [
    {
     "data": {
      "text/plain": [
       "LinearRegression()"
      ]
     },
     "execution_count": 39,
     "metadata": {},
     "output_type": "execute_result"
    }
   ],
   "source": [
    "model = LinearRegression()\n",
    "model.fit(x_poly, y)"
   ]
  },
  {
   "cell_type": "markdown",
   "metadata": {},
   "source": [
    "### ประเมิน (Evaluation)"
   ]
  },
  {
   "cell_type": "code",
   "execution_count": 36,
   "metadata": {},
   "outputs": [
    {
     "data": {
      "text/plain": [
       "0.9579681384317312"
      ]
     },
     "execution_count": 36,
     "metadata": {},
     "output_type": "execute_result"
    }
   ],
   "source": [
    "model.score(x_poly, y)"
   ]
  },
  {
   "cell_type": "markdown",
   "metadata": {},
   "source": [
    "### Visualize Model"
   ]
  },
  {
   "cell_type": "code",
   "execution_count": 37,
   "metadata": {},
   "outputs": [
    {
     "data": {
      "image/png": "[encoded data removed]",
      "text/plain": [
       "<Figure size 504x288 with 1 Axes>"
      ]
     },
     "metadata": {},
     "output_type": "display_data"
    }
   ],
   "source": [
    "y_poly_pred = model.predict(x_poly)\n",
    "\n",
    "sns.set_style('darkgrid')\n",
    "plt.rcParams['figure.figsize'] = 7,4  \n",
    "\n",
    "plt.scatter(x, y, color='b',s=12) \n",
    "plt.plot(x, y_poly_pred, linewidth='2', color='r') \n",
    "plt.ylabel('GDP')\n",
    "plt.title('Thai GDP')\n",
    "\n",
    "plt.show()"
   ]
  },
  {
   "cell_type": "code",
   "execution_count": 38,
   "metadata": {},
   "outputs": [
    {
     "name": "stdout",
     "output_type": "stream",
     "text": [
      "R2 = 0.95797 \n",
      "R2 = 0.95797 \n",
      "MSE = 7.5696e+20 \n",
      "RMSE = 2.7513e+10 \n"
     ]
    }
   ],
   "source": [
    "from sklearn.metrics import mean_squared_error, mean_absolute_error, r2_score\n",
    "import numpy as np\n",
    "\n",
    "print('R2 = {:.5f} '.format(model.score(x_poly, y)))\n",
    "print('R2 = {:.5f} '.format(r2_score(y, y_poly_pred)))\n",
    "\n",
    "print('MSE = {:.4e} '.format(mean_squared_error(y, y_poly_pred)))\n",
    "print('RMSE = {:.4e} '.format(np.sqrt(mean_squared_error(y,  y_poly_pred))))"
   ]
  },
  {
   "cell_type": "markdown",
   "metadata": {},
   "source": [
    "### ทำนาย (Predict)"
   ]
  },
  {
   "cell_type": "code",
   "execution_count": 40,
   "metadata": {},
   "outputs": [
    {
     "name": "stdout",
     "output_type": "stream",
     "text": [
      "3.1526e+11\n",
      "4.0035e+11\n",
      "4.3724e+11\n",
      "4.9563e+11\n"
     ]
    }
   ],
   "source": [
    "x_input = [2010, 2015, 2017, 2020]\n",
    "x_input = np.array(x_input).reshape(-1, 1)\n",
    "\n",
    "# x_input = [[2010], [2015], [2018], [2020]]  # เขียนแบบนี้ก็ได้\n",
    "\n",
    "x_input_poly = poly_features.fit_transform(x_input)\n",
    "y_poly_pred = model.predict(x_input_poly)\n",
    "y_poly_pred\n",
    "\n",
    "for val in y_poly_pred:\n",
    "    print('{:.4e}'.format(val))"
   ]
  },
  {
   "cell_type": "code",
   "execution_count": 41,
   "metadata": {},
   "outputs": [
    {
     "name": "stdout",
     "output_type": "stream",
     "text": [
      "0 [2010] = 3.1526e+11\n",
      "1 [2015] = 4.0035e+11\n",
      "2 [2017] = 4.3724e+11\n",
      "3 [2020] = 4.9563e+11\n"
     ]
    }
   ],
   "source": [
    "for i, val in enumerate(y_poly_pred):\n",
    "    # print(i, x_input[i] , val)\n",
    "    print(f'{i} {x_input[i]} = {val :.4e}')   "
   ]
  },
  {
   "cell_type": "code",
   "execution_count": 42,
   "metadata": {},
   "outputs": [
    {
     "data": {
      "text/plain": [
       "2010    3.411050e+11\n",
       "2011    3.708190e+11\n",
       "2012    3.975580e+11\n",
       "2013    4.203330e+11\n",
       "2014    4.073390e+11\n",
       "2015    4.013990e+11\n",
       "2016    4.117550e+11\n",
       "2017    4.552210e+11\n",
       "Name: THA, dtype: float64"
      ]
     },
     "execution_count": 42,
     "metadata": {},
     "output_type": "execute_result"
    }
   ],
   "source": [
    "df.THA.tail(8)"
   ]
  },
  {
   "cell_type": "code",
   "execution_count": 43,
   "metadata": {},
   "outputs": [
    {
     "name": "stdout",
     "output_type": "stream",
     "text": [
      "    Year     Linear    Polynomial\n",
      "----------------------------------\n",
      "0  [2010]  2.7815e+11  3.1526e+11\n",
      "1  [2015]  3.1429e+11  4.0035e+11\n",
      "2  [2017]  3.2874e+11  4.3724e+11\n",
      "3  [2020]  3.5043e+11  4.9563e+11\n"
     ]
    }
   ],
   "source": [
    "print('    Year     Linear    Polynomial')\n",
    "print('----------------------------------')\n",
    "for i, val in enumerate(y_poly_pred):\n",
    "    # print(i, x_input[i] , val)\n",
    "    print(f'{i}  {x_input[i]}  {y_predict[i] :.4e}  {val :.4e}') "
   ]
  },
  {
   "cell_type": "markdown",
   "metadata": {},
   "source": [
    "### เปรียบเทียบกับค่า GDP จริง ปี2020"
   ]
  },
  {
   "cell_type": "code",
   "execution_count": 44,
   "metadata": {},
   "outputs": [
    {
     "name": "stdout",
     "output_type": "stream",
     "text": [
      "Diff: 1.24 %\n"
     ]
    }
   ],
   "source": [
    "# Polynomial Regression\n",
    "\n",
    "gdp_p = 495.6e9     # gdp_p = 4.9563e11\n",
    "gdp_a = 501.8e9\n",
    "\n",
    "err = (gdp_a - gdp_p) / gdp_a * 100\n",
    "print(f'Diff: {err:.2f} %')"
   ]
  },
  {
   "cell_type": "code",
   "execution_count": 45,
   "metadata": {},
   "outputs": [
    {
     "name": "stdout",
     "output_type": "stream",
     "text": [
      "Diff: 30.17 %\n"
     ]
    }
   ],
   "source": [
    "# Linear\n",
    "gdp_p = 350.42e9\n",
    "err = (gdp_a - gdp_p) / gdp_a * 100\n",
    "print(f'Diff: {err:.2f} %')"
   ]
  },
  {
   "cell_type": "markdown",
   "metadata": {},
   "source": [
    "## Assignment\n",
    "- Try degrees 3 4 .. \n",
    "- Try VNM"
   ]
  },
  {
   "cell_type": "code",
   "execution_count": 46,
   "metadata": {},
   "outputs": [],
   "source": [
    "# df.dropna() \n",
    "df.dropna(axis=0)   # or this\n",
    "\n",
    "df.dropna(axis=0, inplace=True)"
   ]
  },
  {
   "cell_type": "code",
   "execution_count": null,
   "metadata": {},
   "outputs": [],
   "source": [
    "df.head()"
   ]
  },
  {
   "cell_type": "code",
   "execution_count": null,
   "metadata": {},
   "outputs": [],
   "source": [
    "# ตรวจสอบว่ามีข้อมูลสูญหายหรือไม่? Check missing data\n",
    "df.isnull().sum()"
   ]
  },
  {
   "cell_type": "code",
   "execution_count": null,
   "metadata": {},
   "outputs": [],
   "source": [
    "df.shape"
   ]
  },
  {
   "cell_type": "code",
   "execution_count": null,
   "metadata": {},
   "outputs": [],
   "source": []
  }
 ],
 "metadata": {
  "kernelspec": {
   "display_name": "Python 3 (ipykernel)",
   "language": "python",
   "name": "python3"
  },
  "language_info": {
   "codemirror_mode": {
    "name": "ipython",
    "version": 3
   },
   "file_extension": ".py",
   "mimetype": "text/x-python",
   "name": "python",
   "nbconvert_exporter": "python",
   "pygments_lexer": "ipython3",
   "version": "3.9.12"
  }
 },
 "nbformat": 4,
 "nbformat_minor": 4
}
