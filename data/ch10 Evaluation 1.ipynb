{
 "cells": [
  {
   "cell_type": "markdown",
   "metadata": {},
   "source": [
    "# Model Evaluation"
   ]
  },
  {
   "cell_type": "markdown",
   "metadata": {},
   "source": [
    "## Prediction\n",
    "นำข้อมูล Test set เข้าทำนาย และได้ผลลัพธ์ y_pred (y_predict) \n",
    "\n",
    "Note: <b>สนใจ/Focus หาอะไร ให้สิ่งนั้นเป็น Positive</b>\n",
    "- ระบบตรวจจับกำจัดเมล์ขยะ สนใจ (Focus หา) Spam : ให้ Spam = Positive \n",
    "- ระบบตรวจหาผู้ป่วย สนใจ (Focus หา) ผู้ป่วย : ให้ผล ป่วย = Positive \n",
    "- ระบบตรวจหาสินค้าดี : ให้ของดี = Positive"
   ]
  },
  {
   "cell_type": "code",
   "execution_count": 1,
   "metadata": {},
   "outputs": [],
   "source": [
    "# create model ... สมมุติว่าส่วนนี้ทำการ Train สร้าง Model เรียบร้อยแล้ว\n",
    "# model.fit(X, y)\n",
    "\n",
    "# y_pred = model.predict(X_test) ทำการทำนาย (สมมุติว่าทำนายแล้วได้ดัง y_pred ด้านล่าง)\n",
    "\n",
    "# ค่า Label และความหมาย  0=Bad, 1=Good\n",
    "y_targets = ['Bad','Good']\n",
    "\n",
    "y_true = [0, 1, 0, 1, 0, 0, 1, 0, 0, 1]     # ค่า Label จริงของข้อมูล (y_test)\n",
    "y_pred = [0, 1, 0, 1, 0, 1, 1, 0, 1, 0]     # Label ที่ได้จากการทำนายของ Model (ผลการ Predict)"
   ]
  },
  {
   "cell_type": "markdown",
   "metadata": {},
   "source": [
    "## Confusion Matrix"
   ]
  },
  {
   "cell_type": "markdown",
   "metadata": {},
   "source": [
    "## Accuracy"
   ]
  },
  {
   "cell_type": "code",
   "execution_count": 2,
   "metadata": {},
   "outputs": [
    {
     "data": {
      "text/plain": [
       "0.7"
      ]
     },
     "execution_count": 2,
     "metadata": {},
     "output_type": "execute_result"
    }
   ],
   "source": [
    "# Accuracy = ที่ทำนายถูก/ทั้งหมด = (TP+TN) / All\n",
    "(3+4)/10"
   ]
  },
  {
   "cell_type": "markdown",
   "metadata": {},
   "source": [
    "## Precision\n",
    "สนใจผลที่ทำนาย (Prediction) ว่ามีความถูกต้องแม่นยำเท่าใด"
   ]
  },
  {
   "cell_type": "code",
   "execution_count": 3,
   "metadata": {},
   "outputs": [
    {
     "data": {
      "text/plain": [
       "0.6"
      ]
     },
     "execution_count": 3,
     "metadata": {},
     "output_type": "execute_result"
    }
   ],
   "source": [
    "# Precision (Positive) = TP / (TP+FP)\n",
    "Pp = 3/(3+2)\n",
    "Pp"
   ]
  },
  {
   "cell_type": "code",
   "execution_count": 4,
   "metadata": {},
   "outputs": [
    {
     "data": {
      "text/plain": [
       "0.8"
      ]
     },
     "execution_count": 4,
     "metadata": {},
     "output_type": "execute_result"
    }
   ],
   "source": [
    "# Precision (Positive) = TP / (TP+FP)\n",
    "# Precision (Negative) = TN / (TN+FN)\n",
    "Pn = 4/(4+1)\n",
    "Pn"
   ]
  },
  {
   "cell_type": "markdown",
   "metadata": {},
   "source": [
    "## Recall\n",
    "พิจารณาเทียบกับของจริง (Actual)"
   ]
  },
  {
   "cell_type": "code",
   "execution_count": 5,
   "metadata": {},
   "outputs": [
    {
     "data": {
      "text/plain": [
       "0.75"
      ]
     },
     "execution_count": 5,
     "metadata": {},
     "output_type": "execute_result"
    }
   ],
   "source": [
    "# Recall (Positive) = TP / (TP+FN)\n",
    "Rp = 3/(3+1)\n",
    "Rp"
   ]
  },
  {
   "cell_type": "code",
   "execution_count": 6,
   "metadata": {},
   "outputs": [
    {
     "data": {
      "text/plain": [
       "0.6666666666666666"
      ]
     },
     "execution_count": 6,
     "metadata": {},
     "output_type": "execute_result"
    }
   ],
   "source": [
    "# Recall (Positive) = TP / (TP+FN)\n",
    "# Recall (Negative) = TN / (TN+FP)\n",
    "Rn = 4/(4+2)\n",
    "Rn"
   ]
  },
  {
   "cell_type": "code",
   "execution_count": 7,
   "metadata": {},
   "outputs": [
    {
     "data": {
      "text/plain": [
       "0.6666666666666665"
      ]
     },
     "execution_count": 7,
     "metadata": {},
     "output_type": "execute_result"
    }
   ],
   "source": [
    "# F1 score = 2.Precision.Recall/(Precision + Recall)\n",
    "# Positive\n",
    "2 * Pp * Rp / (Pp + Rp)"
   ]
  },
  {
   "cell_type": "code",
   "execution_count": 8,
   "metadata": {},
   "outputs": [
    {
     "data": {
      "text/plain": [
       "0.7272727272727272"
      ]
     },
     "execution_count": 8,
     "metadata": {},
     "output_type": "execute_result"
    }
   ],
   "source": [
    "# F1 score = 2.Precision.Recall/(Precision + Recall)\n",
    "# Negative\n",
    "2 * Pn * Rn / (Pn + Rn)"
   ]
  },
  {
   "cell_type": "markdown",
   "metadata": {},
   "source": [
    "## Scikit-learn\n",
    "ใช้ไลบรารี แสดงตาราง Confusion Matrix และ คำนวณค่าต่าง ๆ"
   ]
  },
  {
   "cell_type": "code",
   "execution_count": 9,
   "metadata": {},
   "outputs": [],
   "source": [
    "from sklearn.metrics import classification_report\n",
    "from sklearn.metrics import confusion_matrix\n",
    "from sklearn.metrics import accuracy_score "
   ]
  },
  {
   "cell_type": "code",
   "execution_count": 10,
   "metadata": {},
   "outputs": [
    {
     "name": "stdout",
     "output_type": "stream",
     "text": [
      "Accuracy Score: 0.7\n",
      "              precision    recall  f1-score   support\n",
      "\n",
      "         Bad       0.80      0.67      0.73         6\n",
      "        Good       0.60      0.75      0.67         4\n",
      "\n",
      "    accuracy                           0.70        10\n",
      "   macro avg       0.70      0.71      0.70        10\n",
      "weighted avg       0.72      0.70      0.70        10\n",
      "\n",
      "[[4 2]\n",
      " [1 3]]\n"
     ]
    }
   ],
   "source": [
    "# 0=Bad, 1=Good   แทนค่าด้วย 0 1 เพื่อให้ดูง่ายขึ้น (กำหนดเป็นอะไรก็ได้ตามที่ใช้งาน)\n",
    "y_targets = ['Bad','Good']\n",
    "\n",
    "print('Accuracy Score:', accuracy_score(y_true, y_pred))\n",
    "\n",
    "print(classification_report(y_true, y_pred, target_names=y_targets))\n",
    "\n",
    "cm = confusion_matrix(y_true, y_pred)\n",
    "print(cm)"
   ]
  },
  {
   "cell_type": "code",
   "execution_count": 11,
   "metadata": {},
   "outputs": [
    {
     "data": {
      "text/plain": [
       "(4, 2, 1, 3)"
      ]
     },
     "execution_count": 11,
     "metadata": {},
     "output_type": "execute_result"
    }
   ],
   "source": [
    "TN = cm[0, 0]\n",
    "FP = cm[0, 1]\n",
    "FN = cm[1, 0]\n",
    "TP = cm[1, 1]\n",
    "TN, FP, FN, TP\n",
    "# cm"
   ]
  },
  {
   "cell_type": "code",
   "execution_count": 12,
   "metadata": {},
   "outputs": [
    {
     "name": "stdout",
     "output_type": "stream",
     "text": [
      "Accuracy: 0.7\n",
      "Precision (Positive or Good): 0.6\n",
      "Precision (Negative or Bad): 0.8\n",
      "Recall (Positive or Good): 0.75\n",
      "Recall (Negative or Bad): 0.67\n"
     ]
    }
   ],
   "source": [
    "precision_p = TP/(TP+FP)\n",
    "precision_n = TN/(TN+FN)\n",
    "recall_p = TP/(TP+FN)\n",
    "recall_n = TN/(TN+FP)\n",
    "accuracy = (TP+TN)/(TP+TN+FP+FN)\n",
    "print('Accuracy:', accuracy)\n",
    "print('Precision (Positive or Good):', precision_p)\n",
    "print('Precision (Negative or Bad):', precision_n)\n",
    "print('Recall (Positive or Good):', recall_p)\n",
    "print('Recall (Negative or Bad):', recall_n.round(2))"
   ]
  },
  {
   "cell_type": "markdown",
   "metadata": {},
   "source": [
    "## Graphics"
   ]
  },
  {
   "cell_type": "code",
   "execution_count": 13,
   "metadata": {},
   "outputs": [
    {
     "data": {
      "image/png": "[encoded data removed]",
      "text/plain": [
       "<Figure size 432x288 with 2 Axes>"
      ]
     },
     "metadata": {
      "needs_background": "light"
     },
     "output_type": "display_data"
    }
   ],
   "source": [
    "# scikit-learn\n",
    "import matplotlib.pyplot as plt\n",
    "from sklearn.metrics import confusion_matrix, ConfusionMatrixDisplay\n",
    "\n",
    "# y_targets = ['Bad','Good']\n",
    "# labels = ['Bad','Good']     #\n",
    "labels = ['No','Yes']       # COVID-19\n",
    "\n",
    "cm = confusion_matrix(y_true, y_pred)\n",
    "ConfusionMatrixDisplay(cm, display_labels=labels).plot()\n",
    "plt.title('Confusion Matrix')\n",
    "plt.show()"
   ]
  },
  {
   "cell_type": "code",
   "execution_count": 14,
   "metadata": {},
   "outputs": [
    {
     "data": {
      "image/png": "[encoded data removed]",
      "text/plain": [
       "<Figure size 432x288 with 2 Axes>"
      ]
     },
     "metadata": {
      "needs_background": "light"
     },
     "output_type": "display_data"
    }
   ],
   "source": [
    "# Seaborn\n",
    "import matplotlib.pyplot as plt\n",
    "import seaborn as sns\n",
    "\n",
    "ax = plt.subplot()\n",
    "\n",
    "plt.rcParams['figure.figsize'] = 5, 4  \n",
    "plt.rcParams.update({'font.size':14})  \n",
    "\n",
    "sns.heatmap(cm, annot=True, ax=ax, cmap=\"coolwarm\") #annot=True to annotate cells\n",
    "ax.set_xlabel('Predicted labels')\n",
    "ax.set_ylabel('Actual (True)'); \n",
    "ax.set_title('Confusion Matrix'); \n",
    "ax.xaxis.set_ticklabels(y_targets)\n",
    "ax.yaxis.set_ticklabels(y_targets)\n",
    "\n",
    "plt.show()"
   ]
  },
  {
   "cell_type": "code",
   "execution_count": 15,
   "metadata": {},
   "outputs": [
    {
     "name": "stdout",
     "output_type": "stream",
     "text": [
      "# packages in environment at C:\\Users\\Asus\\anaconda3:\n",
      "#\n",
      "# Name                    Version                   Build  Channel\n"
     ]
    }
   ],
   "source": [
    "!conda list scikit-plot\n",
    "# !pip show scikit-plot"
   ]
  },
  {
   "cell_type": "code",
   "execution_count": 16,
   "metadata": {
    "collapsed": true,
    "jupyter": {
     "outputs_hidden": true
    },
    "tags": []
   },
   "outputs": [
    {
     "name": "stdout",
     "output_type": "stream",
     "text": [
      "Collecting scikit-plot\n",
      "  Downloading scikit_plot-0.3.7-py3-none-any.whl (33 kB)\n",
      "Requirement already satisfied: scikit-learn>=0.18 in c:\\users\\asus\\anaconda3\\lib\\site-packages (from scikit-plot) (1.0.2)\n",
      "Requirement already satisfied: matplotlib>=1.4.0 in c:\\users\\asus\\anaconda3\\lib\\site-packages (from scikit-plot) (3.5.1)\n",
      "Requirement already satisfied: scipy>=0.9 in c:\\users\\asus\\anaconda3\\lib\\site-packages (from scikit-plot) (1.7.3)\n",
      "Requirement already satisfied: joblib>=0.10 in c:\\users\\asus\\anaconda3\\lib\\site-packages (from scikit-plot) (1.1.0)\n",
      "Requirement already satisfied: python-dateutil>=2.7 in c:\\users\\asus\\anaconda3\\lib\\site-packages (from matplotlib>=1.4.0->scikit-plot) (2.8.2)\n",
      "Requirement already satisfied: pyparsing>=2.2.1 in c:\\users\\asus\\anaconda3\\lib\\site-packages (from matplotlib>=1.4.0->scikit-plot) (3.0.4)\n",
      "Requirement already satisfied: pillow>=6.2.0 in c:\\users\\asus\\anaconda3\\lib\\site-packages (from matplotlib>=1.4.0->scikit-plot) (9.0.1)\n",
      "Requirement already satisfied: numpy>=1.17 in c:\\users\\asus\\anaconda3\\lib\\site-packages (from matplotlib>=1.4.0->scikit-plot) (1.21.5)\n",
      "Requirement already satisfied: packaging>=20.0 in c:\\users\\asus\\anaconda3\\lib\\site-packages (from matplotlib>=1.4.0->scikit-plot) (21.3)\n",
      "Requirement already satisfied: kiwisolver>=1.0.1 in c:\\users\\asus\\anaconda3\\lib\\site-packages (from matplotlib>=1.4.0->scikit-plot) (1.3.2)\n",
      "Requirement already satisfied: cycler>=0.10 in c:\\users\\asus\\anaconda3\\lib\\site-packages (from matplotlib>=1.4.0->scikit-plot) (0.11.0)\n",
      "Requirement already satisfied: fonttools>=4.22.0 in c:\\users\\asus\\anaconda3\\lib\\site-packages (from matplotlib>=1.4.0->scikit-plot) (4.25.0)\n",
      "Requirement already satisfied: six>=1.5 in c:\\users\\asus\\anaconda3\\lib\\site-packages (from python-dateutil>=2.7->matplotlib>=1.4.0->scikit-plot) (1.16.0)\n",
      "Requirement already satisfied: threadpoolctl>=2.0.0 in c:\\users\\asus\\anaconda3\\lib\\site-packages (from scikit-learn>=0.18->scikit-plot) (2.2.0)\n",
      "Installing collected packages: scikit-plot\n",
      "Successfully installed scikit-plot-0.3.7\n"
     ]
    }
   ],
   "source": [
    "!pip install scikit-plot\n",
    "# !conda install -c conda-forge scikit-plot"
   ]
  },
  {
   "cell_type": "code",
   "execution_count": 17,
   "metadata": {},
   "outputs": [
    {
     "data": {
      "image/png": "[encoded data removed]",
      "text/plain": [
       "<Figure size 360x288 with 2 Axes>"
      ]
     },
     "metadata": {
      "needs_background": "light"
     },
     "output_type": "display_data"
    }
   ],
   "source": [
    "# Scikit-plot\n",
    "\n",
    "import matplotlib.pyplot as plt\n",
    "import scikitplot as skplot\n",
    "skplot.metrics.plot_confusion_matrix(y_true, y_pred)\n",
    "plt.show()"
   ]
  },
  {
   "cell_type": "markdown",
   "metadata": {},
   "source": [
    "# 3 Class (Catgories)\n",
    "Cat, Dog, Bird"
   ]
  },
  {
   "cell_type": "code",
   "execution_count": 18,
   "metadata": {},
   "outputs": [],
   "source": [
    "# ws03\n",
    "\n",
    "# create model ... สมมุติว่าส่วนนี้ทำการ Train สร้าง Model เรียบร้อยแล้ว\n",
    "# model.fit(X, y)\n",
    "\n",
    "# model.score(X, y) คำนวณค่าความแม่นยำ\n",
    "# y_pred = model.predict(X_test) ทำการทำนาย (สมมุติว่าทำนายแล้วได้ดัง y_pred ด้านล่าง)\n",
    "\n",
    "\n",
    "y_targets = ['Cat','Dog','Bird']\n",
    "\n",
    "y_true = [0, 1, 0, 1, 0, 0, 1, 0, 0, 1, 2, 2, 2, 2, 2]\n",
    "y_pred = [0, 1, 0, 1, 0, 1, 1, 0, 1, 0, 2, 2, 2, 1, 2]\n"
   ]
  },
  {
   "cell_type": "code",
   "execution_count": 19,
   "metadata": {},
   "outputs": [
    {
     "data": {
      "image/png": "[encoded data removed]",
      "text/plain": [
       "<Figure size 360x288 with 2 Axes>"
      ]
     },
     "metadata": {
      "needs_background": "light"
     },
     "output_type": "display_data"
    }
   ],
   "source": [
    "# scikit-learn\n",
    "from sklearn.metrics import confusion_matrix, ConfusionMatrixDisplay\n",
    "\n",
    "labels = ['Cat','Dog','Bird']       # \n",
    "\n",
    "cm = confusion_matrix(y_true, y_pred)\n",
    "ConfusionMatrixDisplay(cm, display_labels=labels).plot()\n",
    "plt.title('Confusion Matrix')\n",
    "plt.show()"
   ]
  },
  {
   "cell_type": "code",
   "execution_count": 20,
   "metadata": {},
   "outputs": [
    {
     "name": "stdout",
     "output_type": "stream",
     "text": [
      "Accuracy Score: 0.733\n",
      "              precision    recall  f1-score   support\n",
      "\n",
      "         Cat       0.80      0.67      0.73         6\n",
      "         Dog       0.50      0.75      0.60         4\n",
      "        Bird       1.00      0.80      0.89         5\n",
      "\n",
      "    accuracy                           0.73        15\n",
      "   macro avg       0.77      0.74      0.74        15\n",
      "weighted avg       0.79      0.73      0.75        15\n",
      "\n",
      "[[4 2 0]\n",
      " [1 3 0]\n",
      " [0 1 4]]\n"
     ]
    }
   ],
   "source": [
    "# Confusion Matrix\n",
    "print('Accuracy Score: {:.3f}'.format(accuracy_score(y_true, y_pred)))\n",
    "\n",
    "print(classification_report(y_true, y_pred, target_names=y_targets))\n",
    "\n",
    "cm = confusion_matrix(y_true, y_pred)\n",
    "print(cm)"
   ]
  },
  {
   "cell_type": "code",
   "execution_count": 21,
   "metadata": {},
   "outputs": [
    {
     "data": {
      "image/png": "[encoded data removed]",
      "text/plain": [
       "<Figure size 360x288 with 2 Axes>"
      ]
     },
     "metadata": {
      "needs_background": "light"
     },
     "output_type": "display_data"
    }
   ],
   "source": [
    "ax = plt.subplot()\n",
    "\n",
    "plt.rcParams['figure.figsize'] = 5, 4 \n",
    "plt.rcParams.update({'font.size':14}) \n",
    "\n",
    "sns.heatmap(cm, annot=True, ax = ax, cmap=\"coolwarm\") #annot=True to annotate cells\n",
    "ax.set_xlabel('Predicted labels')\n",
    "ax.set_ylabel('Actual (True)'); \n",
    "ax.set_title('Confusion Matrix'); \n",
    "ax.xaxis.set_ticklabels(y_targets)\n",
    "ax.yaxis.set_ticklabels(y_targets)\n",
    "\n",
    "plt.show()"
   ]
  },
  {
   "cell_type": "code",
   "execution_count": 22,
   "metadata": {},
   "outputs": [
    {
     "data": {
      "image/png": "[encoded data removed]",
      "text/plain": [
       "<Figure size 360x288 with 2 Axes>"
      ]
     },
     "metadata": {
      "needs_background": "light"
     },
     "output_type": "display_data"
    }
   ],
   "source": [
    "import scikitplot as skplot\n",
    "skplot.metrics.plot_confusion_matrix(y_true, y_pred, normalize=False)\n",
    "plt.show()"
   ]
  },
  {
   "cell_type": "code",
   "execution_count": 23,
   "metadata": {},
   "outputs": [
    {
     "name": "stdout",
     "output_type": "stream",
     "text": [
      "y_true:  [0, 1, 0, 1, 0, 0, 1, 0, 0, 1, 2, 2, 2, 2, 2]\n",
      "y_pred:  [0, 1, 0, 1, 0, 1, 1, 0, 1, 0, 2, 2, 2, 1, 2]\n"
     ]
    }
   ],
   "source": [
    "print('y_true: ', y_true)\n",
    "print('y_pred: ', y_pred)"
   ]
  },
  {
   "cell_type": "code",
   "execution_count": null,
   "metadata": {},
   "outputs": [],
   "source": []
  },
  {
   "cell_type": "code",
   "execution_count": null,
   "metadata": {},
   "outputs": [],
   "source": []
  }
 ],
 "metadata": {
  "kernelspec": {
   "display_name": "Python 3 (ipykernel)",
   "language": "python",
   "name": "python3"
  },
  "language_info": {
   "codemirror_mode": {
    "name": "ipython",
    "version": 3
   },
   "file_extension": ".py",
   "mimetype": "text/x-python",
   "name": "python",
   "nbconvert_exporter": "python",
   "pygments_lexer": "ipython3",
   "version": "3.9.12"
  }
 },
 "nbformat": 4,
 "nbformat_minor": 4
}
