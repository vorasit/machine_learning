{
 "cells": [
  {
   "cell_type": "markdown",
   "id": "c0f8a5d8-5e5b-451a-bda5-b63ddb6cdfac",
   "metadata": {
    "tags": []
   },
   "source": [
    "## Multiple Linear Regression (Multivariate Regression)"
   ]
  },
  {
   "cell_type": "code",
   "execution_count": 1,
   "id": "f4e43c2e-70c3-4e88-a599-5962828489a8",
   "metadata": {},
   "outputs": [],
   "source": [
    "import pandas as pd\n",
    "import matplotlib.pyplot as plt\n",
    "import seaborn as sns"
   ]
  },
  {
   "cell_type": "code",
   "execution_count": 3,
   "id": "55e6aa86",
   "metadata": {},
   "outputs": [
    {
     "data": {
      "text/html": [
       "<div>\n",
       "<style scoped>\n",
       "    .dataframe tbody tr th:only-of-type {\n",
       "        vertical-align: middle;\n",
       "    }\n",
       "\n",
       "    .dataframe tbody tr th {\n",
       "        vertical-align: top;\n",
       "    }\n",
       "\n",
       "    .dataframe thead th {\n",
       "        text-align: right;\n",
       "    }\n",
       "</style>\n",
       "<table border=\"1\" class=\"dataframe\">\n",
       "  <thead>\n",
       "    <tr style=\"text-align: right;\">\n",
       "      <th></th>\n",
       "      <th>TV</th>\n",
       "      <th>Radio</th>\n",
       "      <th>Newspaper</th>\n",
       "      <th>Sales</th>\n",
       "    </tr>\n",
       "  </thead>\n",
       "  <tbody>\n",
       "    <tr>\n",
       "      <th>44</th>\n",
       "      <td>120.4</td>\n",
       "      <td>8.4</td>\n",
       "      <td>26.4</td>\n",
       "      <td>12.9</td>\n",
       "    </tr>\n",
       "    <tr>\n",
       "      <th>61</th>\n",
       "      <td>53.5</td>\n",
       "      <td>2.0</td>\n",
       "      <td>21.4</td>\n",
       "      <td>8.1</td>\n",
       "    </tr>\n",
       "    <tr>\n",
       "      <th>80</th>\n",
       "      <td>116.0</td>\n",
       "      <td>7.7</td>\n",
       "      <td>23.1</td>\n",
       "      <td>11.0</td>\n",
       "    </tr>\n",
       "    <tr>\n",
       "      <th>70</th>\n",
       "      <td>124.5</td>\n",
       "      <td>43.9</td>\n",
       "      <td>27.2</td>\n",
       "      <td>22.3</td>\n",
       "    </tr>\n",
       "    <tr>\n",
       "      <th>31</th>\n",
       "      <td>220.0</td>\n",
       "      <td>28.3</td>\n",
       "      <td>23.2</td>\n",
       "      <td>15.4</td>\n",
       "    </tr>\n",
       "  </tbody>\n",
       "</table>\n",
       "</div>"
      ],
      "text/plain": [
       "       TV  Radio  Newspaper  Sales\n",
       "44  120.4    8.4       26.4   12.9\n",
       "61   53.5    2.0       21.4    8.1\n",
       "80  116.0    7.7       23.1   11.0\n",
       "70  124.5   43.9       27.2   22.3\n",
       "31  220.0   28.3       23.2   15.4"
      ]
     },
     "execution_count": 3,
     "metadata": {},
     "output_type": "execute_result"
    }
   ],
   "source": [
    "# Read dataset\n",
    "# df = pd.read_csv('data/advertising_1.csv')\n",
    "df = pd.read_csv('data/advertising_1.csv', index_col=0)\n",
    "df.head()"
   ]
  },
  {
   "cell_type": "code",
   "execution_count": 4,
   "id": "644c22f2",
   "metadata": {},
   "outputs": [
    {
     "data": {
      "text/plain": [
       "TV           0\n",
       "Radio        0\n",
       "Newspaper    0\n",
       "Sales        0\n",
       "dtype: int64"
      ]
     },
     "execution_count": 4,
     "metadata": {},
     "output_type": "execute_result"
    }
   ],
   "source": [
    "df.isnull().sum()   # ตรวจสอบมีข้อมูลสูญหาย? (check missing values) "
   ]
  },
  {
   "cell_type": "markdown",
   "id": "c3ab7dbf",
   "metadata": {},
   "source": [
    "## Data Visualization"
   ]
  },
  {
   "cell_type": "code",
   "execution_count": 5,
   "id": "ab775017-fd4d-4a51-bd40-420873010148",
   "metadata": {},
   "outputs": [
    {
     "data": {
      "image/png": "[encoded data removed]",
      "text/plain": [
       "<Figure size 432x288 with 1 Axes>"
      ]
     },
     "metadata": {
      "needs_background": "light"
     },
     "output_type": "display_data"
    }
   ],
   "source": [
    "plt.scatter(df.TV, df.Sales)\n",
    "plt.show()"
   ]
  },
  {
   "cell_type": "code",
   "execution_count": 7,
   "id": "cd79a48d",
   "metadata": {},
   "outputs": [
    {
     "data": {
      "image/png": "[encoded data removed]",
      "text/plain": [
       "<Figure size 432x288 with 1 Axes>"
      ]
     },
     "metadata": {
      "needs_background": "light"
     },
     "output_type": "display_data"
    }
   ],
   "source": [
    "plt.scatter(df.Radio, df.Sales)\n",
    "plt.show()"
   ]
  },
  {
   "cell_type": "code",
   "execution_count": 8,
   "id": "b4d9a79b",
   "metadata": {},
   "outputs": [
    {
     "data": {
      "image/png": "[encoded data removed]",
      "text/plain": [
       "<Figure size 432x288 with 1 Axes>"
      ]
     },
     "metadata": {
      "needs_background": "light"
     },
     "output_type": "display_data"
    }
   ],
   "source": [
    "plt.scatter(df.Newspaper, df.Sales)\n",
    "plt.title('Sales-Newspaper')\n",
    "plt.xlabel('Newspaper')\n",
    "plt.ylabel('Sales')\n",
    "plt.show()"
   ]
  },
  {
   "cell_type": "markdown",
   "id": "031fe1c0",
   "metadata": {},
   "source": [
    "## Pairplot"
   ]
  },
  {
   "cell_type": "code",
   "execution_count": 9,
   "id": "99d7f3f7",
   "metadata": {},
   "outputs": [
    {
     "data": {
      "image/png": "[encoded data removed]",
      "text/plain": [
       "<Figure size 720x720 with 20 Axes>"
      ]
     },
     "metadata": {
      "needs_background": "light"
     },
     "output_type": "display_data"
    }
   ],
   "source": [
    "sns.pairplot(df)   \n",
    "plt.show()"
   ]
  },
  {
   "cell_type": "code",
   "execution_count": 10,
   "id": "c00a4e7a",
   "metadata": {},
   "outputs": [
    {
     "data": {
      "image/png": "[encoded data removed]",
      "text/plain": [
       "<Figure size 756x252 with 3 Axes>"
      ]
     },
     "metadata": {
      "needs_background": "light"
     },
     "output_type": "display_data"
    }
   ],
   "source": [
    "sns.pairplot(data=df, x_vars=['TV', 'Radio', 'Newspaper'],\n",
    "                      y_vars='Sales', height=3.5, kind='reg'\n",
    "    )\n",
    "plt.show()"
   ]
  },
  {
   "cell_type": "code",
   "execution_count": 11,
   "id": "d5942121",
   "metadata": {},
   "outputs": [
    {
     "data": {
      "text/html": [
       "<div>\n",
       "<style scoped>\n",
       "    .dataframe tbody tr th:only-of-type {\n",
       "        vertical-align: middle;\n",
       "    }\n",
       "\n",
       "    .dataframe tbody tr th {\n",
       "        vertical-align: top;\n",
       "    }\n",
       "\n",
       "    .dataframe thead th {\n",
       "        text-align: right;\n",
       "    }\n",
       "</style>\n",
       "<table border=\"1\" class=\"dataframe\">\n",
       "  <thead>\n",
       "    <tr style=\"text-align: right;\">\n",
       "      <th></th>\n",
       "      <th>TV</th>\n",
       "      <th>Radio</th>\n",
       "      <th>Newspaper</th>\n",
       "      <th>Sales</th>\n",
       "    </tr>\n",
       "  </thead>\n",
       "  <tbody>\n",
       "    <tr>\n",
       "      <th>TV</th>\n",
       "      <td>1.000000</td>\n",
       "      <td>0.318574</td>\n",
       "      <td>-0.163460</td>\n",
       "      <td>0.668370</td>\n",
       "    </tr>\n",
       "    <tr>\n",
       "      <th>Radio</th>\n",
       "      <td>0.318574</td>\n",
       "      <td>1.000000</td>\n",
       "      <td>0.368875</td>\n",
       "      <td>0.751720</td>\n",
       "    </tr>\n",
       "    <tr>\n",
       "      <th>Newspaper</th>\n",
       "      <td>-0.163460</td>\n",
       "      <td>0.368875</td>\n",
       "      <td>1.000000</td>\n",
       "      <td>0.117176</td>\n",
       "    </tr>\n",
       "    <tr>\n",
       "      <th>Sales</th>\n",
       "      <td>0.668370</td>\n",
       "      <td>0.751720</td>\n",
       "      <td>0.117176</td>\n",
       "      <td>1.000000</td>\n",
       "    </tr>\n",
       "  </tbody>\n",
       "</table>\n",
       "</div>"
      ],
      "text/plain": [
       "                 TV     Radio  Newspaper     Sales\n",
       "TV         1.000000  0.318574  -0.163460  0.668370\n",
       "Radio      0.318574  1.000000   0.368875  0.751720\n",
       "Newspaper -0.163460  0.368875   1.000000  0.117176\n",
       "Sales      0.668370  0.751720   0.117176  1.000000"
      ]
     },
     "execution_count": 11,
     "metadata": {},
     "output_type": "execute_result"
    }
   ],
   "source": [
    "# Correlation\n",
    "df.corr()"
   ]
  },
  {
   "cell_type": "markdown",
   "id": "2e8a03f5-6a27-4675-b608-c12b70895438",
   "metadata": {},
   "source": [
    "## Model"
   ]
  },
  {
   "cell_type": "code",
   "execution_count": 12,
   "id": "e2fe9be5-3ea0-4b70-98d0-b2060132dbcb",
   "metadata": {},
   "outputs": [],
   "source": [
    "from sklearn.linear_model import LinearRegression\n",
    "from sklearn.metrics import mean_squared_error, mean_absolute_error, r2_score"
   ]
  },
  {
   "cell_type": "code",
   "execution_count": 13,
   "id": "7de39daa",
   "metadata": {},
   "outputs": [],
   "source": [
    "dep_cols = ['TV','Radio','Newspaper']  # dependent vars columns (features)\n",
    "X = df[dep_cols]\n",
    "\n",
    "# X = df.drop(['Sales'], axis=1)\n",
    "y = df.Sales"
   ]
  },
  {
   "cell_type": "code",
   "execution_count": 14,
   "id": "91eb7ece-29ff-4e4e-ac84-6bc3a53e9586",
   "metadata": {},
   "outputs": [
    {
     "data": {
      "text/html": [
       "<div>\n",
       "<style scoped>\n",
       "    .dataframe tbody tr th:only-of-type {\n",
       "        vertical-align: middle;\n",
       "    }\n",
       "\n",
       "    .dataframe tbody tr th {\n",
       "        vertical-align: top;\n",
       "    }\n",
       "\n",
       "    .dataframe thead th {\n",
       "        text-align: right;\n",
       "    }\n",
       "</style>\n",
       "<table border=\"1\" class=\"dataframe\">\n",
       "  <thead>\n",
       "    <tr style=\"text-align: right;\">\n",
       "      <th></th>\n",
       "      <th>TV</th>\n",
       "      <th>Radio</th>\n",
       "      <th>Newspaper</th>\n",
       "    </tr>\n",
       "  </thead>\n",
       "  <tbody>\n",
       "    <tr>\n",
       "      <th>44</th>\n",
       "      <td>120.4</td>\n",
       "      <td>8.4</td>\n",
       "      <td>26.4</td>\n",
       "    </tr>\n",
       "    <tr>\n",
       "      <th>61</th>\n",
       "      <td>53.5</td>\n",
       "      <td>2.0</td>\n",
       "      <td>21.4</td>\n",
       "    </tr>\n",
       "    <tr>\n",
       "      <th>80</th>\n",
       "      <td>116.0</td>\n",
       "      <td>7.7</td>\n",
       "      <td>23.1</td>\n",
       "    </tr>\n",
       "    <tr>\n",
       "      <th>70</th>\n",
       "      <td>124.5</td>\n",
       "      <td>43.9</td>\n",
       "      <td>27.2</td>\n",
       "    </tr>\n",
       "    <tr>\n",
       "      <th>31</th>\n",
       "      <td>220.0</td>\n",
       "      <td>28.3</td>\n",
       "      <td>23.2</td>\n",
       "    </tr>\n",
       "  </tbody>\n",
       "</table>\n",
       "</div>"
      ],
      "text/plain": [
       "       TV  Radio  Newspaper\n",
       "44  120.4    8.4       26.4\n",
       "61   53.5    2.0       21.4\n",
       "80  116.0    7.7       23.1\n",
       "70  124.5   43.9       27.2\n",
       "31  220.0   28.3       23.2"
      ]
     },
     "execution_count": 14,
     "metadata": {},
     "output_type": "execute_result"
    }
   ],
   "source": [
    "X.head()"
   ]
  },
  {
   "cell_type": "code",
   "execution_count": 15,
   "id": "339f6f80",
   "metadata": {},
   "outputs": [
    {
     "data": {
      "text/plain": [
       "44    12.9\n",
       "61     8.1\n",
       "80    11.0\n",
       "70    22.3\n",
       "31    15.4\n",
       "Name: Sales, dtype: float64"
      ]
     },
     "execution_count": 15,
     "metadata": {},
     "output_type": "execute_result"
    }
   ],
   "source": [
    "y.head()"
   ]
  },
  {
   "cell_type": "code",
   "execution_count": 16,
   "id": "100f4f1d",
   "metadata": {},
   "outputs": [
    {
     "data": {
      "text/html": [
       "<div>\n",
       "<style scoped>\n",
       "    .dataframe tbody tr th:only-of-type {\n",
       "        vertical-align: middle;\n",
       "    }\n",
       "\n",
       "    .dataframe tbody tr th {\n",
       "        vertical-align: top;\n",
       "    }\n",
       "\n",
       "    .dataframe thead th {\n",
       "        text-align: right;\n",
       "    }\n",
       "</style>\n",
       "<table border=\"1\" class=\"dataframe\">\n",
       "  <thead>\n",
       "    <tr style=\"text-align: right;\">\n",
       "      <th></th>\n",
       "      <th>TV</th>\n",
       "      <th>Radio</th>\n",
       "      <th>Newspaper</th>\n",
       "      <th>Sales</th>\n",
       "    </tr>\n",
       "  </thead>\n",
       "  <tbody>\n",
       "    <tr>\n",
       "      <th>44</th>\n",
       "      <td>120.4</td>\n",
       "      <td>8.4</td>\n",
       "      <td>26.4</td>\n",
       "      <td>12.9</td>\n",
       "    </tr>\n",
       "    <tr>\n",
       "      <th>61</th>\n",
       "      <td>53.5</td>\n",
       "      <td>2.0</td>\n",
       "      <td>21.4</td>\n",
       "      <td>8.1</td>\n",
       "    </tr>\n",
       "    <tr>\n",
       "      <th>80</th>\n",
       "      <td>116.0</td>\n",
       "      <td>7.7</td>\n",
       "      <td>23.1</td>\n",
       "      <td>11.0</td>\n",
       "    </tr>\n",
       "    <tr>\n",
       "      <th>70</th>\n",
       "      <td>124.5</td>\n",
       "      <td>43.9</td>\n",
       "      <td>27.2</td>\n",
       "      <td>22.3</td>\n",
       "    </tr>\n",
       "    <tr>\n",
       "      <th>31</th>\n",
       "      <td>220.0</td>\n",
       "      <td>28.3</td>\n",
       "      <td>23.2</td>\n",
       "      <td>15.4</td>\n",
       "    </tr>\n",
       "  </tbody>\n",
       "</table>\n",
       "</div>"
      ],
      "text/plain": [
       "       TV  Radio  Newspaper  Sales\n",
       "44  120.4    8.4       26.4   12.9\n",
       "61   53.5    2.0       21.4    8.1\n",
       "80  116.0    7.7       23.1   11.0\n",
       "70  124.5   43.9       27.2   22.3\n",
       "31  220.0   28.3       23.2   15.4"
      ]
     },
     "execution_count": 16,
     "metadata": {},
     "output_type": "execute_result"
    }
   ],
   "source": [
    "df.head()"
   ]
  },
  {
   "cell_type": "markdown",
   "id": "f54d32d0",
   "metadata": {},
   "source": [
    "### Train Model และ ประเมิน "
   ]
  },
  {
   "cell_type": "code",
   "execution_count": 17,
   "id": "a2ed8da6",
   "metadata": {},
   "outputs": [
    {
     "data": {
      "text/plain": [
       "LinearRegression()"
      ]
     },
     "execution_count": 17,
     "metadata": {},
     "output_type": "execute_result"
    }
   ],
   "source": [
    "model = LinearRegression()\n",
    "model.fit(X, y)"
   ]
  },
  {
   "cell_type": "code",
   "execution_count": 18,
   "id": "f2420156-0d4d-42a1-a3fa-42f456c93af5",
   "metadata": {},
   "outputs": [
    {
     "data": {
      "text/plain": [
       "0.7706783104527418"
      ]
     },
     "execution_count": 18,
     "metadata": {},
     "output_type": "execute_result"
    }
   ],
   "source": [
    "model.score(X, y)"
   ]
  },
  {
   "cell_type": "code",
   "execution_count": 19,
   "id": "1c3cf1b2",
   "metadata": {},
   "outputs": [
    {
     "data": {
      "text/plain": [
       "0.7706783104527418"
      ]
     },
     "execution_count": 19,
     "metadata": {},
     "output_type": "execute_result"
    }
   ],
   "source": [
    "y_predict = model.predict(X)    # R2\n",
    "r2_score(y, y_predict)"
   ]
  },
  {
   "cell_type": "code",
   "execution_count": 20,
   "id": "603bee9e-1fdd-4ad7-8c5d-ea5964914b9a",
   "metadata": {},
   "outputs": [
    {
     "data": {
      "text/plain": [
       "5.202139595210598"
      ]
     },
     "execution_count": 20,
     "metadata": {},
     "output_type": "execute_result"
    }
   ],
   "source": [
    "mean_squared_error(y, y_predict)"
   ]
  },
  {
   "cell_type": "code",
   "execution_count": 21,
   "id": "ed731b11",
   "metadata": {},
   "outputs": [
    {
     "data": {
      "text/plain": [
       "1.8399385719735377"
      ]
     },
     "execution_count": 21,
     "metadata": {},
     "output_type": "execute_result"
    }
   ],
   "source": [
    "mean_absolute_error(y, y_predict)"
   ]
  },
  {
   "cell_type": "markdown",
   "id": "0100e945",
   "metadata": {},
   "source": [
    "## Predict ทำนาย"
   ]
  },
  {
   "cell_type": "code",
   "execution_count": 22,
   "id": "04db6441",
   "metadata": {},
   "outputs": [
    {
     "data": {
      "text/html": [
       "<div>\n",
       "<style scoped>\n",
       "    .dataframe tbody tr th:only-of-type {\n",
       "        vertical-align: middle;\n",
       "    }\n",
       "\n",
       "    .dataframe tbody tr th {\n",
       "        vertical-align: top;\n",
       "    }\n",
       "\n",
       "    .dataframe thead th {\n",
       "        text-align: right;\n",
       "    }\n",
       "</style>\n",
       "<table border=\"1\" class=\"dataframe\">\n",
       "  <thead>\n",
       "    <tr style=\"text-align: right;\">\n",
       "      <th></th>\n",
       "      <th>TV</th>\n",
       "      <th>Radio</th>\n",
       "      <th>Newspaper</th>\n",
       "      <th>Sales</th>\n",
       "    </tr>\n",
       "  </thead>\n",
       "  <tbody>\n",
       "    <tr>\n",
       "      <th>44</th>\n",
       "      <td>120.4</td>\n",
       "      <td>8.4</td>\n",
       "      <td>26.4</td>\n",
       "      <td>12.9</td>\n",
       "    </tr>\n",
       "    <tr>\n",
       "      <th>61</th>\n",
       "      <td>53.5</td>\n",
       "      <td>2.0</td>\n",
       "      <td>21.4</td>\n",
       "      <td>8.1</td>\n",
       "    </tr>\n",
       "    <tr>\n",
       "      <th>80</th>\n",
       "      <td>116.0</td>\n",
       "      <td>7.7</td>\n",
       "      <td>23.1</td>\n",
       "      <td>11.0</td>\n",
       "    </tr>\n",
       "    <tr>\n",
       "      <th>70</th>\n",
       "      <td>124.5</td>\n",
       "      <td>43.9</td>\n",
       "      <td>27.2</td>\n",
       "      <td>22.3</td>\n",
       "    </tr>\n",
       "    <tr>\n",
       "      <th>31</th>\n",
       "      <td>220.0</td>\n",
       "      <td>28.3</td>\n",
       "      <td>23.2</td>\n",
       "      <td>15.4</td>\n",
       "    </tr>\n",
       "  </tbody>\n",
       "</table>\n",
       "</div>"
      ],
      "text/plain": [
       "       TV  Radio  Newspaper  Sales\n",
       "44  120.4    8.4       26.4   12.9\n",
       "61   53.5    2.0       21.4    8.1\n",
       "80  116.0    7.7       23.1   11.0\n",
       "70  124.5   43.9       27.2   22.3\n",
       "31  220.0   28.3       23.2   15.4"
      ]
     },
     "execution_count": 22,
     "metadata": {},
     "output_type": "execute_result"
    }
   ],
   "source": [
    "df.head()"
   ]
  },
  {
   "cell_type": "code",
   "execution_count": 23,
   "id": "0464d7ca",
   "metadata": {},
   "outputs": [
    {
     "name": "stderr",
     "output_type": "stream",
     "text": [
      "C:\\Users\\Asus\\anaconda3\\lib\\site-packages\\sklearn\\base.py:450: UserWarning: X does not have valid feature names, but LinearRegression was fitted with feature names\n",
      "  warnings.warn(\n"
     ]
    },
    {
     "data": {
      "text/plain": [
       "array([12.6574858])"
      ]
     },
     "execution_count": 23,
     "metadata": {},
     "output_type": "execute_result"
    }
   ],
   "source": [
    "x_input = [[125.1, 9.8, 27.1]]   # TV, Radio, Newspaper\n",
    "model.predict(x_input)"
   ]
  },
  {
   "cell_type": "markdown",
   "id": "a45738ec",
   "metadata": {},
   "source": [
    "## สมการ Model"
   ]
  },
  {
   "cell_type": "code",
   "execution_count": 24,
   "id": "4b358a22",
   "metadata": {},
   "outputs": [
    {
     "data": {
      "text/plain": [
       "array([ 0.04039   ,  0.17537395, -0.00883801])"
      ]
     },
     "execution_count": 24,
     "metadata": {},
     "output_type": "execute_result"
    }
   ],
   "source": [
    "model.coef_         # สัมประสิทธ์"
   ]
  },
  {
   "cell_type": "code",
   "execution_count": 26,
   "id": "630a7445",
   "metadata": {},
   "outputs": [
    {
     "data": {
      "text/plain": [
       "6.125542594670357"
      ]
     },
     "execution_count": 26,
     "metadata": {},
     "output_type": "execute_result"
    }
   ],
   "source": [
    "model.intercept_    # intercept (b)"
   ]
  },
  {
   "cell_type": "code",
   "execution_count": 27,
   "id": "9b7552a6",
   "metadata": {},
   "outputs": [
    {
     "data": {
      "text/plain": [
       "[('TV', 0.04038999622400112),\n",
       " ('Radio', 0.17537394630054162),\n",
       " ('Newspaper', -0.00883800738595153)]"
      ]
     },
     "execution_count": 27,
     "metadata": {},
     "output_type": "execute_result"
    }
   ],
   "source": [
    "list(zip(dep_cols, model.coef_))  # รวมข้อมูลเป็น List เดียวกัน Features , Coefficient (slope) "
   ]
  },
  {
   "cell_type": "raw",
   "id": "9f01baf0-c2a3-4281-ab47-baa1e55315fe",
   "metadata": {},
   "source": [
    "y = m1.x1 + m2.x2 + m3.x3 + b\n",
    "\n",
    "y = (0.04039 * TV) + (0.175373 * Radio) + (-0.008838 * Newspaper) + 6.125542"
   ]
  },
  {
   "cell_type": "code",
   "execution_count": 28,
   "id": "8bb3f514",
   "metadata": {},
   "outputs": [
    {
     "data": {
      "text/plain": [
       "12.657476599999999"
      ]
     },
     "execution_count": 28,
     "metadata": {},
     "output_type": "execute_result"
    }
   ],
   "source": [
    "# x_input (predict) = [125.1, 9.8, 27.1]\n",
    "125.1*0.04039 + 9.8*0.175373 + 27.1*(-0.008838) + 6.125542"
   ]
  },
  {
   "cell_type": "code",
   "execution_count": 29,
   "id": "1eb396b9",
   "metadata": {},
   "outputs": [
    {
     "name": "stderr",
     "output_type": "stream",
     "text": [
      "C:\\Users\\Asus\\anaconda3\\lib\\site-packages\\sklearn\\base.py:450: UserWarning: X does not have valid feature names, but LinearRegression was fitted with feature names\n",
      "  warnings.warn(\n"
     ]
    },
    {
     "data": {
      "text/plain": [
       "array([ 6.12554259,  6.03716252, 22.31184562, 26.9687919 , 32.23090375,\n",
       "       56.39303081])"
      ]
     },
     "execution_count": 29,
     "metadata": {},
     "output_type": "execute_result"
    }
   ],
   "source": [
    "# ทำนาย (Predict) หลาย case\n",
    "x_input = [ [0, 0, 0],\n",
    "            [0, 0, 10],\n",
    "            [216.5, 43.8, 27.1],\n",
    "            [182.0, 78.3, 27.1],\n",
    "            [180.0, 107.4, 0],\n",
    "            [1.0, 286.4, 0]]\n",
    "y_pred = model.predict(x_input)\n",
    "y_pred"
   ]
  },
  {
   "cell_type": "code",
   "execution_count": 30,
   "id": "30376ea0",
   "metadata": {},
   "outputs": [
    {
     "data": {
      "text/plain": [
       "array([  0. ,  10. , 287.4, 287.4, 287.4, 287.4])"
      ]
     },
     "execution_count": 30,
     "metadata": {},
     "output_type": "execute_result"
    }
   ],
   "source": [
    "import numpy as np\n",
    "x_in = np.array(x_input)\n",
    "\n",
    "x_in.sum(axis=1)"
   ]
  },
  {
   "cell_type": "code",
   "execution_count": 31,
   "id": "50c3568e",
   "metadata": {},
   "outputs": [
    {
     "data": {
      "text/plain": [
       "287.40000000000003"
      ]
     },
     "execution_count": 31,
     "metadata": {},
     "output_type": "execute_result"
    }
   ],
   "source": [
    "216.5 + 43.8 + 27.1"
   ]
  },
  {
   "cell_type": "code",
   "execution_count": 32,
   "id": "e05bdc26",
   "metadata": {},
   "outputs": [
    {
     "data": {
      "text/plain": [
       "287.40000000000003"
      ]
     },
     "execution_count": 32,
     "metadata": {},
     "output_type": "execute_result"
    }
   ],
   "source": [
    "182.0 + 78.3 + 27.1"
   ]
  },
  {
   "cell_type": "markdown",
   "id": "8e923498",
   "metadata": {},
   "source": [
    "## สรุป Report"
   ]
  },
  {
   "cell_type": "code",
   "execution_count": 33,
   "id": "35c40cd4",
   "metadata": {},
   "outputs": [
    {
     "name": "stdout",
     "output_type": "stream",
     "text": [
      "|   TV  | Radio | Newsp |   Sales \n",
      "|     0 |     0 |     0 | =  6.13\n",
      "|     0 |     0 |    10 | =  6.04\n",
      "| 216.5 |  43.8 |  27.1 | = 22.31\n",
      "| 182.0 |  78.3 |  27.1 | = 26.97\n",
      "| 180.0 | 107.4 |     0 | = 32.23\n",
      "|   1.0 | 286.4 |     0 | = 56.39\n"
     ]
    }
   ],
   "source": [
    "print('|   TV  | Radio | Newsp |   Sales ')\n",
    "for i, x in enumerate(x_input):\n",
    "    print(f'| {x[0]:5} | {x[1]:5} | {x[2]:5} | = {y_pred[i] :5.2f}')"
   ]
  },
  {
   "cell_type": "code",
   "execution_count": 34,
   "id": "1e068ebd",
   "metadata": {},
   "outputs": [],
   "source": [
    "x_in_sum = x_in.sum(axis=1)"
   ]
  },
  {
   "cell_type": "code",
   "execution_count": 35,
   "id": "59206570",
   "metadata": {},
   "outputs": [
    {
     "name": "stdout",
     "output_type": "stream",
     "text": [
      "|   TV  | Radio | Newsp |  Sum  |  Sales \n",
      "|     0 |     0 |     0 |   0.0 | =  6.13\n",
      "|     0 |     0 |    10 |  10.0 | =  6.04\n",
      "| 216.5 |  43.8 |  27.1 | 287.4 | = 22.31\n",
      "| 182.0 |  78.3 |  27.1 | 287.4 | = 26.97\n",
      "| 180.0 | 107.4 |     0 | 287.4 | = 32.23\n",
      "|   1.0 | 286.4 |     0 | 287.4 | = 56.39\n"
     ]
    }
   ],
   "source": [
    "# สรุป Report\n",
    "print('|   TV  | Radio | Newsp |  Sum  |  Sales ')\n",
    "for i, x in enumerate(x_input):\n",
    "    print('| {:5} | {:5} | {:5} | {:5.1f} | = {:5.2f}'.\n",
    "          format(x[0],x[1],x[2],x_in_sum[i],y_pred[i] ))"
   ]
  },
  {
   "cell_type": "code",
   "execution_count": 36,
   "id": "4f468e45",
   "metadata": {},
   "outputs": [
    {
     "name": "stdout",
     "output_type": "stream",
     "text": [
      "|   TV  | Radio | Newsp |  Sum  |  Sales \n",
      "|     0 |     0 |     0 |   0.0 | =  6.13\n",
      "|     0 |     0 |    10 |  10.0 | =  6.04\n",
      "| 216.5 |  43.8 |  27.1 | 287.4 | = 22.31\n",
      "| 182.0 |  78.3 |  27.1 | 287.4 | = 26.97\n",
      "| 180.0 | 107.4 |     0 | 287.4 | = 32.23\n",
      "|   1.0 | 286.4 |     0 | 287.4 | = 56.39\n"
     ]
    }
   ],
   "source": [
    "# สรุป Report\n",
    "print('|   TV  | Radio | Newsp |  Sum  |  Sales ')\n",
    "for i, x in enumerate(x_input):\n",
    "    print(f'| {x[0]:5} | {x[1]:5} | {x[2]:5} | {x_in_sum[i]:5.1f} | = {y_pred[i] :5.2f}')"
   ]
  },
  {
   "cell_type": "code",
   "execution_count": null,
   "id": "2eabe8e3-ae52-4cf1-8537-42a084f5b63f",
   "metadata": {},
   "outputs": [],
   "source": [
    "for i, x in enumerate(x_input):\n",
    "    print(x, x_in_sum[i], y_pred[i])"
   ]
  },
  {
   "cell_type": "code",
   "execution_count": null,
   "id": "60e11ae7-f290-42ef-a05b-ec2963fdd742",
   "metadata": {},
   "outputs": [],
   "source": []
  }
 ],
 "metadata": {
  "kernelspec": {
   "display_name": "Python 3 (ipykernel)",
   "language": "python",
   "name": "python3"
  },
  "language_info": {
   "codemirror_mode": {
    "name": "ipython",
    "version": 3
   },
   "file_extension": ".py",
   "mimetype": "text/x-python",
   "name": "python",
   "nbconvert_exporter": "python",
   "pygments_lexer": "ipython3",
   "version": "3.9.12"
  }
 },
 "nbformat": 4,
 "nbformat_minor": 5
}
