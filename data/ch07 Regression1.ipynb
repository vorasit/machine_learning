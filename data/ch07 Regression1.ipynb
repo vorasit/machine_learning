{
 "cells": [
  {
   "cell_type": "markdown",
   "id": "e28e2cbf",
   "metadata": {},
   "source": [
    "## Linear Regression"
   ]
  },
  {
   "cell_type": "markdown",
   "id": "c0f8a5d8-5e5b-451a-bda5-b63ddb6cdfac",
   "metadata": {
    "tags": []
   },
   "source": [
    "## Machine Learning (ใช้ Scikit-learn)"
   ]
  },
  {
   "cell_type": "code",
   "execution_count": 31,
   "id": "65180553-e79a-47cc-998e-f7937309f3fa",
   "metadata": {},
   "outputs": [],
   "source": [
    "import matplotlib.pyplot as plt\n",
    "import numpy as np\n",
    "\n",
    "x_data = [1.0, 1.8, 3.0, 4.1, 5.2, 6.0]\n",
    "y_data = [1,   1.3, 2.2, 2.5, 2.8, 3.6]\n",
    "\n",
    "x = np.array(x_data)        # Numpy Array\n",
    "y = np.array(y_data)\n"
   ]
  },
  {
   "cell_type": "markdown",
   "id": "120d05c7",
   "metadata": {},
   "source": [
    "### Data Visualization"
   ]
  },
  {
   "cell_type": "code",
   "execution_count": 3,
   "id": "ed0de90f",
   "metadata": {},
   "outputs": [
    {
     "data": {
      "image/png": "[encoded data removed]",
      "text/plain": [
       "<Figure size 432x288 with 1 Axes>"
      ]
     },
     "metadata": {
      "needs_background": "light"
     },
     "output_type": "display_data"
    }
   ],
   "source": [
    "plt.scatter(x, y)\n",
    "plt.grid()\n",
    "plt.show()"
   ]
  },
  {
   "cell_type": "markdown",
   "id": "3fa7090a",
   "metadata": {},
   "source": [
    "### Model & Train"
   ]
  },
  {
   "cell_type": "code",
   "execution_count": 4,
   "id": "0be1140e-7db1-4438-9981-1226e974649d",
   "metadata": {},
   "outputs": [
    {
     "data": {
      "text/plain": [
       "LinearRegression()"
      ]
     },
     "execution_count": 4,
     "metadata": {},
     "output_type": "execute_result"
    }
   ],
   "source": [
    "from sklearn.linear_model import LinearRegression\n",
    "\n",
    "x = x.reshape(-1, 1)\n",
    "\n",
    "model = LinearRegression()\n",
    "model.fit(x, y)"
   ]
  },
  {
   "cell_type": "markdown",
   "id": "ae84440c",
   "metadata": {},
   "source": [
    "### Predict ทำนาย"
   ]
  },
  {
   "cell_type": "code",
   "execution_count": 5,
   "id": "91eb7ece-29ff-4e4e-ac84-6bc3a53e9586",
   "metadata": {},
   "outputs": [
    {
     "data": {
      "text/plain": [
       "array([1.49246448, 1.73670696, 1.98094944, 3.93488926])"
      ]
     },
     "execution_count": 5,
     "metadata": {},
     "output_type": "execute_result"
    }
   ],
   "source": [
    "x_input = [[2.0],\n",
    "           [2.5],\n",
    "           [3],\n",
    "           [7.0]] # ไม่จำเป็นต้องเรียงตรงแนว\n",
    "\n",
    "y_predict = model.predict(x_input)\n",
    "y_predict"
   ]
  },
  {
   "cell_type": "code",
   "execution_count": 6,
   "id": "f07f6b2f",
   "metadata": {},
   "outputs": [
    {
     "name": "stdout",
     "output_type": "stream",
     "text": [
      "x=[2.0] y=1.4925 \n",
      "x=[2.5] y=1.7367 \n",
      "x=[3] y=1.9809 \n",
      "x=[7.0] y=3.9349 \n"
     ]
    }
   ],
   "source": [
    "# วนรอบแสดง input และ ผลลัพธ์\n",
    "for i, y in enumerate(y_predict):\n",
    "    print('x={} y={:.4f} '.format(x_input[i], y) )"
   ]
  },
  {
   "cell_type": "code",
   "execution_count": 7,
   "id": "59c23f4f",
   "metadata": {},
   "outputs": [
    {
     "data": {
      "image/png": "[encoded data removed]",
      "text/plain": [
       "<Figure size 432x288 with 1 Axes>"
      ]
     },
     "metadata": {
      "needs_background": "light"
     },
     "output_type": "display_data"
    }
   ],
   "source": [
    "prd = model.predict(x)\n",
    "\n",
    "plt.grid()\n",
    "plt.scatter(x_data, y_data, color='b')        # ข้อมูลจริง (real data points)\n",
    "plt.plot(x_data, prd, linewidth='1')          # ทำนาย (prediction)\n",
    "plt.scatter(x_data, prd, color='r', marker='s')\n",
    "plt.show()"
   ]
  },
  {
   "cell_type": "code",
   "execution_count": 8,
   "id": "a1bd5bfe",
   "metadata": {},
   "outputs": [
    {
     "data": {
      "text/plain": [
       "(array([0.48848496]), 0.5154945733698053)"
      ]
     },
     "execution_count": 8,
     "metadata": {},
     "output_type": "execute_result"
    }
   ],
   "source": [
    "model.coef_ , model.intercept_      # m and b"
   ]
  },
  {
   "cell_type": "markdown",
   "id": "5bb9a072",
   "metadata": {},
   "source": [
    "## ประเมิน Model (Evaluation)"
   ]
  },
  {
   "cell_type": "code",
   "execution_count": 9,
   "id": "687025b3",
   "metadata": {},
   "outputs": [],
   "source": [
    "y = [100, 50, 30, 20]           # ค่า y จากข้อมูลของจริง\n",
    "y_predict = [90, 50, 50, 30]    # ค่า y สมมุติว่าได้จากการทำนาย (Predict) ด้วย Model"
   ]
  },
  {
   "cell_type": "code",
   "execution_count": 10,
   "id": "6b33b6fb",
   "metadata": {},
   "outputs": [
    {
     "data": {
      "text/plain": [
       "10.0"
      ]
     },
     "execution_count": 10,
     "metadata": {},
     "output_type": "execute_result"
    }
   ],
   "source": [
    "# MAE: Mean Absolute Error\n",
    "(10 + 0 + 20 + 10) / 4"
   ]
  },
  {
   "cell_type": "code",
   "execution_count": 11,
   "id": "5a91383a",
   "metadata": {},
   "outputs": [
    {
     "data": {
      "text/plain": [
       "10.0"
      ]
     },
     "execution_count": 11,
     "metadata": {},
     "output_type": "execute_result"
    }
   ],
   "source": [
    "from sklearn.metrics import mean_squared_error, mean_absolute_error\n",
    "\n",
    "mean_absolute_error(y, y_predict)"
   ]
  },
  {
   "cell_type": "code",
   "execution_count": 12,
   "id": "2ee88fe5",
   "metadata": {},
   "outputs": [
    {
     "data": {
      "text/plain": [
       "150.0"
      ]
     },
     "execution_count": 12,
     "metadata": {},
     "output_type": "execute_result"
    }
   ],
   "source": [
    "# MSE:  Mean Squared Error\n",
    "(10**2 + 0**2 + 20**2 + 10**2) / 4"
   ]
  },
  {
   "cell_type": "code",
   "execution_count": 13,
   "id": "bff6e73b",
   "metadata": {},
   "outputs": [
    {
     "data": {
      "text/plain": [
       "150.0"
      ]
     },
     "execution_count": 13,
     "metadata": {},
     "output_type": "execute_result"
    }
   ],
   "source": [
    "mean_squared_error(y, y_predict)"
   ]
  },
  {
   "cell_type": "code",
   "execution_count": 14,
   "id": "a0e0ee20",
   "metadata": {},
   "outputs": [
    {
     "data": {
      "text/plain": [
       "12.24744871391589"
      ]
     },
     "execution_count": 14,
     "metadata": {},
     "output_type": "execute_result"
    }
   ],
   "source": [
    "# RMSE: Root Mean Squared Error\n",
    "import numpy as np\n",
    "np.sqrt((10**2 + 0**2 + 20**2 + 10**2) / 4)"
   ]
  },
  {
   "cell_type": "code",
   "execution_count": 15,
   "id": "7caa405d",
   "metadata": {},
   "outputs": [
    {
     "data": {
      "text/plain": [
       "12.24744871391589"
      ]
     },
     "execution_count": 15,
     "metadata": {},
     "output_type": "execute_result"
    }
   ],
   "source": [
    "np.sqrt(mean_squared_error(y, y_predict))"
   ]
  },
  {
   "cell_type": "markdown",
   "id": "8347cd5d",
   "metadata": {},
   "source": [
    "## Train & Evaluation"
   ]
  },
  {
   "cell_type": "code",
   "execution_count": 16,
   "id": "6fdf25c3",
   "metadata": {},
   "outputs": [
    {
     "data": {
      "text/plain": [
       "LinearRegression()"
      ]
     },
     "execution_count": 16,
     "metadata": {},
     "output_type": "execute_result"
    }
   ],
   "source": [
    "from sklearn.linear_model import LinearRegression\n",
    "\n",
    "x_data = [1.0, 1.8, 3.0, 4.1, 5.2, 6.0]\n",
    "y_data = [1,   1.3, 2.2, 2.5, 2.8, 3.6]\n",
    "\n",
    "x = np.array(x_data)        # Numpy Array\n",
    "y = np.array(y_data)\n",
    "\n",
    "x = x.reshape(-1, 1)\n",
    "\n",
    "model = LinearRegression()\n",
    "model.fit(x, y)"
   ]
  },
  {
   "cell_type": "code",
   "execution_count": 17,
   "id": "0c30099e",
   "metadata": {},
   "outputs": [],
   "source": [
    "# ประเมิน โดย import ฟังก์ชันที่ใช้ในการประเมิน\n",
    "from sklearn.metrics import mean_squared_error, mean_absolute_error, r2_score"
   ]
  },
  {
   "cell_type": "code",
   "execution_count": 18,
   "id": "e8ccd8fe",
   "metadata": {},
   "outputs": [
    {
     "data": {
      "text/plain": [
       "0.9685718887231725"
      ]
     },
     "execution_count": 18,
     "metadata": {},
     "output_type": "execute_result"
    }
   ],
   "source": [
    "model.score(x, y)       # x และ y (ข้อมูลจริง)"
   ]
  },
  {
   "cell_type": "code",
   "execution_count": 19,
   "id": "83abd2b4",
   "metadata": {},
   "outputs": [
    {
     "data": {
      "text/plain": [
       "0.9685718887231725"
      ]
     },
     "execution_count": 19,
     "metadata": {},
     "output_type": "execute_result"
    }
   ],
   "source": [
    "y_predict = model.predict(x)\n",
    "r2_score(y, y_predict)"
   ]
  },
  {
   "cell_type": "code",
   "execution_count": 20,
   "id": "6f1dea0e",
   "metadata": {},
   "outputs": [
    {
     "data": {
      "text/plain": [
       "0.02437424630136185"
      ]
     },
     "execution_count": 20,
     "metadata": {},
     "output_type": "execute_result"
    }
   ],
   "source": [
    "mean_squared_error(y, y_predict)"
   ]
  },
  {
   "cell_type": "code",
   "execution_count": 21,
   "id": "6ae7aef3",
   "metadata": {},
   "outputs": [
    {
     "data": {
      "text/plain": [
       "0.12421541810053253"
      ]
     },
     "execution_count": 21,
     "metadata": {},
     "output_type": "execute_result"
    }
   ],
   "source": [
    "mean_absolute_error(y, y_predict)"
   ]
  },
  {
   "cell_type": "markdown",
   "id": "a52ff159",
   "metadata": {},
   "source": [
    "## Ex. Dataset no 2 "
   ]
  },
  {
   "cell_type": "code",
   "execution_count": 22,
   "id": "63d33af9",
   "metadata": {},
   "outputs": [
    {
     "data": {
      "image/png": "[encoded data removed]",
      "text/plain": [
       "<Figure size 432x288 with 1 Axes>"
      ]
     },
     "metadata": {
      "needs_background": "light"
     },
     "output_type": "display_data"
    }
   ],
   "source": [
    "x_data = [1.0, 1.8, 3.0, 4.1, 5.2, 6.0]\n",
    "y_data = [1, 1.2, 2.8, 2.9, 2.1, 3.6]\n",
    "\n",
    "x = np.array(x_data).reshape(-1, 1)\n",
    "y = np.array(y_data)\n",
    "\n",
    "model.fit(x, y)\n",
    "\n",
    "y_predict = model.predict(x)\n",
    "\n",
    "plt.grid()\n",
    "plt.scatter(x, y, color='b')            # real data points\n",
    "plt.plot(x, y_predict, linewidth='1')   # prediction\n",
    "plt.scatter(x, y_predict, color='r', marker='s')\n",
    "plt.show()"
   ]
  },
  {
   "cell_type": "code",
   "execution_count": 23,
   "id": "b94ffb2a",
   "metadata": {},
   "outputs": [
    {
     "data": {
      "text/plain": [
       "0.6708607578004824"
      ]
     },
     "execution_count": 23,
     "metadata": {},
     "output_type": "execute_result"
    }
   ],
   "source": [
    "model.score(x, y)"
   ]
  },
  {
   "cell_type": "code",
   "execution_count": 24,
   "id": "4d2388d6",
   "metadata": {},
   "outputs": [
    {
     "data": {
      "text/plain": [
       "0.6708607578004824"
      ]
     },
     "execution_count": 24,
     "metadata": {},
     "output_type": "execute_result"
    }
   ],
   "source": [
    "# R2\n",
    "y_predict = model.predict(x)\n",
    "r2_score(y, y_predict)"
   ]
  },
  {
   "cell_type": "code",
   "execution_count": 25,
   "id": "eaaf93bd",
   "metadata": {},
   "outputs": [
    {
     "data": {
      "text/plain": [
       "0.2870825612518014"
      ]
     },
     "execution_count": 25,
     "metadata": {},
     "output_type": "execute_result"
    }
   ],
   "source": [
    "mean_squared_error(y, y_predict)"
   ]
  },
  {
   "cell_type": "code",
   "execution_count": 26,
   "id": "7560d8dc",
   "metadata": {},
   "outputs": [
    {
     "data": {
      "text/plain": [
       "0.4668725550751491"
      ]
     },
     "execution_count": 26,
     "metadata": {},
     "output_type": "execute_result"
    }
   ],
   "source": [
    "mean_absolute_error(y, y_predict)"
   ]
  },
  {
   "cell_type": "markdown",
   "id": "86ce75e0",
   "metadata": {},
   "source": [
    "## Ex. Dataset 3  (R2 =1)"
   ]
  },
  {
   "cell_type": "code",
   "execution_count": 27,
   "id": "a510cf7e",
   "metadata": {},
   "outputs": [
    {
     "data": {
      "text/plain": [
       "LinearRegression()"
      ]
     },
     "execution_count": 27,
     "metadata": {},
     "output_type": "execute_result"
    }
   ],
   "source": [
    "model.fit(x, x)"
   ]
  },
  {
   "cell_type": "code",
   "execution_count": 28,
   "id": "d665a838",
   "metadata": {},
   "outputs": [
    {
     "data": {
      "image/png": "[encoded data removed]",
      "text/plain": [
       "<Figure size 432x288 with 1 Axes>"
      ]
     },
     "metadata": {
      "needs_background": "light"
     },
     "output_type": "display_data"
    }
   ],
   "source": [
    "y_predict = model.predict(x)\n",
    "\n",
    "plt.grid()\n",
    "plt.scatter(x, x, color='b')            # real data points\n",
    "plt.plot(x, y_predict, linewidth='1')   # prediction\n",
    "plt.scatter(x, y_predict, color='r', marker='s') #s\n",
    "plt.show()"
   ]
  },
  {
   "cell_type": "code",
   "execution_count": 29,
   "id": "241cd18e",
   "metadata": {},
   "outputs": [
    {
     "name": "stdout",
     "output_type": "stream",
     "text": [
      "1.0\n",
      "0.0\n",
      "0.0\n"
     ]
    }
   ],
   "source": [
    "print(model.score(x, x))\n",
    "print(mean_squared_error(x, y_predict))\n",
    "print(mean_absolute_error(x, y_predict))"
   ]
  },
  {
   "cell_type": "code",
   "execution_count": null,
   "id": "72efcd70",
   "metadata": {},
   "outputs": [],
   "source": []
  }
 ],
 "metadata": {
  "kernelspec": {
   "display_name": "Python 3 (ipykernel)",
   "language": "python",
   "name": "python3"
  },
  "language_info": {
   "codemirror_mode": {
    "name": "ipython",
    "version": 3
   },
   "file_extension": ".py",
   "mimetype": "text/x-python",
   "name": "python",
   "nbconvert_exporter": "python",
   "pygments_lexer": "ipython3",
   "version": "3.9.12"
  }
 },
 "nbformat": 4,
 "nbformat_minor": 5
}
