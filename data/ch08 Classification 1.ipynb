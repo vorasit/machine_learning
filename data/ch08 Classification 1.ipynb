{
 "cells": [
  {
   "cell_type": "markdown",
   "metadata": {
    "id": "n6lDkPTsojQI"
   },
   "source": [
    "# Classification 1: (Fruit 2 classes)"
   ]
  },
  {
   "cell_type": "code",
   "execution_count": 1,
   "metadata": {
    "id": "cHpoQpkgojQM"
   },
   "outputs": [],
   "source": [
    "import pandas as pd\n",
    "import matplotlib.pyplot as plt\n",
    "import numpy as np"
   ]
  },
  {
   "cell_type": "markdown",
   "metadata": {
    "id": "Pj4oMkkQojQO"
   },
   "source": [
    "## Dataset"
   ]
  },
  {
   "cell_type": "code",
   "execution_count": 2,
   "metadata": {
    "id": "sX6m9AQmojQP"
   },
   "outputs": [],
   "source": [
    "X = [[27],                                                              \n",
    "     [35],                                                              \n",
    "     [39],                                                              \n",
    "     [21],                                                              \n",
    "     [22],                                                                   \n",
    "     [45]]                                                              \n",
    "\n",
    "y_names = ['lemon', 'orange', 'orange', 'lemon', 'lemon', 'orange']\n",
    "y = [0, 1, 1, 0, 0, 1]"
   ]
  },
  {
   "cell_type": "markdown",
   "metadata": {
    "id": "W05z7GqKojQR",
    "tags": []
   },
   "source": [
    "## Data Visualization"
   ]
  },
  {
   "cell_type": "code",
   "execution_count": 3,
   "metadata": {
    "colab": {
     "base_uri": "https://localhost:8080/",
     "height": 279
    },
    "id": "lxSRZTGRojQS",
    "outputId": "ccd076e6-6455-44ce-a8bf-cf55cf6d5894"
   },
   "outputs": [
    {
     "data": {
      "image/png": "[encoded data removed]",
      "text/plain": [
       "<Figure size 432x288 with 1 Axes>"
      ]
     },
     "metadata": {
      "needs_background": "light"
     },
     "output_type": "display_data"
    }
   ],
   "source": [
    "# plt.figure(figsize=(4,3))\n",
    "\n",
    "plt.xlabel('fruit')\n",
    "plt.ylabel('size')\n",
    "plt.scatter(y_names, X)\n",
    "plt.show()"
   ]
  },
  {
   "cell_type": "markdown",
   "metadata": {
    "id": "4q9FnWwEojQT"
   },
   "source": [
    "# Model\n",
    "https://scikit-learn.org/stable/modules/generated/sklearn.tree.DecisionTreeClassifier.html"
   ]
  },
  {
   "cell_type": "code",
   "execution_count": 4,
   "metadata": {
    "id": "v5TFDP1rojQT"
   },
   "outputs": [],
   "source": [
    "from sklearn.tree import DecisionTreeClassifier\n",
    "model = DecisionTreeClassifier()  "
   ]
  },
  {
   "cell_type": "code",
   "execution_count": 5,
   "metadata": {
    "colab": {
     "base_uri": "https://localhost:8080/"
    },
    "id": "ztYJ-uOeojQV",
    "outputId": "e2297f6d-7b1f-4a2f-d771-a4ebe65cd9d5"
   },
   "outputs": [
    {
     "data": {
      "text/plain": [
       "DecisionTreeClassifier()"
      ]
     },
     "execution_count": 5,
     "metadata": {},
     "output_type": "execute_result"
    }
   ],
   "source": [
    "model.fit(X, y)"
   ]
  },
  {
   "cell_type": "markdown",
   "metadata": {
    "id": "yekmMu6tojQV"
   },
   "source": [
    "## Predict"
   ]
  },
  {
   "cell_type": "code",
   "execution_count": 6,
   "metadata": {
    "colab": {
     "base_uri": "https://localhost:8080/"
    },
    "id": "-s_wntoJojQW",
    "outputId": "9bafb5a9-a2cb-43ae-b6ac-385b9baf4241"
   },
   "outputs": [
    {
     "data": {
      "text/plain": [
       "array([0])"
      ]
     },
     "execution_count": 6,
     "metadata": {},
     "output_type": "execute_result"
    }
   ],
   "source": [
    "X_input = [[25.3]]\n",
    "y_predict = model.predict(X_input)\n",
    "y_predict\n",
    "# print('Result =', y_predict[0] )"
   ]
  },
  {
   "cell_type": "code",
   "execution_count": 7,
   "metadata": {
    "id": "OzMaaYp7ojQW"
   },
   "outputs": [],
   "source": [
    "fruit_classes = ['Lemon','Orange']"
   ]
  },
  {
   "cell_type": "code",
   "execution_count": 8,
   "metadata": {
    "colab": {
     "base_uri": "https://localhost:8080/"
    },
    "id": "qRHkXpWpojQX",
    "outputId": "6252904c-5023-4a3d-883e-71585bcb1697"
   },
   "outputs": [
    {
     "name": "stdout",
     "output_type": "stream",
     "text": [
      "Result: Lemon\n"
     ]
    }
   ],
   "source": [
    "prd = fruit_classes[y_predict[0]]\n",
    "print('Result: {}'. format(prd))"
   ]
  },
  {
   "cell_type": "code",
   "execution_count": 9,
   "metadata": {
    "colab": {
     "base_uri": "https://localhost:8080/"
    },
    "id": "ASP4l0CWojQX",
    "outputId": "7e913008-c815-4e26-971c-608b1f9949cc"
   },
   "outputs": [
    {
     "data": {
      "text/plain": [
       "array([0, 0, 0, 1])"
      ]
     },
     "execution_count": 9,
     "metadata": {},
     "output_type": "execute_result"
    }
   ],
   "source": [
    "X_input = [[31.0],\n",
    "           [25.0],\n",
    "           [21.2],\n",
    "           [38.6]]\n",
    "y_predict = model.predict(X_input)\n",
    "y_predict"
   ]
  },
  {
   "cell_type": "code",
   "execution_count": 10,
   "metadata": {
    "colab": {
     "base_uri": "https://localhost:8080/"
    },
    "id": "IznFvFZFojQY",
    "outputId": "29d58ea3-a53f-4eda-a690-3cdaa0bb6f2e"
   },
   "outputs": [
    {
     "name": "stdout",
     "output_type": "stream",
     "text": [
      "Result:\n",
      "Lemon\n",
      "Lemon\n",
      "Lemon\n",
      "Orange\n"
     ]
    }
   ],
   "source": [
    "print('Result:')\n",
    "for i in y_predict:\n",
    "    print(fruit_classes[i])"
   ]
  },
  {
   "cell_type": "code",
   "execution_count": 11,
   "metadata": {
    "colab": {
     "base_uri": "https://localhost:8080/"
    },
    "id": "nn15HYBnojQY",
    "outputId": "bb24162d-f73b-4e51-d20a-556295e09be3"
   },
   "outputs": [
    {
     "name": "stdout",
     "output_type": "stream",
     "text": [
      "[31.0] = 0  Lemon\n",
      "[25.0] = 0  Lemon\n",
      "[21.2] = 0  Lemon\n",
      "[38.6] = 1  Orange\n"
     ]
    }
   ],
   "source": [
    "for i, val in enumerate(y_predict):\n",
    "    print(f'{X_input[i]} = {val}  {fruit_classes[val]}')"
   ]
  },
  {
   "cell_type": "markdown",
   "metadata": {
    "id": "7-QNAf-1ojQZ"
   },
   "source": [
    "## Visualize Model\n",
    "- Tree \n",
    "- ขอบเขตการแบ่ง (การตัดสินใจ)"
   ]
  },
  {
   "cell_type": "markdown",
   "metadata": {
    "id": "8R2Vn31zx21Y"
   },
   "source": [
    "### Tree\n",
    "- scikit learn v >= .21\n",
    "- python-graphviz + pydotplus (Optional) "
   ]
  },
  {
   "cell_type": "code",
   "execution_count": 12,
   "metadata": {
    "colab": {
     "base_uri": "https://localhost:8080/",
     "height": 277
    },
    "id": "0W-Vxsf9ojQb",
    "outputId": "1a8ae9c4-c32a-4507-80b3-c3b285b62291"
   },
   "outputs": [
    {
     "name": "stdout",
     "output_type": "stream",
     "text": [
      "Name: scikit-learn\n",
      "Version: 1.0.2\n",
      "Summary: A set of python modules for machine learning and data mining\n",
      "Home-page: http://scikit-learn.org\n",
      "Author: \n",
      "Author-email: \n",
      "License: new BSD\n",
      "Location: c:\\users\\asus\\anaconda3\\lib\\site-packages\n",
      "Requires: joblib, threadpoolctl, numpy, scipy\n",
      "Required-by: scikit-learn-intelex\n"
     ]
    }
   ],
   "source": [
    "!pip show scikit-learn"
   ]
  },
  {
   "cell_type": "code",
   "execution_count": 15,
   "metadata": {
    "colab": {
     "base_uri": "https://localhost:8080/",
     "height": 277
    },
    "id": "0W-Vxsf9ojQb",
    "outputId": "1a8ae9c4-c32a-4507-80b3-c3b285b62291"
   },
   "outputs": [
    {
     "name": "stdout",
     "output_type": "stream",
     "text": [
      "# packages in environment at C:\\Users\\Asus\\anaconda3:\n",
      "#\n",
      "# Name                    Version                   Build  Channel\n",
      "scikit-learn              1.0.2            py39hf11a4ad_1  \n",
      "scikit-learn-intelex      2021.5.0         py39haa95532_0  \n"
     ]
    }
   ],
   "source": [
    "!conda list scikit-learn"
   ]
  },
  {
   "cell_type": "code",
   "execution_count": 16,
   "metadata": {
    "colab": {
     "base_uri": "https://localhost:8080/",
     "height": 277
    },
    "id": "0W-Vxsf9ojQb",
    "outputId": "1a8ae9c4-c32a-4507-80b3-c3b285b62291"
   },
   "outputs": [
    {
     "data": {
      "image/png": "[encoded data removed]",
      "text/plain": [
       "<Figure size 384x288 with 1 Axes>"
      ]
     },
     "metadata": {
      "needs_background": "light"
     },
     "output_type": "display_data"
    }
   ],
   "source": [
    "from sklearn.tree import plot_tree\n",
    "\n",
    "data_feature_names = ['size']\n",
    "\n",
    "plt.subplots(nrows=1, ncols=1, figsize=(4, 3), dpi=96)\n",
    "# plt.figure(figsize=(6,6))\n",
    "\n",
    "plot_tree(model, \n",
    "         filled=True, rounded=True,\n",
    "         feature_names=data_feature_names,  \n",
    "         class_names=fruit_classes)\n",
    "\n",
    "plt.show()"
   ]
  },
  {
   "cell_type": "code",
   "execution_count": 17,
   "metadata": {
    "colab": {
     "base_uri": "https://localhost:8080/",
     "height": 277
    },
    "id": "0W-Vxsf9ojQb",
    "outputId": "1a8ae9c4-c32a-4507-80b3-c3b285b62291"
   },
   "outputs": [
    {
     "data": {
      "text/plain": [
       "[Text(0.5, 0.75, 'X[0] <= 31.0\\ngini = 0.5\\nsamples = 6\\nvalue = [3, 3]'),\n",
       " Text(0.25, 0.25, 'gini = 0.0\\nsamples = 3\\nvalue = [3, 0]'),\n",
       " Text(0.75, 0.25, 'gini = 0.0\\nsamples = 3\\nvalue = [0, 3]')]"
      ]
     },
     "execution_count": 17,
     "metadata": {},
     "output_type": "execute_result"
    },
    {
     "data": {
      "image/png": "[encoded data removed]",
      "text/plain": [
       "<Figure size 432x288 with 1 Axes>"
      ]
     },
     "metadata": {
      "needs_background": "light"
     },
     "output_type": "display_data"
    }
   ],
   "source": [
    "plot_tree(model)"
   ]
  },
  {
   "cell_type": "code",
   "execution_count": 18,
   "metadata": {
    "colab": {
     "base_uri": "https://localhost:8080/",
     "height": 277
    },
    "id": "0W-Vxsf9ojQb",
    "outputId": "1a8ae9c4-c32a-4507-80b3-c3b285b62291"
   },
   "outputs": [
    {
     "ename": "ModuleNotFoundError",
     "evalue": "No module named 'pydotplus'",
     "output_type": "error",
     "traceback": [
      "\u001b[1;31m---------------------------------------------------------------------------\u001b[0m",
      "\u001b[1;31mModuleNotFoundError\u001b[0m                       Traceback (most recent call last)",
      "Input \u001b[1;32mIn [18]\u001b[0m, in \u001b[0;36m<cell line: 1>\u001b[1;34m()\u001b[0m\n\u001b[1;32m----> 1\u001b[0m \u001b[38;5;28;01mimport\u001b[39;00m \u001b[38;5;21;01mpydotplus\u001b[39;00m\n\u001b[0;32m      2\u001b[0m \u001b[38;5;28;01mfrom\u001b[39;00m \u001b[38;5;21;01msklearn\u001b[39;00m\u001b[38;5;21;01m.\u001b[39;00m\u001b[38;5;21;01mtree\u001b[39;00m \u001b[38;5;28;01mimport\u001b[39;00m export_graphviz\n\u001b[0;32m      3\u001b[0m \u001b[38;5;28;01mfrom\u001b[39;00m \u001b[38;5;21;01mIPython\u001b[39;00m\u001b[38;5;21;01m.\u001b[39;00m\u001b[38;5;21;01mdisplay\u001b[39;00m \u001b[38;5;28;01mimport\u001b[39;00m Image\n",
      "\u001b[1;31mModuleNotFoundError\u001b[0m: No module named 'pydotplus'"
     ]
    }
   ],
   "source": [
    "import pydotplus\n",
    "from sklearn.tree import export_graphviz\n",
    "from IPython.display import Image\n",
    "\n",
    "data_feature_names = ['size']\n",
    "\n",
    "dot_data = export_graphviz(model, out_file=None, \n",
    "                           feature_names=data_feature_names,  \n",
    "                           class_names=fruit_classes, \n",
    "                           filled=True,\n",
    "                           rounded=True)\n",
    "\n",
    "graph = pydotplus.graph_from_dot_data(dot_data)  \n",
    "Image(graph.create_png())"
   ]
  },
  {
   "cell_type": "markdown",
   "metadata": {
    "id": "bT34ODcsojQc"
   },
   "source": [
    "### ขอบเขตการแบ่ง (การตัดสินใจ: Decision regions)"
   ]
  },
  {
   "cell_type": "code",
   "execution_count": 21,
   "metadata": {
    "id": "5arrGcRdojQc"
   },
   "outputs": [
    {
     "name": "stdout",
     "output_type": "stream",
     "text": [
      "Name: mlxtend\n",
      "Version: 0.20.0\n",
      "Summary: Machine Learning Library Extensions\n",
      "Home-page: https://github.com/rasbt/mlxtend\n",
      "Author: Sebastian Raschka\n",
      "Author-email: mail@sebastianraschka.com\n",
      "License: BSD 3-Clause\n",
      "Location: c:\\users\\asus\\anaconda3\\lib\\site-packages\n",
      "Requires: joblib, scipy, numpy, scikit-learn, matplotlib, pandas, setuptools\n",
      "Required-by: \n"
     ]
    }
   ],
   "source": [
    "!pip show mlxtend"
   ]
  },
  {
   "cell_type": "code",
   "execution_count": 20,
   "metadata": {
    "id": "5arrGcRdojQc"
   },
   "outputs": [
    {
     "name": "stdout",
     "output_type": "stream",
     "text": [
      "Collecting mlxtend\n",
      "  Downloading mlxtend-0.20.0-py2.py3-none-any.whl (1.3 MB)\n",
      "Requirement already satisfied: scikit-learn>=1.0.2 in c:\\users\\asus\\anaconda3\\lib\\site-packages (from mlxtend) (1.0.2)\n",
      "Requirement already satisfied: pandas>=0.24.2 in c:\\users\\asus\\anaconda3\\lib\\site-packages (from mlxtend) (1.4.2)\n",
      "Requirement already satisfied: numpy>=1.16.2 in c:\\users\\asus\\anaconda3\\lib\\site-packages (from mlxtend) (1.21.5)\n",
      "Requirement already satisfied: matplotlib>=3.0.0 in c:\\users\\asus\\anaconda3\\lib\\site-packages (from mlxtend) (3.5.1)\n",
      "Requirement already satisfied: setuptools in c:\\users\\asus\\anaconda3\\lib\\site-packages (from mlxtend) (61.2.0)\n",
      "Requirement already satisfied: scipy>=1.2.1 in c:\\users\\asus\\anaconda3\\lib\\site-packages (from mlxtend) (1.7.3)\n",
      "Requirement already satisfied: joblib>=0.13.2 in c:\\users\\asus\\anaconda3\\lib\\site-packages (from mlxtend) (1.1.0)\n",
      "Requirement already satisfied: fonttools>=4.22.0 in c:\\users\\asus\\anaconda3\\lib\\site-packages (from matplotlib>=3.0.0->mlxtend) (4.25.0)\n",
      "Requirement already satisfied: python-dateutil>=2.7 in c:\\users\\asus\\anaconda3\\lib\\site-packages (from matplotlib>=3.0.0->mlxtend) (2.8.2)\n",
      "Requirement already satisfied: packaging>=20.0 in c:\\users\\asus\\anaconda3\\lib\\site-packages (from matplotlib>=3.0.0->mlxtend) (21.3)\n",
      "Requirement already satisfied: kiwisolver>=1.0.1 in c:\\users\\asus\\anaconda3\\lib\\site-packages (from matplotlib>=3.0.0->mlxtend) (1.3.2)\n",
      "Requirement already satisfied: cycler>=0.10 in c:\\users\\asus\\anaconda3\\lib\\site-packages (from matplotlib>=3.0.0->mlxtend) (0.11.0)\n",
      "Requirement already satisfied: pillow>=6.2.0 in c:\\users\\asus\\anaconda3\\lib\\site-packages (from matplotlib>=3.0.0->mlxtend) (9.0.1)\n",
      "Requirement already satisfied: pyparsing>=2.2.1 in c:\\users\\asus\\anaconda3\\lib\\site-packages (from matplotlib>=3.0.0->mlxtend) (3.0.4)\n",
      "Requirement already satisfied: pytz>=2020.1 in c:\\users\\asus\\anaconda3\\lib\\site-packages (from pandas>=0.24.2->mlxtend) (2021.3)\n",
      "Requirement already satisfied: six>=1.5 in c:\\users\\asus\\anaconda3\\lib\\site-packages (from python-dateutil>=2.7->matplotlib>=3.0.0->mlxtend) (1.16.0)\n",
      "Requirement already satisfied: threadpoolctl>=2.0.0 in c:\\users\\asus\\anaconda3\\lib\\site-packages (from scikit-learn>=1.0.2->mlxtend) (2.2.0)\n",
      "Installing collected packages: mlxtend\n",
      "Successfully installed mlxtend-0.20.0\n"
     ]
    }
   ],
   "source": [
    "!pip install mlxtend"
   ]
  },
  {
   "cell_type": "code",
   "execution_count": 22,
   "metadata": {
    "id": "5arrGcRdojQc"
   },
   "outputs": [],
   "source": [
    "from mlxtend.plotting import plot_decision_regions"
   ]
  },
  {
   "cell_type": "code",
   "execution_count": 23,
   "metadata": {
    "id": "9ofcZjuAojQc"
   },
   "outputs": [],
   "source": [
    "# plot needs Numpy\n",
    "X = np.array(X)\n",
    "y = np.array(y)"
   ]
  },
  {
   "cell_type": "code",
   "execution_count": 24,
   "metadata": {
    "colab": {
     "base_uri": "https://localhost:8080/",
     "height": 320
    },
    "id": "BNcRcGDQojQd",
    "outputId": "fadfb5c7-15a7-4c2a-8df9-c01f23f6a1bc"
   },
   "outputs": [
    {
     "data": {
      "image/png": "[encoded data removed]",
      "text/plain": [
       "<Figure size 432x288 with 1 Axes>"
      ]
     },
     "metadata": {
      "needs_background": "light"
     },
     "output_type": "display_data"
    }
   ],
   "source": [
    "# Plot\n",
    "plot_decision_regions(X, y, clf=model)\n",
    "plt.show()"
   ]
  },
  {
   "cell_type": "code",
   "execution_count": 25,
   "metadata": {
    "colab": {
     "base_uri": "https://localhost:8080/"
    },
    "id": "duqhipsCojQd",
    "outputId": "eb1f40eb-d2a4-4874-9270-5d52e290b776"
   },
   "outputs": [
    {
     "name": "stdout",
     "output_type": "stream",
     "text": [
      "Lemon\n"
     ]
    }
   ],
   "source": [
    "X_input_size = 25\n",
    "if (X_input_size <= 31):\n",
    "    fruit = 'Lemon'\n",
    "else:\n",
    "    fruit = 'Orange'\n",
    "    \n",
    "print(fruit)"
   ]
  },
  {
   "cell_type": "markdown",
   "metadata": {
    "id": "4YEiX8IjojQd"
   },
   "source": [
    "# Classification 2: (Fruit 3 classes)\n",
    "Lemon, Orange and Pomelo"
   ]
  },
  {
   "cell_type": "markdown",
   "metadata": {
    "id": "Rpzm2D23ojQe"
   },
   "source": [
    "## Dataset"
   ]
  },
  {
   "cell_type": "code",
   "execution_count": 26,
   "metadata": {
    "id": "Rpzm2D23ojQe"
   },
   "outputs": [],
   "source": [
    "X = [[27],                                                              \n",
    "     [35],                                                              \n",
    "     [39],                                                              \n",
    "     [21],                                                              \n",
    "     [22],                                                                   \n",
    "     [45],\n",
    "     [102],\n",
    "     [110],\n",
    "     [120] ]                                                              \n",
    "\n",
    "y_names = ['lemon', 'orange', 'orange', 'lemon', 'lemon', 'orange', 'pamelo', 'pamelo', 'pamelo']\n",
    "y = [0, 1, 1, 0, 0, 1, 2, 2, 2]"
   ]
  },
  {
   "cell_type": "markdown",
   "metadata": {
    "id": "mwsstJ1IojQe"
   },
   "source": [
    "## Data Visualization"
   ]
  },
  {
   "cell_type": "code",
   "execution_count": 27,
   "metadata": {
    "colab": {
     "base_uri": "https://localhost:8080/",
     "height": 279
    },
    "id": "0PyFa7hwojQe",
    "outputId": "65e8d285-c7a4-4ef1-c5c5-a18ed234edea"
   },
   "outputs": [
    {
     "data": {
      "image/png": "[encoded data removed]",
      "text/plain": [
       "<Figure size 432x288 with 1 Axes>"
      ]
     },
     "metadata": {
      "needs_background": "light"
     },
     "output_type": "display_data"
    }
   ],
   "source": [
    "plt.xlabel('fruit')\n",
    "plt.ylabel('size')\n",
    "\n",
    "plt.scatter(y_names, X)\n",
    "plt.show()"
   ]
  },
  {
   "cell_type": "markdown",
   "metadata": {
    "id": "W_8NUbX10Fdr"
   },
   "source": [
    "## Model"
   ]
  },
  {
   "cell_type": "code",
   "execution_count": 28,
   "metadata": {
    "colab": {
     "base_uri": "https://localhost:8080/"
    },
    "id": "gURtsmH3ojQf",
    "outputId": "94c8e05d-9ccb-497c-d84e-2fbdec73761f"
   },
   "outputs": [
    {
     "data": {
      "text/plain": [
       "DecisionTreeClassifier()"
      ]
     },
     "execution_count": 28,
     "metadata": {},
     "output_type": "execute_result"
    }
   ],
   "source": [
    "model = DecisionTreeClassifier()\n",
    "model.fit(X, y)"
   ]
  },
  {
   "cell_type": "code",
   "execution_count": 29,
   "metadata": {
    "id": "0Qa4PDDzojQf"
   },
   "outputs": [],
   "source": [
    "fruit_classes = ['Lemon','Orange', 'Pamelo']"
   ]
  },
  {
   "cell_type": "markdown",
   "metadata": {
    "id": "wUn9sPlAojQf"
   },
   "source": [
    "## Predict"
   ]
  },
  {
   "cell_type": "code",
   "execution_count": 30,
   "metadata": {
    "colab": {
     "base_uri": "https://localhost:8080/"
    },
    "id": "wUMh-_ISojQf",
    "outputId": "8ac0a6f6-41d0-495f-d165-cc1b028480f5"
   },
   "outputs": [
    {
     "name": "stdout",
     "output_type": "stream",
     "text": [
      "Result : Pamelo\n"
     ]
    }
   ],
   "source": [
    "X_input = [[102]]\n",
    "y_predict = model.predict(X_input)\n",
    "\n",
    "prd = fruit_classes[y_predict[0]]\n",
    "print('Result : {}'. format(prd))"
   ]
  },
  {
   "cell_type": "code",
   "execution_count": 31,
   "metadata": {
    "colab": {
     "base_uri": "https://localhost:8080/"
    },
    "id": "3S4ohdV0ojQg",
    "outputId": "d6dca4fe-ed8b-4acc-eb34-fecd4f0b7b30"
   },
   "outputs": [
    {
     "data": {
      "text/plain": [
       "array([0, 1, 1, 2])"
      ]
     },
     "execution_count": 31,
     "metadata": {},
     "output_type": "execute_result"
    }
   ],
   "source": [
    "X_input = [[28],                                                              \n",
    "     [32],                                                              \n",
    "     [39],                                                              \n",
    "     [101]]\n",
    "\n",
    "y_predict = model.predict(X_input)\n",
    "\n",
    "y_predict\n",
    "# class_names[y_predict]\n",
    "# prd = class_names[y_predict[0]]\n",
    "# print('Result : {}'. format(prd))"
   ]
  },
  {
   "cell_type": "code",
   "execution_count": 32,
   "metadata": {
    "colab": {
     "base_uri": "https://localhost:8080/"
    },
    "id": "AUJ6eCx_ojQg",
    "outputId": "69b305e8-99ae-4fbe-bc10-3d79d04affa0"
   },
   "outputs": [
    {
     "name": "stdout",
     "output_type": "stream",
     "text": [
      "[28] = Lemon\n",
      "[32] = Orange\n",
      "[39] = Orange\n",
      "[101] = Pamelo\n"
     ]
    }
   ],
   "source": [
    "for i, k in enumerate(y_predict):\n",
    "    print(f'{X_input[i]} = {fruit_classes[k]}')"
   ]
  },
  {
   "cell_type": "markdown",
   "metadata": {
    "id": "bcKEb1Fuz058"
   },
   "source": [
    "## Visualize Model"
   ]
  },
  {
   "cell_type": "markdown",
   "metadata": {
    "colab": {
     "base_uri": "https://localhost:8080/",
     "height": 277
    },
    "id": "BzeEVNHhojQh",
    "outputId": "863c6bd0-d750-44fc-b609-ca9127d9fa0d"
   },
   "source": [
    "### Tree"
   ]
  },
  {
   "cell_type": "code",
   "execution_count": 33,
   "metadata": {
    "colab": {
     "base_uri": "https://localhost:8080/",
     "height": 277
    },
    "id": "BzeEVNHhojQh",
    "outputId": "863c6bd0-d750-44fc-b609-ca9127d9fa0d"
   },
   "outputs": [
    {
     "data": {
      "image/png": "[encoded data removed]",
      "text/plain": [
       "<Figure size 480x384 with 1 Axes>"
      ]
     },
     "metadata": {
      "needs_background": "light"
     },
     "output_type": "display_data"
    }
   ],
   "source": [
    "from sklearn.tree import plot_tree\n",
    "\n",
    "data_feature_names = ['size']\n",
    "\n",
    "plt.subplots(nrows=1, ncols=1, figsize=(5, 4), dpi=96)\n",
    "# plt.figure(figsize=(6,6))\n",
    "\n",
    "plot_tree(model, \n",
    "         filled=True, rounded=True,\n",
    "         feature_names=data_feature_names,  \n",
    "         class_names=fruit_classes)\n",
    "\n",
    "plt.show()"
   ]
  },
  {
   "cell_type": "code",
   "execution_count": 38,
   "metadata": {
    "colab": {
     "base_uri": "https://localhost:8080/"
    },
    "id": "wELyz8Eey-38",
    "outputId": "57038660-2197-41c4-c20e-61605cdbabbc"
   },
   "outputs": [
    {
     "name": "stdout",
     "output_type": "stream",
     "text": [
      "Orange\n"
     ]
    }
   ],
   "source": [
    "X_input_size = 72.4\n",
    "if (X_input_size <= 31):\n",
    "    fruit = 'Lemon'\n",
    "elif (X_input_size <= 73.5):\n",
    "    fruit = 'Orange'\n",
    "else:\n",
    "    fruit = 'Pomelo'\n",
    "    \n",
    "print(fruit)"
   ]
  },
  {
   "cell_type": "markdown",
   "metadata": {
    "id": "6m7sSWeZojQh"
   },
   "source": [
    "### Decision regions"
   ]
  },
  {
   "cell_type": "code",
   "execution_count": 39,
   "metadata": {
    "id": "6m7sSWeZojQh"
   },
   "outputs": [],
   "source": [
    "from mlxtend.plotting import plot_decision_regions"
   ]
  },
  {
   "cell_type": "code",
   "execution_count": 40,
   "metadata": {
    "id": "tsvatjN_ojQh"
   },
   "outputs": [],
   "source": [
    "# plot needs Numpy\n",
    "X = np.array(X)\n",
    "y = np.array(y)"
   ]
  },
  {
   "cell_type": "code",
   "execution_count": 41,
   "metadata": {
    "colab": {
     "base_uri": "https://localhost:8080/",
     "height": 320
    },
    "id": "Uk0XU635ojQi",
    "outputId": "1f8e91a5-4715-486b-ccc4-1356c3a1c298"
   },
   "outputs": [
    {
     "data": {
      "image/png": "[encoded data removed]",
      "text/plain": [
       "<Figure size 432x288 with 1 Axes>"
      ]
     },
     "metadata": {
      "needs_background": "light"
     },
     "output_type": "display_data"
    }
   ],
   "source": [
    "plot_decision_regions(X, y, clf=model)\n",
    "plt.show()"
   ]
  },
  {
   "cell_type": "code",
   "execution_count": null,
   "metadata": {
    "id": "3n5k8tRpqwYY"
   },
   "outputs": [],
   "source": []
  },
  {
   "cell_type": "code",
   "execution_count": null,
   "metadata": {
    "id": "3n5k8tRpqwYY"
   },
   "outputs": [],
   "source": []
  },
  {
   "cell_type": "code",
   "execution_count": null,
   "metadata": {},
   "outputs": [],
   "source": []
  }
 ],
 "metadata": {
  "colab": {
   "name": "08 Classification 1.ipynb",
   "provenance": [],
   "toc_visible": true
  },
  "kernelspec": {
   "display_name": "Python 3 (ipykernel)",
   "language": "python",
   "name": "python3"
  },
  "language_info": {
   "codemirror_mode": {
    "name": "ipython",
    "version": 3
   },
   "file_extension": ".py",
   "mimetype": "text/x-python",
   "name": "python",
   "nbconvert_exporter": "python",
   "pygments_lexer": "ipython3",
   "version": "3.9.12"
  }
 },
 "nbformat": 4,
 "nbformat_minor": 4
}
