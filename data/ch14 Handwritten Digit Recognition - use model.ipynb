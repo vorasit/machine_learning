{
 "cells": [
  {
   "cell_type": "markdown",
   "metadata": {},
   "source": [
    "# ใช้งาน Model Handwritten digit recognition\n",
    "Handwritten digit use model.inpy"
   ]
  },
  {
   "cell_type": "code",
   "execution_count": 1,
   "metadata": {},
   "outputs": [],
   "source": [
    "import joblib\n",
    "import numpy as np\n",
    "import matplotlib.pyplot as plt\n",
    "\n",
    "model = joblib.load('digit_recognition_model.pkl')"
   ]
  },
  {
   "cell_type": "code",
   "execution_count": 2,
   "metadata": {},
   "outputs": [
    {
     "data": {
      "text/plain": [
       "SVC()"
      ]
     },
     "execution_count": 2,
     "metadata": {},
     "output_type": "execute_result"
    }
   ],
   "source": [
    "model"
   ]
  },
  {
   "cell_type": "code",
   "execution_count": 3,
   "metadata": {},
   "outputs": [
    {
     "data": {
      "image/png": "[encoded data removed]",
      "text/plain": [
       "<PIL.Image.Image image mode=L size=60x60 at 0x14B9F5B66D0>"
      ]
     },
     "execution_count": 3,
     "metadata": {},
     "output_type": "execute_result"
    }
   ],
   "source": [
    "from PIL import Image, ImageOps\n",
    "\n",
    "imgfile = 'data/digits/digit0.png'      # digit image file (number zero)\n",
    "\n",
    "img = Image.open(imgfile).convert('L')  # convert to grayscale\n",
    "img"
   ]
  },
  {
   "cell_type": "code",
   "execution_count": 4,
   "metadata": {},
   "outputs": [
    {
     "data": {
      "image/png": "[encoded data removed]",
      "text/plain": [
       "<PIL.Image.Image image mode=L size=60x60 at 0x14B9F616AC0>"
      ]
     },
     "execution_count": 4,
     "metadata": {},
     "output_type": "execute_result"
    }
   ],
   "source": [
    "img = ImageOps.invert(img)              # invert\n",
    "img"
   ]
  },
  {
   "cell_type": "code",
   "execution_count": 5,
   "metadata": {},
   "outputs": [
    {
     "data": {
      "image/png": "[encoded data removed]",
      "text/plain": [
       "<PIL.Image.Image image mode=L size=8x8 at 0x14B9AFE1580>"
      ]
     },
     "execution_count": 5,
     "metadata": {},
     "output_type": "execute_result"
    }
   ],
   "source": [
    "img = img.resize((8, 8), Image.ANTIALIAS)  # resize to 8x8 and antialias\n",
    "img"
   ]
  },
  {
   "cell_type": "code",
   "execution_count": 6,
   "metadata": {},
   "outputs": [
    {
     "data": {
      "image/png": "[encoded data removed]",
      "text/plain": [
       "<Figure size 144x144 with 1 Axes>"
      ]
     },
     "metadata": {},
     "output_type": "display_data"
    }
   ],
   "source": [
    "pixel = np.array(img)  # 8x8\n",
    "pixel = pixel / 255.0 * 16\n",
    "pixel = pixel.astype('int')\n",
    "\n",
    "my_digit = pixel.reshape(1, -1)  # 1x64\n",
    "predicted = model.predict(my_digit)\n",
    "#     print('Digit:{}'. format(predicted[0]))\n",
    "\n",
    "plt.figure(figsize=(2, 2))\n",
    "plt.imshow(pixel, cmap=plt.cm.gray_r)\n",
    "plt.title('Predicted:{}'. format(predicted[0]))\n",
    "plt.xticks([])\n",
    "plt.yticks([])\n",
    "plt.show()"
   ]
  },
  {
   "cell_type": "code",
   "execution_count": 7,
   "metadata": {},
   "outputs": [
    {
     "data": {
      "image/png": "[encoded data removed]",
      "text/plain": [
       "<Figure size 72x72 with 1 Axes>"
      ]
     },
     "metadata": {},
     "output_type": "display_data"
    },
    {
     "data": {
      "image/png": "[encoded data removed]",
      "text/plain": [
       "<Figure size 72x72 with 1 Axes>"
      ]
     },
     "metadata": {},
     "output_type": "display_data"
    },
    {
     "data": {
      "image/png": "[encoded data removed]",
      "text/plain": [
       "<Figure size 72x72 with 1 Axes>"
      ]
     },
     "metadata": {},
     "output_type": "display_data"
    }
   ],
   "source": [
    "# function สำหรับ Predict หลายรูป\n",
    "import numpy as np\n",
    "from PIL import Image, ImageOps\n",
    "\n",
    "def predict_digit(imgfile):\n",
    "    img = Image.open(imgfile).convert('L') \n",
    "    img = ImageOps.invert(img)\n",
    "    img = img.resize((8, 8), Image.ANTIALIAS)  # antialias resize\n",
    "\n",
    "    pixel = np.array(img)\n",
    "    pixel = pixel / 255.0 * 16\n",
    "    pixel = pixel.astype('int')\n",
    "    \n",
    "    my_digit = pixel.reshape(1, -1)\n",
    "    predicted = model.predict(my_digit)\n",
    "#     print('Digit:{}'. format(predicted[0]))\n",
    "    \n",
    "    plt.figure(figsize=(1,1))\n",
    "    plt.imshow(pixel, cmap=plt.cm.gray_r)\n",
    "    plt.title('Predicted:{}'. format(predicted[0]))\n",
    "    plt.xticks([])\n",
    "    plt.yticks([])    \n",
    "    plt.show()\n",
    "\n",
    "imgfiles = ['data/digits/digit0.png',\n",
    "            'data/digits/digit1.png',\n",
    "            'data/digits/digit2.png']\n",
    "for i in imgfiles:\n",
    "    predict_digit(i)"
   ]
  },
  {
   "cell_type": "code",
   "execution_count": null,
   "metadata": {},
   "outputs": [],
   "source": []
  }
 ],
 "metadata": {
  "kernelspec": {
   "display_name": "Python 3 (ipykernel)",
   "language": "python",
   "name": "python3"
  },
  "language_info": {
   "codemirror_mode": {
    "name": "ipython",
    "version": 3
   },
   "file_extension": ".py",
   "mimetype": "text/x-python",
   "name": "python",
   "nbconvert_exporter": "python",
   "pygments_lexer": "ipython3",
   "version": "3.9.12"
  }
 },
 "nbformat": 4,
 "nbformat_minor": 4
}
