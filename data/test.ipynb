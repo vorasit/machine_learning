{
 "cells": [
  {
   "cell_type": "code",
   "execution_count": 16,
   "id": "a7422d5d-c974-428b-b032-d2b4fa81fa87",
   "metadata": {
    "tags": []
   },
   "outputs": [
    {
     "name": "stdout",
     "output_type": "stream",
     "text": [
      "hello\n"
     ]
    }
   ],
   "source": [
    "print(\"hello\")"
   ]
  },
  {
   "cell_type": "markdown",
   "id": "cb32ae7b-2f8e-47e1-9289-509b512546dd",
   "metadata": {},
   "source": [
    "markdown กล่องคอมเมน\n"
   ]
  },
  {
   "cell_type": "markdown",
   "id": "7114900b-b8ec-41fe-b35b-82e71c2fbb0f",
   "metadata": {
    "tags": []
   },
   "source": [
    "# ทดสอบ part 1"
   ]
  },
  {
   "cell_type": "code",
   "execution_count": 17,
   "id": "4e53e925-25ea-4e85-ad07-706b57e2b7a3",
   "metadata": {
    "tags": []
   },
   "outputs": [],
   "source": [
    "a = 10"
   ]
  },
  {
   "cell_type": "code",
   "execution_count": 18,
   "id": "381e7c94-ecdb-45bb-a934-65897d7725cc",
   "metadata": {},
   "outputs": [],
   "source": [
    "b = 5\n",
    "i = 0"
   ]
  },
  {
   "cell_type": "code",
   "execution_count": 19,
   "id": "01da390c-5739-414b-acc3-dc83d3357ec8",
   "metadata": {},
   "outputs": [
    {
     "name": "stdout",
     "output_type": "stream",
     "text": [
      "0\n",
      "1\n",
      "2\n",
      "3\n",
      "4\n",
      "5\n",
      "6\n",
      "7\n",
      "8\n",
      "9\n"
     ]
    }
   ],
   "source": [
    "for i in range(a):\n",
    "    print(i)\n",
    "    i+=1"
   ]
  },
  {
   "cell_type": "markdown",
   "id": "9ec500af-cbeb-4839-8f92-c60f722167c2",
   "metadata": {},
   "source": [
    "## part 2"
   ]
  },
  {
   "cell_type": "markdown",
   "id": "d24399c9-0f03-4b8a-826b-eb7397e7f300",
   "metadata": {},
   "source": [
    "# condition"
   ]
  },
  {
   "cell_type": "code",
   "execution_count": 2,
   "id": "3011c6bb-0122-4aeb-8fdd-e21879e365cf",
   "metadata": {},
   "outputs": [],
   "source": [
    "a = 10\n",
    "b = 3\n",
    "c = 8"
   ]
  },
  {
   "cell_type": "code",
   "execution_count": 5,
   "id": "24cd0127-125c-432c-b612-35c69cd336a6",
   "metadata": {},
   "outputs": [
    {
     "data": {
      "text/plain": [
       "False"
      ]
     },
     "execution_count": 5,
     "metadata": {},
     "output_type": "execute_result"
    }
   ],
   "source": [
    "a < b and a > c "
   ]
  },
  {
   "cell_type": "code",
   "execution_count": 6,
   "id": "e9d37436-2821-41d8-88d8-58b8fc663783",
   "metadata": {},
   "outputs": [
    {
     "name": "stdout",
     "output_type": "stream",
     "text": [
      "descount 5%\n",
      "5.5\n"
     ]
    }
   ],
   "source": [
    "price =  110\n",
    "if price >= 100:\n",
    "    print('descount 5%')\n",
    "    print(price * 0.05)"
   ]
  },
  {
   "cell_type": "code",
   "execution_count": 7,
   "id": "2eefe721-7ee5-48f2-9cdb-9f6d8f8b1c82",
   "metadata": {},
   "outputs": [
    {
     "name": "stdout",
     "output_type": "stream",
     "text": [
      "descount 5%\n",
      "5.5\n"
     ]
    }
   ],
   "source": [
    "price =  110\n",
    "if price >= 100:\n",
    "    print('descount 5%')\n",
    "    print(price * 0.05)\n",
    "else:\n",
    "    print('descount 2%')\n",
    "    print(price * 0.02)"
   ]
  },
  {
   "cell_type": "markdown",
   "id": "5d82d24c-60d6-487c-90fa-50cfb27a1706",
   "metadata": {},
   "source": [
    "# loop\n"
   ]
  },
  {
   "cell_type": "code",
   "execution_count": 8,
   "id": "3fec7d33-a051-4e69-bbd7-6893012da05a",
   "metadata": {},
   "outputs": [
    {
     "name": "stdout",
     "output_type": "stream",
     "text": [
      "test for\n",
      "4\n",
      "test for\n",
      "5\n",
      "done\n"
     ]
    }
   ],
   "source": [
    "for count in range(4,6):\n",
    "    print('test for')\n",
    "    print(count)\n",
    "print('done')\n"
   ]
  },
  {
   "cell_type": "markdown",
   "id": "d8dbe1ee-3f1a-4223-8d5f-68bbe8fed4ed",
   "metadata": {},
   "source": [
    "# list"
   ]
  },
  {
   "cell_type": "code",
   "execution_count": 9,
   "id": "3ddf82da-a121-4617-b34e-62ac673423a4",
   "metadata": {},
   "outputs": [],
   "source": [
    "person = [35,52,18.1,195,155]"
   ]
  },
  {
   "cell_type": "code",
   "execution_count": 10,
   "id": "4f9d4017-a68a-4621-a959-cd5d1bec8860",
   "metadata": {},
   "outputs": [
    {
     "data": {
      "text/plain": [
       "list"
      ]
     },
     "execution_count": 10,
     "metadata": {},
     "output_type": "execute_result"
    }
   ],
   "source": [
    "type(person)"
   ]
  },
  {
   "cell_type": "code",
   "execution_count": 11,
   "id": "0cd8b358-b8a2-445c-a483-752da0faf724",
   "metadata": {},
   "outputs": [
    {
     "data": {
      "text/plain": [
       "35"
      ]
     },
     "execution_count": 11,
     "metadata": {},
     "output_type": "execute_result"
    }
   ],
   "source": [
    "person[0]"
   ]
  },
  {
   "cell_type": "code",
   "execution_count": 12,
   "id": "866b27c6-bec0-49cc-8950-4295440f70df",
   "metadata": {},
   "outputs": [
    {
     "data": {
      "text/plain": [
       "[52, 18.1]"
      ]
     },
     "execution_count": 12,
     "metadata": {},
     "output_type": "execute_result"
    }
   ],
   "source": [
    "person[1:3]"
   ]
  },
  {
   "cell_type": "markdown",
   "id": "98ccc1b1-1c0f-478a-984a-8d21c144b13e",
   "metadata": {
    "tags": []
   },
   "source": [
    "# tuple"
   ]
  },
  {
   "cell_type": "code",
   "execution_count": 13,
   "id": "7826497f-aca1-4ced-8522-ae0171f7c389",
   "metadata": {},
   "outputs": [],
   "source": [
    "person = (35,52,18.1,195,155)\n"
   ]
  },
  {
   "cell_type": "code",
   "execution_count": 14,
   "id": "496111bd-2763-4f64-b016-4e0464896743",
   "metadata": {},
   "outputs": [
    {
     "data": {
      "text/plain": [
       "tuple"
      ]
     },
     "execution_count": 14,
     "metadata": {},
     "output_type": "execute_result"
    }
   ],
   "source": [
    "type(person)"
   ]
  },
  {
   "cell_type": "markdown",
   "id": "451ee298-458a-48d7-a61b-aae18cb068d9",
   "metadata": {},
   "source": [
    "# dictionary"
   ]
  },
  {
   "cell_type": "code",
   "execution_count": 15,
   "id": "783e4530-abd4-48bf-9f94-1309b0675bf7",
   "metadata": {},
   "outputs": [],
   "source": [
    "person = {'age':35,'wt':52,'bmi':18.1}"
   ]
  },
  {
   "cell_type": "code",
   "execution_count": 16,
   "id": "17ce5253-9d4d-436a-b3d4-77830ddf1f27",
   "metadata": {},
   "outputs": [
    {
     "data": {
      "text/plain": [
       "dict"
      ]
     },
     "execution_count": 16,
     "metadata": {},
     "output_type": "execute_result"
    }
   ],
   "source": [
    "type(person)"
   ]
  },
  {
   "cell_type": "code",
   "execution_count": 17,
   "id": "fc7dd0f3-7748-43df-ad7f-7cecba8f3b58",
   "metadata": {},
   "outputs": [
    {
     "name": "stdout",
     "output_type": "stream",
     "text": [
      "18.1\n"
     ]
    }
   ],
   "source": [
    "print(person['bmi'])"
   ]
  },
  {
   "cell_type": "code",
   "execution_count": 18,
   "id": "e952c2f4-e92a-4061-b243-0879fd7f913e",
   "metadata": {},
   "outputs": [
    {
     "name": "stdout",
     "output_type": "stream",
     "text": [
      "age\n",
      "wt\n",
      "bmi\n"
     ]
    }
   ],
   "source": [
    "for k in person:\n",
    "    print(k)"
   ]
  },
  {
   "cell_type": "code",
   "execution_count": 19,
   "id": "d0c64a0d-7550-4ed2-adfc-c2380fec5b9e",
   "metadata": {},
   "outputs": [
    {
     "name": "stdout",
     "output_type": "stream",
     "text": [
      "35\n",
      "52\n",
      "18.1\n"
     ]
    }
   ],
   "source": [
    "for k in person.values():\n",
    "    print(k)"
   ]
  },
  {
   "cell_type": "markdown",
   "id": "3bf6109c-ab13-4c01-a7c7-b7b52059dfef",
   "metadata": {},
   "source": [
    "# function"
   ]
  },
  {
   "cell_type": "code",
   "execution_count": 22,
   "id": "6ee60e11-37b6-45b2-9736-97b0af30b376",
   "metadata": {},
   "outputs": [
    {
     "name": "stdout",
     "output_type": "stream",
     "text": [
      "16\n"
     ]
    }
   ],
   "source": [
    "def area(length):\n",
    "    area = length * length \n",
    "    return area\n",
    "b = area(4)\n",
    "print(b)"
   ]
  },
  {
   "cell_type": "code",
   "execution_count": 21,
   "id": "c128116d-5642-4ca6-9b70-26739f896db1",
   "metadata": {},
   "outputs": [
    {
     "data": {
      "text/plain": [
       "36"
      ]
     },
     "execution_count": 21,
     "metadata": {},
     "output_type": "execute_result"
    }
   ],
   "source": [
    "area(6)"
   ]
  },
  {
   "cell_type": "markdown",
   "id": "9120f741-da56-47c7-a3c6-cd608f823879",
   "metadata": {},
   "source": [
    "# library"
   ]
  },
  {
   "cell_type": "code",
   "execution_count": null,
   "id": "9abf0f6e-188e-4222-986c-d2646b92f90c",
   "metadata": {},
   "outputs": [],
   "source": []
  }
 ],
 "metadata": {
  "kernelspec": {
   "display_name": "Python 3 (ipykernel)",
   "language": "python",
   "name": "python3"
  },
  "language_info": {
   "codemirror_mode": {
    "name": "ipython",
    "version": 3
   },
   "file_extension": ".py",
   "mimetype": "text/x-python",
   "name": "python",
   "nbconvert_exporter": "python",
   "pygments_lexer": "ipython3",
   "version": "3.9.12"
  }
 },
 "nbformat": 4,
 "nbformat_minor": 5
}
