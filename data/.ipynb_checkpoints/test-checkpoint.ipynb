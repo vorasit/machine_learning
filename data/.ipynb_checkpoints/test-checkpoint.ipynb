{
 "cells": [
  {
   "cell_type": "code",
   "execution_count": 16,
   "id": "a7422d5d-c974-428b-b032-d2b4fa81fa87",
   "metadata": {
    "tags": []
   },
   "outputs": [
    {
     "name": "stdout",
     "output_type": "stream",
     "text": [
      "hello\n"
     ]
    }
   ],
   "source": [
    "print(\"hello\")"
   ]
  },
  {
   "cell_type": "markdown",
   "id": "cb32ae7b-2f8e-47e1-9289-509b512546dd",
   "metadata": {},
   "source": [
    "markdown กล่องคอมเมน\n"
   ]
  },
  {
   "cell_type": "markdown",
   "id": "7114900b-b8ec-41fe-b35b-82e71c2fbb0f",
   "metadata": {
    "tags": []
   },
   "source": [
    "# ทดสอบ part 1"
   ]
  },
  {
   "cell_type": "code",
   "execution_count": 17,
   "id": "4e53e925-25ea-4e85-ad07-706b57e2b7a3",
   "metadata": {
    "tags": []
   },
   "outputs": [],
   "source": [
    "a = 10"
   ]
  },
  {
   "cell_type": "code",
   "execution_count": 18,
   "id": "381e7c94-ecdb-45bb-a934-65897d7725cc",
   "metadata": {},
   "outputs": [],
   "source": [
    "b = 5\n",
    "i = 0"
   ]
  },
  {
   "cell_type": "code",
   "execution_count": 19,
   "id": "01da390c-5739-414b-acc3-dc83d3357ec8",
   "metadata": {},
   "outputs": [
    {
     "name": "stdout",
     "output_type": "stream",
     "text": [
      "0\n",
      "1\n",
      "2\n",
      "3\n",
      "4\n",
      "5\n",
      "6\n",
      "7\n",
      "8\n",
      "9\n"
     ]
    }
   ],
   "source": [
    "for i in range(a):\n",
    "    print(i)\n",
    "    i+=1"
   ]
  },
  {
   "cell_type": "markdown",
   "id": "9ec500af-cbeb-4839-8f92-c60f722167c2",
   "metadata": {},
   "source": [
    "## part 2"
   ]
  },
  {
   "cell_type": "code",
   "execution_count": null,
   "id": "13c8ec1b-f561-419e-8481-f1b040d04846",
   "metadata": {},
   "outputs": [],
   "source": []
  }
 ],
 "metadata": {
  "kernelspec": {
   "display_name": "Python 3 (ipykernel)",
   "language": "python",
   "name": "python3"
  },
  "language_info": {
   "codemirror_mode": {
    "name": "ipython",
    "version": 3
   },
   "file_extension": ".py",
   "mimetype": "text/x-python",
   "name": "python",
   "nbconvert_exporter": "python",
   "pygments_lexer": "ipython3",
   "version": "3.9.12"
  }
 },
 "nbformat": 4,
 "nbformat_minor": 5
}
