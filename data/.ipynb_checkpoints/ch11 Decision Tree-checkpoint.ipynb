{
 "cells": [
  {
   "cell_type": "markdown",
   "id": "9fbfe17b",
   "metadata": {},
   "source": [
    "# Gini Impurity Index"
   ]
  },
  {
   "cell_type": "markdown",
   "id": "e84916c4",
   "metadata": {},
   "source": [
    "## 2 Classes"
   ]
  },
  {
   "cell_type": "code",
   "execution_count": null,
   "id": "fb85a56f-1a3f-4619-8a28-ec69243b7421",
   "metadata": {},
   "outputs": [],
   "source": [
    "def cal_gini(cls1, cls2):      # number of Class1 and Class2\n",
    "    total = cls1 + cls2        # sum Class1 and Class2\n",
    "    gini = 1 - ((cls1/total)**2 + (cls2/total)**2 )\n",
    "    return gini"
   ]
  },
  {
   "cell_type": "code",
   "execution_count": null,
   "id": "f87af828",
   "metadata": {},
   "outputs": [],
   "source": [
    "# cal_gini(2 , 2)\n",
    "# cal_gini(3 , 3)\n",
    "cal_gini(45 , 45)"
   ]
  },
  {
   "cell_type": "code",
   "execution_count": null,
   "id": "4bb4f1f0",
   "metadata": {},
   "outputs": [],
   "source": [
    "# cal_gini(2 , 0)\n",
    "cal_gini(178 , 0)"
   ]
  },
  {
   "cell_type": "code",
   "execution_count": null,
   "id": "fa161cf2",
   "metadata": {},
   "outputs": [],
   "source": [
    "cal_gini(0 , 2)"
   ]
  },
  {
   "cell_type": "code",
   "execution_count": null,
   "id": "b5059f62",
   "metadata": {},
   "outputs": [],
   "source": [
    "cal_gini(3 , 3)\n",
    "# cal_gini(5 , 5)"
   ]
  },
  {
   "cell_type": "code",
   "execution_count": null,
   "id": "ffc5e37b",
   "metadata": {},
   "outputs": [],
   "source": [
    "# Class1=3,  Class2=7   (Total=10)\n",
    "cal_gini(3 , 7)"
   ]
  },
  {
   "cell_type": "code",
   "execution_count": null,
   "id": "76a07a3e",
   "metadata": {},
   "outputs": [],
   "source": [
    "cal_gini(7 , 3)"
   ]
  },
  {
   "cell_type": "code",
   "execution_count": null,
   "id": "66ba3d42",
   "metadata": {},
   "outputs": [],
   "source": [
    "# cal_gini(2 , 8)\n",
    "cal_gini(0 , 10)"
   ]
  },
  {
   "cell_type": "markdown",
   "id": "8164dc91",
   "metadata": {},
   "source": [
    "## 3 Classes"
   ]
  },
  {
   "cell_type": "code",
   "execution_count": null,
   "id": "603bee9e-1fdd-4ad7-8c5d-ea5964914b9a",
   "metadata": {},
   "outputs": [],
   "source": [
    "def cal_gini3(cls1, cls2, cls3):\n",
    "    total = cls1 + cls2 + cls3\n",
    "    gini = 1 - ((cls1/total)**2 + (cls2/total)**2 + (cls3/total)**2)\n",
    "    return gini"
   ]
  },
  {
   "cell_type": "code",
   "execution_count": null,
   "id": "57a0a421",
   "metadata": {},
   "outputs": [],
   "source": [
    "cal_gini3(2, 2, 2)"
   ]
  },
  {
   "cell_type": "code",
   "execution_count": null,
   "id": "d9c57ce3",
   "metadata": {},
   "outputs": [],
   "source": [
    "cal_gini3(0, 1, 2)"
   ]
  },
  {
   "cell_type": "code",
   "execution_count": null,
   "id": "bb4f47aa",
   "metadata": {},
   "outputs": [],
   "source": [
    "cal_gini3(0, 0, 2)"
   ]
  },
  {
   "cell_type": "markdown",
   "id": "c0f8a5d8-5e5b-451a-bda5-b63ddb6cdfac",
   "metadata": {
    "tags": []
   },
   "source": [
    "# Decision Tree : Simple Loan"
   ]
  },
  {
   "cell_type": "code",
   "execution_count": null,
   "id": "45f7115d",
   "metadata": {},
   "outputs": [],
   "source": [
    "import pandas as pd\n",
    "import matplotlib.pyplot as plt\n",
    "import numpy as np"
   ]
  },
  {
   "cell_type": "markdown",
   "id": "a7413e30",
   "metadata": {},
   "source": [
    "## Dataset"
   ]
  },
  {
   "cell_type": "code",
   "execution_count": null,
   "id": "c206505e",
   "metadata": {},
   "outputs": [],
   "source": [
    "df = pd.read_csv('data/simple_loan.csv')\n",
    "df"
   ]
  },
  {
   "cell_type": "code",
   "execution_count": null,
   "id": "e98eabf3",
   "metadata": {},
   "outputs": [],
   "source": [
    "df.isnull().sum()"
   ]
  },
  {
   "cell_type": "code",
   "execution_count": null,
   "id": "5f764918",
   "metadata": {},
   "outputs": [],
   "source": [
    "df.target.unique()"
   ]
  },
  {
   "cell_type": "code",
   "execution_count": null,
   "id": "988f2975",
   "metadata": {},
   "outputs": [],
   "source": [
    "df.groupby('target').count()"
   ]
  },
  {
   "cell_type": "code",
   "execution_count": null,
   "id": "989d0698",
   "metadata": {},
   "outputs": [],
   "source": [
    "df.columns"
   ]
  },
  {
   "cell_type": "code",
   "execution_count": null,
   "id": "25315a97",
   "metadata": {},
   "outputs": [],
   "source": [
    "X = df.drop(['target'], axis=1)\n",
    "X.head()"
   ]
  },
  {
   "cell_type": "code",
   "execution_count": null,
   "id": "db7a2d36",
   "metadata": {},
   "outputs": [],
   "source": [
    "y = df.target\n",
    "y.head()"
   ]
  },
  {
   "cell_type": "markdown",
   "id": "2046902e",
   "metadata": {},
   "source": [
    "## Train (Problem)"
   ]
  },
  {
   "cell_type": "code",
   "execution_count": null,
   "id": "a73e7111",
   "metadata": {},
   "outputs": [],
   "source": [
    "from sklearn.tree import DecisionTreeClassifier\n",
    "\n",
    "model = DecisionTreeClassifier()\n",
    "model.fit(X, y)"
   ]
  },
  {
   "cell_type": "markdown",
   "id": "2d5f11fe",
   "metadata": {},
   "source": [
    "## Label Encoding\n",
    "เข้ารหัส เปลี่ยน ข้อความ -> ตัวเลข\n",
    "- <b>age</b> : middle, old, young  \n",
    "middle -> 0 <br>old -> 1   \n",
    "young -> 2\n",
    "- <b>own_house</b>:  n -> 0  ,   y -> 1"
   ]
  },
  {
   "cell_type": "code",
   "execution_count": null,
   "id": "c7a8976b-1f25-40b6-af4f-0eff9d58fa36",
   "metadata": {},
   "outputs": [],
   "source": [
    "df.head()"
   ]
  },
  {
   "cell_type": "code",
   "execution_count": null,
   "id": "60bd578a-91d4-4e2e-92c4-22db0f28d341",
   "metadata": {},
   "outputs": [],
   "source": [
    "def labelEncode(data, columns):\n",
    "    for i in columns:\n",
    "#         print(i)\n",
    "        data[i + '_'], _ = pd.factorize(data[i], sort=True)  \n",
    "    \n",
    "feature_columns = ['age', 'employed', 'own_house', 'credit']\n",
    "labelEncode(df, feature_columns)  \n",
    "\n",
    "# scikit : sklearn.preprocessing.LabelEncoder"
   ]
  },
  {
   "cell_type": "code",
   "execution_count": null,
   "id": "3d52c485",
   "metadata": {},
   "outputs": [],
   "source": [
    "df['target_'], class_names = pd.factorize(df.target)\n",
    "df.sample(5)\n",
    "df.head()"
   ]
  },
  {
   "cell_type": "code",
   "execution_count": null,
   "id": "b253fece",
   "metadata": {},
   "outputs": [],
   "source": [
    "df"
   ]
  },
  {
   "cell_type": "code",
   "execution_count": null,
   "id": "5f1e9991",
   "metadata": {},
   "outputs": [],
   "source": [
    "class_names"
   ]
  },
  {
   "cell_type": "code",
   "execution_count": null,
   "id": "c09bd30b",
   "metadata": {},
   "outputs": [],
   "source": [
    "df.columns"
   ]
  },
  {
   "cell_type": "code",
   "execution_count": null,
   "id": "f6553e34",
   "metadata": {},
   "outputs": [],
   "source": [
    "enc_columns = ['age_', 'employed_', 'own_house_', 'credit_']\n",
    "X = df[enc_columns] \n",
    "X.head()"
   ]
  },
  {
   "cell_type": "code",
   "execution_count": null,
   "id": "7a462d30",
   "metadata": {},
   "outputs": [],
   "source": [
    "for i in enc_columns:\n",
    "    print(i[:-1]) \n",
    "    print(df[i[:-1]].unique())\n",
    "    print(df[i].unique())\n",
    "    print('----')"
   ]
  },
  {
   "cell_type": "code",
   "execution_count": null,
   "id": "bdf0be3e",
   "metadata": {},
   "outputs": [],
   "source": [
    "y = df.target_"
   ]
  },
  {
   "cell_type": "markdown",
   "id": "c9a8eb8c",
   "metadata": {},
   "source": [
    "## Split"
   ]
  },
  {
   "cell_type": "code",
   "execution_count": null,
   "id": "142f85ec",
   "metadata": {},
   "outputs": [],
   "source": [
    "from sklearn.model_selection import train_test_split\n",
    "X_train, X_test,y_train,y_test = train_test_split(X, y, test_size=0.3, random_state=20) "
   ]
  },
  {
   "cell_type": "code",
   "execution_count": null,
   "id": "0a01bff4",
   "metadata": {},
   "outputs": [],
   "source": [
    "X_train.shape , X_test.shape"
   ]
  },
  {
   "cell_type": "code",
   "execution_count": null,
   "id": "11b136c9",
   "metadata": {},
   "outputs": [],
   "source": [
    "y_train.shape , y_test.shape"
   ]
  },
  {
   "cell_type": "code",
   "execution_count": null,
   "id": "1c769f75",
   "metadata": {},
   "outputs": [],
   "source": [
    "X_train\n",
    "# X_train.head()"
   ]
  },
  {
   "cell_type": "code",
   "execution_count": null,
   "id": "24525ab7",
   "metadata": {},
   "outputs": [],
   "source": [
    "y_train"
   ]
  },
  {
   "cell_type": "code",
   "execution_count": null,
   "id": "4788fd69",
   "metadata": {},
   "outputs": [],
   "source": [
    "X_test"
   ]
  },
  {
   "cell_type": "code",
   "execution_count": null,
   "id": "1be59500",
   "metadata": {},
   "outputs": [],
   "source": [
    "y_test"
   ]
  },
  {
   "cell_type": "markdown",
   "id": "ec3a2a68",
   "metadata": {},
   "source": [
    "## Train"
   ]
  },
  {
   "cell_type": "code",
   "execution_count": null,
   "id": "e2774fed",
   "metadata": {},
   "outputs": [],
   "source": [
    "from sklearn.tree import DecisionTreeClassifier\n",
    "\n",
    "# model = DecisionTreeClassifier()\n",
    "\n",
    "model = DecisionTreeClassifier(max_depth=1)\n",
    "# model = DecisionTreeClassifier(criterion='entropy')\n",
    "\n",
    "model.fit(X_train, y_train)"
   ]
  },
  {
   "cell_type": "code",
   "execution_count": null,
   "id": "92c13092",
   "metadata": {},
   "outputs": [],
   "source": [
    "score = model.score(X_test, y_test)\n",
    "print('Score =', score.round(3))"
   ]
  },
  {
   "cell_type": "code",
   "execution_count": null,
   "id": "a50853f8",
   "metadata": {},
   "outputs": [],
   "source": [
    "from sklearn.metrics import accuracy_score \n",
    "from sklearn.metrics import classification_report\n",
    "from sklearn.metrics import confusion_matrix\n",
    "\n",
    "y_pred = model.predict(X_test)\n",
    "\n",
    "print('Score -> {:.3f}' . format(model.score(X_test, y_test)))\n",
    "print('Accuracy Score: ',accuracy_score(y_test, y_pred).round(3))\n",
    "\n",
    "print(classification_report(y_test, y_pred, target_names=class_names))\n",
    "\n",
    "cm = confusion_matrix(y_test, y_pred)\n",
    "print(cm)"
   ]
  },
  {
   "cell_type": "code",
   "execution_count": null,
   "id": "4b9a4264",
   "metadata": {},
   "outputs": [],
   "source": [
    "print(np.array(y_test), '<- y_test (Actual or True data)')\n",
    "print(y_pred, '<- y_predicted from the model')"
   ]
  },
  {
   "cell_type": "code",
   "execution_count": null,
   "id": "8a5ed9b4",
   "metadata": {},
   "outputs": [],
   "source": [
    "for i in y_pred: # แสดงชื่อ Label แทน 0 1\n",
    "    print(class_names[i])"
   ]
  },
  {
   "cell_type": "markdown",
   "id": "146bf157",
   "metadata": {},
   "source": [
    "## Evaluation"
   ]
  },
  {
   "cell_type": "code",
   "execution_count": null,
   "id": "98526bec",
   "metadata": {},
   "outputs": [],
   "source": [
    "from sklearn.metrics import confusion_matrix, ConfusionMatrixDisplay\n",
    "\n",
    "labels = class_names    #\n",
    "\n",
    "cm = confusion_matrix(y_test, y_pred)\n",
    "ConfusionMatrixDisplay(cm, display_labels=labels).plot()\n",
    "plt.title('Confusion Matrix')\n",
    "plt.show()"
   ]
  },
  {
   "cell_type": "code",
   "execution_count": null,
   "id": "46fa28be",
   "metadata": {},
   "outputs": [],
   "source": [
    "model.feature_importances_"
   ]
  },
  {
   "cell_type": "markdown",
   "id": "ac2aa76f",
   "metadata": {},
   "source": [
    "## Predict"
   ]
  },
  {
   "cell_type": "code",
   "execution_count": null,
   "id": "12d6fca3-b6e6-46f2-8e95-ca86363a2a6e",
   "metadata": {},
   "outputs": [],
   "source": [
    "for i in enc_columns:\n",
    "    print(i[:-1]) \n",
    "    print(df[i[:-1]].unique())\n",
    "    print(df[i].unique())\n",
    "    print('----')"
   ]
  },
  {
   "cell_type": "code",
   "execution_count": null,
   "id": "4d4c1ac8",
   "metadata": {},
   "outputs": [],
   "source": [
    "X_input = [[0,1,1,1], [1,0,0,2], [1,1,0,1], [2,0,1,1]]\n",
    "y_predict = model.predict(X_input)\n",
    "print(y_predict)\n",
    "\n",
    "for i in y_predict:\n",
    "    print('Result : {}'. format(class_names[i]))"
   ]
  },
  {
   "cell_type": "markdown",
   "id": "e09b061e",
   "metadata": {},
   "source": [
    "## Visualize model"
   ]
  },
  {
   "cell_type": "code",
   "execution_count": null,
   "id": "073c404d",
   "metadata": {},
   "outputs": [],
   "source": [
    "from sklearn.tree import plot_tree\n",
    "\n",
    "plt.subplots(nrows=1, ncols=1, figsize=(5, 5), dpi=96)\n",
    "# plt.figure(figsize=(6,6))\n",
    "\n",
    "plot_tree(model, filled=True, rounded=True)\n",
    "\n",
    "plt.show()"
   ]
  },
  {
   "cell_type": "code",
   "execution_count": null,
   "id": "f2d2fe77",
   "metadata": {},
   "outputs": [],
   "source": [
    "enc_columns"
   ]
  },
  {
   "cell_type": "code",
   "execution_count": null,
   "id": "bdd5b004",
   "metadata": {},
   "outputs": [],
   "source": [
    "from sklearn.tree import plot_tree\n",
    "\n",
    "data_feature_names = enc_columns #\n",
    "\n",
    "plt.subplots(nrows=1, ncols=1, figsize=(5, 5), dpi=96)\n",
    "plot_tree(model, \n",
    "         filled=True, rounded=True,\n",
    "         feature_names=data_feature_names,  \n",
    "         class_names=class_names)\n",
    "\n",
    "plt.show()"
   ]
  },
  {
   "cell_type": "code",
   "execution_count": null,
   "id": "de70b73c",
   "metadata": {},
   "outputs": [],
   "source": [
    "cal_gini(3, 8)"
   ]
  },
  {
   "cell_type": "code",
   "execution_count": null,
   "id": "6c358909",
   "metadata": {},
   "outputs": [],
   "source": [
    "pd.concat([X_train, y_train], axis=1, join='inner')"
   ]
  },
  {
   "cell_type": "markdown",
   "id": "90e42bd1",
   "metadata": {},
   "source": [
    "## Prediction (CSV input)"
   ]
  },
  {
   "cell_type": "code",
   "execution_count": null,
   "id": "428a320f",
   "metadata": {},
   "outputs": [],
   "source": [
    "df_pred = pd.read_csv('data/simple_loan_predict.csv')\n",
    "df_pred.head()"
   ]
  },
  {
   "cell_type": "code",
   "execution_count": null,
   "id": "89018e01",
   "metadata": {},
   "outputs": [],
   "source": [
    "feature_columns = ['age', 'employed', 'own_house', 'credit']\n",
    "labelEncode(df_pred, feature_columns)\n",
    "df_pred.head()"
   ]
  },
  {
   "cell_type": "code",
   "execution_count": null,
   "id": "a6b7b789",
   "metadata": {},
   "outputs": [],
   "source": [
    "enc_columns = ['age_', 'employed_', 'own_house_', 'credit_']\n",
    "X_input = df_pred[enc_columns] \n",
    "X_input.head()"
   ]
  },
  {
   "cell_type": "code",
   "execution_count": null,
   "id": "dc0eb0b5",
   "metadata": {},
   "outputs": [],
   "source": [
    "y_predict = model.predict(X_input)\n",
    "df_pred['predict'] = y_predict\n",
    "df_pred"
   ]
  },
  {
   "cell_type": "code",
   "execution_count": null,
   "id": "da661631",
   "metadata": {},
   "outputs": [],
   "source": [
    "df_pred['result'] = class_names[df_pred.predict]\n",
    "columns = ['id','name','age','employed','own_house','credit','result']\n",
    "print('Result...')\n",
    "df_pred[columns]"
   ]
  },
  {
   "cell_type": "code",
   "execution_count": null,
   "id": "3d6cf31a-ea20-40d6-8bf5-61e301e73fc6",
   "metadata": {},
   "outputs": [],
   "source": [
    "!pip show openpyxl\n",
    "# !pip install openpyxl"
   ]
  },
  {
   "cell_type": "code",
   "execution_count": null,
   "id": "3ebeb373-62b0-46de-bd99-a398a875d8a2",
   "metadata": {},
   "outputs": [],
   "source": [
    "filepath = 'loan_result.xlsx'\n",
    "writer = pd.ExcelWriter(filepath)\n",
    "df_pred[columns].to_excel(writer, 'MySheet1', index=False)\n",
    "writer.save()"
   ]
  },
  {
   "cell_type": "code",
   "execution_count": null,
   "id": "320f6740-a2da-460a-8787-7367ed43d8bb",
   "metadata": {},
   "outputs": [],
   "source": []
  }
 ],
 "metadata": {
  "kernelspec": {
   "display_name": "Python 3",
   "language": "python",
   "name": "python3"
  },
  "language_info": {
   "codemirror_mode": {
    "name": "ipython",
    "version": 3
   },
   "file_extension": ".py",
   "mimetype": "text/x-python",
   "name": "python",
   "nbconvert_exporter": "python",
   "pygments_lexer": "ipython3",
   "version": "3.9.5"
  }
 },
 "nbformat": 4,
 "nbformat_minor": 5
}
