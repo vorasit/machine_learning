{
 "cells": [
  {
   "cell_type": "markdown",
   "metadata": {},
   "source": [
    "## Matplotlib and Pandas"
   ]
  },
  {
   "cell_type": "code",
   "execution_count": null,
   "metadata": {},
   "outputs": [],
   "source": [
    "# Matplotlib\n",
    "!conda list matplotlib"
   ]
  },
  {
   "cell_type": "code",
   "execution_count": null,
   "metadata": {},
   "outputs": [],
   "source": [
    "import matplotlib.pyplot as plt\n",
    "# from matplotlib import pyplot as plt # เขียนแบบนี้ก็ได้"
   ]
  },
  {
   "cell_type": "markdown",
   "metadata": {},
   "source": [
    "### Bar"
   ]
  },
  {
   "cell_type": "code",
   "execution_count": null,
   "metadata": {},
   "outputs": [],
   "source": [
    "x = [1,2,3,4,5,6]               # ข้อมูลสำหรับแกน x (ตัวอย่างนี้ใช้วิธีสมมุติค่าขึ้นมา)\n",
    "ydata = [1,2.8,2.1,4,3,3.5]     # ข้อมูลแกน y (x และ y ต้องมีจำนวนข้อมูลเท่ากัน)"
   ]
  },
  {
   "cell_type": "code",
   "execution_count": null,
   "metadata": {},
   "outputs": [],
   "source": [
    "plt.bar(x, ydata)               # พล็อตกราฟแท่ง\n",
    "plt.show()"
   ]
  },
  {
   "cell_type": "code",
   "execution_count": null,
   "metadata": {},
   "outputs": [],
   "source": [
    "plt.barh(x, ydata) # พล็อตกราฟแท่ง แนวนอน\n",
    "plt.show()"
   ]
  },
  {
   "cell_type": "code",
   "execution_count": null,
   "metadata": {},
   "outputs": [],
   "source": [
    "# Title and x y label\n",
    "plt.title('Sales Report')\n",
    "plt.bar(x, ydata) # พล็อตกราฟแท่ง\n",
    "plt.xlabel('Advertisement')\n",
    "plt.ylabel('Sales')\n",
    "plt.show()"
   ]
  },
  {
   "cell_type": "markdown",
   "metadata": {},
   "source": [
    "### Line"
   ]
  },
  {
   "cell_type": "code",
   "execution_count": null,
   "metadata": {},
   "outputs": [],
   "source": [
    "plt.plot(ydata)\n",
    "plt.show()"
   ]
  },
  {
   "cell_type": "markdown",
   "metadata": {},
   "source": [
    "### Scatter plot"
   ]
  },
  {
   "cell_type": "code",
   "execution_count": null,
   "metadata": {},
   "outputs": [],
   "source": [
    "print(x)\n",
    "print(ydata)"
   ]
  },
  {
   "cell_type": "code",
   "execution_count": null,
   "metadata": {},
   "outputs": [],
   "source": [
    "plt.scatter(x, ydata)\n",
    "plt.show()"
   ]
  },
  {
   "cell_type": "markdown",
   "metadata": {},
   "source": [
    "### Box plot"
   ]
  },
  {
   "cell_type": "code",
   "execution_count": null,
   "metadata": {},
   "outputs": [],
   "source": [
    "age = [18,17,20,18,18,17,19,21,18,17,18,17,18,18,19,19,18,17,22]\n",
    "plt.grid()              # แสดงเส้นกริด\n",
    "plt.boxplot(age)\n",
    "plt.show()"
   ]
  },
  {
   "cell_type": "code",
   "execution_count": null,
   "metadata": {},
   "outputs": [],
   "source": [
    "import pandas as pd\n",
    "ds = pd.Series(age)\n",
    "ds.describe().round(2)"
   ]
  },
  {
   "cell_type": "markdown",
   "metadata": {},
   "source": [
    "### การเขียนรายละเอียดกำกับ (Annotation)"
   ]
  },
  {
   "cell_type": "code",
   "execution_count": null,
   "metadata": {},
   "outputs": [],
   "source": [
    "# เขียนรายละเอียดกำกับ (annotate)\n",
    "\n",
    "xs = [1, 2, 3, 4, 5, 6]                 # x\n",
    "\n",
    "ydata = [1,2.8,2.1,4,3,3.5]             # y1\n",
    "ydata2 = [2.2, 1.6, 2.3, 2, 2.3, 2.1]   # y2\n",
    "\n",
    "plt.rcParams.update({'font.size':14, 'font.family':'tahoma'})\n",
    "plt.figure(figsize=(6, 4))  # ขนาดกราฟ\n",
    "\n",
    "plt.grid(linestyle='--', axis='y')\n",
    "plt.bar(x, ydata, color='c', width=0.5, label='ในประเทศ')\n",
    "plt.bar([x + 0.2 for x in xs], # ขยับแท่งกราฟ\n",
    "        ydata2, width=0.5, color='orange', alpha=0.8, label='ส่งออก')\n",
    "\n",
    "plt.plot(x, ydata, color='b', marker='s', markersize=8)\n",
    "plt.plot(x, ydata2, color='r', marker='o', markersize=8) \n",
    "\n",
    "plt.xlabel(\"เดือน\")\n",
    "plt.ylabel(\"ยอดขาย\")\n",
    "plt.title(\"รายงาน Sales Report\")\n",
    "\n",
    "for tx,ty in list(zip(x, ydata)): \n",
    "    plt.annotate(ty, # ข้อความ label\n",
    "                 (tx, ty), # point สำหรับ label\n",
    "                 textcoords=\"offset points\", # position ของข้อความ\n",
    "                 xytext=(0, 8), # ระยะจาก points (x,y)\n",
    "                 ha='center',\n",
    "                 fontsize=12) # font\n",
    "\n",
    "plt.legend()\n",
    "plt.ylim(0, 4.5)\n",
    "plt.show()"
   ]
  },
  {
   "cell_type": "markdown",
   "metadata": {},
   "source": [
    "### Save"
   ]
  },
  {
   "cell_type": "code",
   "execution_count": null,
   "metadata": {},
   "outputs": [],
   "source": [
    "plt.barh(x, ydata) # พล็อตกราฟแท่ง\n",
    "plt.tight_layout()\n",
    "plt.savefig('plot01.png', dpi=100)\n",
    "plt.savefig('plot01.pdf', dpi=100)\n",
    "plt.show()"
   ]
  },
  {
   "cell_type": "code",
   "execution_count": null,
   "metadata": {},
   "outputs": [],
   "source": [
    "import numpy as np\n",
    "# x = [1,2,3,4,5,6 ... ไปจนครบ]     # ข้อมูลสำหรับแกน x \n",
    "ydata = [1,2.8,2.1,4,3,3.5,6,9,2,15,8,7,12,9,8] # ข้อมูลแกน y (x และ y ต้องมีจำนวนข้อมูลเท่ากัน)\n",
    "\n",
    "x = np.linspace(1, len(ydata), len(ydata))\n",
    "plt.bar(x, ydata)                   # พล็อตกราฟแท่ง\n",
    "plt.show()"
   ]
  },
  {
   "cell_type": "code",
   "execution_count": null,
   "metadata": {},
   "outputs": [],
   "source": [
    "print(len(ydata))\n",
    "print(x)"
   ]
  },
  {
   "cell_type": "markdown",
   "metadata": {},
   "source": [
    "### Pandas (DataFrame)"
   ]
  },
  {
   "cell_type": "code",
   "execution_count": null,
   "metadata": {},
   "outputs": [],
   "source": [
    "import pandas as pd"
   ]
  },
  {
   "cell_type": "code",
   "execution_count": null,
   "metadata": {},
   "outputs": [],
   "source": [
    "df = pd.read_excel('data/score_ageb.xlsx')\n",
    "df.head()"
   ]
  },
  {
   "cell_type": "code",
   "execution_count": null,
   "metadata": {},
   "outputs": [],
   "source": [
    "x = df.index\n",
    "y = df.Score    # df['Score']\n",
    "\n",
    "plt.bar(x, y) # พล็อตกราฟแท่ง\n",
    "# plt.bar(df.index, df.Score)\n",
    "plt.show()"
   ]
  },
  {
   "cell_type": "code",
   "execution_count": null,
   "metadata": {},
   "outputs": [],
   "source": [
    "df.index"
   ]
  },
  {
   "cell_type": "code",
   "execution_count": null,
   "metadata": {},
   "outputs": [],
   "source": [
    "df.Score\n",
    "type(df.Score)"
   ]
  },
  {
   "cell_type": "code",
   "execution_count": null,
   "metadata": {},
   "outputs": [],
   "source": [
    "df.Score.plot.bar()\n",
    "# plt.show()"
   ]
  },
  {
   "cell_type": "code",
   "execution_count": null,
   "metadata": {},
   "outputs": [],
   "source": [
    "df.plot.bar()"
   ]
  },
  {
   "cell_type": "code",
   "execution_count": null,
   "metadata": {},
   "outputs": [],
   "source": [
    "# Advertisement and sales data\n",
    "columns = ['TV','Radio', 'Newspaper', 'Sales']\n",
    "df = pd.read_csv('data/advertising.csv', usecols=columns)\n",
    "df.head()"
   ]
  },
  {
   "cell_type": "code",
   "execution_count": null,
   "metadata": {},
   "outputs": [],
   "source": [
    "# plt.bar(df.TV, df.Sales)\n",
    "plt.plot(df.TV, df.Sales)\n",
    "plt.show()"
   ]
  },
  {
   "cell_type": "code",
   "execution_count": null,
   "metadata": {},
   "outputs": [],
   "source": [
    "# Scatter\n",
    "x = df.TV\n",
    "y = df.Sales\n",
    "plt.scatter(x, y)\n",
    "plt.show()"
   ]
  },
  {
   "cell_type": "code",
   "execution_count": null,
   "metadata": {},
   "outputs": [],
   "source": [
    "plt.scatter(df.TV, df.Sales, label='TV')\n",
    "plt.scatter(df.Radio, df.Sales, label='Radio')\n",
    "\n",
    "plt.xlabel('Advertisement')\n",
    "plt.ylabel('Sales')\n",
    "plt.legend()\n",
    "plt.show()"
   ]
  },
  {
   "cell_type": "code",
   "execution_count": null,
   "metadata": {},
   "outputs": [],
   "source": [
    "tv = df.TV\n",
    "plt.boxplot(tv)\n",
    "plt.show()"
   ]
  },
  {
   "cell_type": "code",
   "execution_count": null,
   "metadata": {},
   "outputs": [],
   "source": [
    "plt.boxplot(df)\n",
    "plt.show()"
   ]
  },
  {
   "cell_type": "code",
   "execution_count": null,
   "metadata": {},
   "outputs": [],
   "source": [
    "df.boxplot()\n",
    "plt.savefig('advertisment.png', dpi=100)"
   ]
  },
  {
   "cell_type": "code",
   "execution_count": null,
   "metadata": {},
   "outputs": [],
   "source": [
    "df.describe().round(1)"
   ]
  },
  {
   "cell_type": "code",
   "execution_count": null,
   "metadata": {},
   "outputs": [],
   "source": []
  }
 ],
 "metadata": {
  "interpreter": {
   "hash": "94d204b8ec920ccb1a78615bc7d3cdb71a7231c784ce4ebcd72630ff9c7927da"
  },
  "kernelspec": {
   "display_name": "Python 3",
   "language": "python",
   "name": "python3"
  },
  "language_info": {
   "codemirror_mode": {
    "name": "ipython",
    "version": 3
   },
   "file_extension": ".py",
   "mimetype": "text/x-python",
   "name": "python",
   "nbconvert_exporter": "python",
   "pygments_lexer": "ipython3",
   "version": "3.9.5"
  }
 },
 "nbformat": 4,
 "nbformat_minor": 4
}
