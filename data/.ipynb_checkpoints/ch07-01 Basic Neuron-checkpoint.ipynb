{
 "cells": [
  {
   "cell_type": "markdown",
   "metadata": {},
   "source": [
    "# Neuron (Perceptron)"
   ]
  },
  {
   "cell_type": "code",
   "execution_count": null,
   "metadata": {},
   "outputs": [],
   "source": [
    "import numpy as np"
   ]
  },
  {
   "cell_type": "markdown",
   "metadata": {},
   "source": [
    "# Workshop 1: Neuron (Perceptron)"
   ]
  },
  {
   "cell_type": "code",
   "execution_count": null,
   "metadata": {},
   "outputs": [],
   "source": [
    "w0 = -.5            # bias\n",
    "\n",
    "# x = [[1], \n",
    "#      [1]]\n",
    "x = [1, 1]\n",
    "w = [.5, .5]  \n",
    "\n",
    "w = np.array(w)\n",
    "x = np.array(x)\n",
    "\n",
    "s = w0 + np.dot(w, x)\n",
    "print(s)"
   ]
  },
  {
   "cell_type": "code",
   "execution_count": null,
   "metadata": {},
   "outputs": [],
   "source": [
    "w0 = -.5\n",
    "\n",
    "x = [0, 0]\n",
    "w = [.5, .5]  \n",
    "\n",
    "w = np.array(w)\n",
    "x = np.array(x)\n",
    "\n",
    "s = w0 + np.dot(w, x)\n",
    "print(s)"
   ]
  },
  {
   "cell_type": "code",
   "execution_count": null,
   "metadata": {},
   "outputs": [],
   "source": []
  },
  {
   "cell_type": "code",
   "execution_count": null,
   "metadata": {},
   "outputs": [],
   "source": [
    "w0 = -.5\n",
    "\n",
    "x = [1, 0]\n",
    "w = [.5, .5]  \n",
    "\n",
    "w = np.array(w)\n",
    "x = np.array(x)\n",
    "\n",
    "s = w0 + np.dot(w, x)\n",
    "print(s)"
   ]
  },
  {
   "cell_type": "markdown",
   "metadata": {},
   "source": [
    "# Workshop 2/2:"
   ]
  },
  {
   "cell_type": "code",
   "execution_count": null,
   "metadata": {},
   "outputs": [],
   "source": [
    "w0 = -.5\n",
    "\n",
    "x = [1, 0]\n",
    "w = [.5, .5]  \n",
    "\n",
    "w = np.array(w)\n",
    "x = np.array(x)\n",
    "\n",
    "s = w0 + np.dot(w, x)\n",
    "print(s)"
   ]
  },
  {
   "cell_type": "code",
   "execution_count": null,
   "metadata": {},
   "outputs": [],
   "source": [
    "w0 = -.5\n",
    "\n",
    "x = [1, 1]\n",
    "w = [.4, .4]  \n",
    "\n",
    "w = np.array(w)\n",
    "x = np.array(x)\n",
    "\n",
    "s = w0 + np.dot(w, x)\n",
    "print(s)"
   ]
  },
  {
   "cell_type": "markdown",
   "metadata": {},
   "source": [
    "# Workshop 3: AND Gate ด้วย Neuron"
   ]
  },
  {
   "cell_type": "code",
   "execution_count": null,
   "metadata": {},
   "outputs": [],
   "source": [
    "def and_gate(x1, x2):\n",
    "    w0 = -0.5       # bias\n",
    "    w1 = 0.5\n",
    "    w2 = 0.5\n",
    "  \n",
    "    threshold = 0.0 \n",
    "    \n",
    "    s = w0 + (w1 * x1) + (w2 * x2) \n",
    "\n",
    "    if s >= threshold:\n",
    "        result = 1\n",
    "    else:\n",
    "        result = 0\n",
    "        \n",
    "    print('output y={}   [s={:.2f}]' . format(result, s))\n",
    "\n",
    "and_gate(0, 0)\n",
    "and_gate(0, 1)\n",
    "and_gate(1, 0)\n",
    "and_gate(1, 1)"
   ]
  },
  {
   "cell_type": "code",
   "execution_count": null,
   "metadata": {},
   "outputs": [],
   "source": [
    "def and_gate(x1, x2):\n",
    "    w0 = -0.5        # bias\n",
    "    w1 = 0.2\n",
    "    w2 = 0.2\n",
    "  \n",
    "    threshold = 0.0 \n",
    "    \n",
    "    s = w0 + (w1 * x1) + (w2 * x2) \n",
    "\n",
    "    if s >= threshold:\n",
    "        result = 1\n",
    "    else:\n",
    "        result = 0\n",
    "        \n",
    "    print('output y={}   [s={:.2f}]' . format(result, s))\n",
    "\n",
    "and_gate(0, 0)\n",
    "and_gate(0, 1)\n",
    "and_gate(1, 0)\n",
    "and_gate(1, 1)"
   ]
  },
  {
   "cell_type": "code",
   "execution_count": null,
   "metadata": {},
   "outputs": [],
   "source": [
    "def and_gate(x1, x2):\n",
    "    w0 = -0.5  # bias\n",
    "    w1 = 0.4\n",
    "    w2 = 0.4\n",
    "  \n",
    "    threshold = 0.0 \n",
    "    \n",
    "    s = w0 + (w1 * x1) + (w2 * x2) \n",
    "\n",
    "    if s >= threshold:\n",
    "        result = 1\n",
    "    else:\n",
    "        result = 0\n",
    "        \n",
    "    print('output y={}   [s={:.2f}]' . format(result, s))\n",
    "\n",
    "and_gate(0, 0)\n",
    "and_gate(0, 1)\n",
    "and_gate(1, 0)\n",
    "and_gate(1, 1)"
   ]
  },
  {
   "cell_type": "markdown",
   "metadata": {},
   "source": [
    "# Workshop 4: OR Gate ด้วย Neuron"
   ]
  },
  {
   "cell_type": "code",
   "execution_count": null,
   "metadata": {},
   "outputs": [],
   "source": [
    "def or_gate(x1, x2):\n",
    "    w0 = -0.5       # bias\n",
    "    w1 = 0.5  \n",
    "    w2 = 0.5\n",
    "     \n",
    "    threshold = 0.0  \n",
    "    \n",
    "    s = w0 + (w1 * x1) + (w2 * x2) \n",
    "    if s >= threshold:\n",
    "        result = 1\n",
    "    else:\n",
    "        result = 0\n",
    "        \n",
    "    print('output y={}   [s={:.2f}]' . format(result, s))\n",
    "\n",
    "or_gate(0, 0)\n",
    "or_gate(0, 1)\n",
    "or_gate(1, 0)\n",
    "or_gate(1, 1)"
   ]
  },
  {
   "cell_type": "markdown",
   "metadata": {},
   "source": [
    "# Workshop 6: XOR Gate ด้วย Neuron"
   ]
  },
  {
   "cell_type": "code",
   "execution_count": null,
   "metadata": {},
   "outputs": [],
   "source": [
    "# ใช้ code WS OR Gate\n",
    "def or_gate(x1, x2):\n",
    "    w0 = -0.5       # bias\n",
    "    w1 = 0.4  \n",
    "    w2 = 0.4\n",
    "     \n",
    "    threshold = 0.0  \n",
    "    \n",
    "    s = w0 + (w1 * x1) + (w2 * x2) \n",
    "    if s >= threshold:\n",
    "        result = 1\n",
    "    else:\n",
    "        result = 0\n",
    "        \n",
    "    print('output y={}   [s={:.2f}]' . format(result, s))\n",
    "\n",
    "or_gate(0, 0)\n",
    "or_gate(0, 1)\n",
    "or_gate(1, 0)\n",
    "or_gate(1, 1)"
   ]
  },
  {
   "cell_type": "markdown",
   "metadata": {},
   "source": [
    "# Workshop 6: Detect ว่าเป็นมะนาวหรือไม่"
   ]
  },
  {
   "cell_type": "code",
   "execution_count": null,
   "metadata": {},
   "outputs": [],
   "source": [
    "def is_lemon(x1, x2):\n",
    "    w0 = -3.5\n",
    "    w1 = 0.2\n",
    "    w2 = 0.5\n",
    "    threshold = 0.0\n",
    "    \n",
    "    s = w0 + (w1 * x1) + (w2 * x2)\n",
    "    if s >= threshold:\n",
    "        result = 1\n",
    "    else:\n",
    "        result = 0\n",
    "        \n",
    "    print('output y={}   [s={:.2f}]' . format(result, s))\n",
    "\n",
    "is_lemon(2, 4.2)\n",
    "is_lemon(3, 2)\n",
    "is_lemon(8, 3.1)\n",
    "is_lemon(8, 4.2)"
   ]
  },
  {
   "cell_type": "code",
   "execution_count": null,
   "metadata": {},
   "outputs": [],
   "source": [
    "is_lemon(8, 6.5)        # Orange"
   ]
  },
  {
   "cell_type": "code",
   "execution_count": null,
   "metadata": {},
   "outputs": [],
   "source": []
  }
 ],
 "metadata": {
  "kernelspec": {
   "display_name": "Python 3 (ipykernel)",
   "language": "python",
   "name": "python3"
  },
  "language_info": {
   "codemirror_mode": {
    "name": "ipython",
    "version": 3
   },
   "file_extension": ".py",
   "mimetype": "text/x-python",
   "name": "python",
   "nbconvert_exporter": "python",
   "pygments_lexer": "ipython3",
   "version": "3.10.4"
  }
 },
 "nbformat": 4,
 "nbformat_minor": 4
}
