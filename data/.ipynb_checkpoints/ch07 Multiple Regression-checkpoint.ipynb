{
 "cells": [
  {
   "cell_type": "markdown",
   "id": "c0f8a5d8-5e5b-451a-bda5-b63ddb6cdfac",
   "metadata": {
    "tags": []
   },
   "source": [
    "## Multiple Linear Regression (Multivariate Regression)"
   ]
  },
  {
   "cell_type": "code",
   "execution_count": null,
   "id": "f4e43c2e-70c3-4e88-a599-5962828489a8",
   "metadata": {},
   "outputs": [],
   "source": [
    "import pandas as pd\n",
    "import matplotlib.pyplot as plt\n",
    "import seaborn as sns"
   ]
  },
  {
   "cell_type": "code",
   "execution_count": null,
   "id": "55e6aa86",
   "metadata": {},
   "outputs": [],
   "source": [
    "# Read dataset\n",
    "# df = pd.read_csv('data/advertising_1.csv')\n",
    "df = pd.read_csv('data/advertising_1.csv', index_col=0)\n",
    "df.head()"
   ]
  },
  {
   "cell_type": "code",
   "execution_count": null,
   "id": "644c22f2",
   "metadata": {},
   "outputs": [],
   "source": [
    "df.isnull().sum()   # ตรวจสอบมีข้อมูลสูญหาย? (check missing values) "
   ]
  },
  {
   "cell_type": "markdown",
   "id": "c3ab7dbf",
   "metadata": {},
   "source": [
    "## Data Visualization"
   ]
  },
  {
   "cell_type": "code",
   "execution_count": null,
   "id": "ab775017-fd4d-4a51-bd40-420873010148",
   "metadata": {},
   "outputs": [],
   "source": [
    "plt.scatter(df.TV, df.Sales)\n",
    "plt.show()"
   ]
  },
  {
   "cell_type": "code",
   "execution_count": null,
   "id": "cd79a48d",
   "metadata": {},
   "outputs": [],
   "source": [
    "plt.scatter(df.Radio, df.Sales)\n",
    "plt.show()"
   ]
  },
  {
   "cell_type": "code",
   "execution_count": null,
   "id": "b4d9a79b",
   "metadata": {},
   "outputs": [],
   "source": [
    "plt.scatter(df.Newspaper, df.Sales)\n",
    "plt.title('Sales-Newspaper')\n",
    "plt.xlabel('Newspaper')\n",
    "plt.ylabel('Sales')\n",
    "plt.show()"
   ]
  },
  {
   "cell_type": "markdown",
   "id": "031fe1c0",
   "metadata": {},
   "source": [
    "## Pairplot"
   ]
  },
  {
   "cell_type": "code",
   "execution_count": null,
   "id": "99d7f3f7",
   "metadata": {},
   "outputs": [],
   "source": [
    "sns.pairplot(df)   \n",
    "plt.show()"
   ]
  },
  {
   "cell_type": "code",
   "execution_count": null,
   "id": "c00a4e7a",
   "metadata": {},
   "outputs": [],
   "source": [
    "sns.pairplot(data=df, x_vars=['TV', 'Radio', 'Newspaper'],\n",
    "                      y_vars='Sales', height=3.5, kind='reg'\n",
    "    )\n",
    "plt.show()"
   ]
  },
  {
   "cell_type": "code",
   "execution_count": null,
   "id": "d5942121",
   "metadata": {},
   "outputs": [],
   "source": [
    "# Correlation\n",
    "df.corr()"
   ]
  },
  {
   "cell_type": "markdown",
   "id": "2e8a03f5-6a27-4675-b608-c12b70895438",
   "metadata": {},
   "source": [
    "## Model"
   ]
  },
  {
   "cell_type": "code",
   "execution_count": null,
   "id": "e2fe9be5-3ea0-4b70-98d0-b2060132dbcb",
   "metadata": {},
   "outputs": [],
   "source": [
    "from sklearn.linear_model import LinearRegression\n",
    "from sklearn.metrics import mean_squared_error, mean_absolute_error, r2_score"
   ]
  },
  {
   "cell_type": "code",
   "execution_count": null,
   "id": "7de39daa",
   "metadata": {},
   "outputs": [],
   "source": [
    "dep_cols = ['TV','Radio','Newspaper']  # dependent vars columns (features)\n",
    "X = df[dep_cols]\n",
    "\n",
    "# X = df.drop(['Sales'], axis=1)\n",
    "y = df.Sales"
   ]
  },
  {
   "cell_type": "code",
   "execution_count": null,
   "id": "91eb7ece-29ff-4e4e-ac84-6bc3a53e9586",
   "metadata": {},
   "outputs": [],
   "source": [
    "X.head()"
   ]
  },
  {
   "cell_type": "code",
   "execution_count": null,
   "id": "339f6f80",
   "metadata": {},
   "outputs": [],
   "source": [
    "y.head()"
   ]
  },
  {
   "cell_type": "code",
   "execution_count": null,
   "id": "100f4f1d",
   "metadata": {},
   "outputs": [],
   "source": [
    "df.head()"
   ]
  },
  {
   "cell_type": "markdown",
   "id": "f54d32d0",
   "metadata": {},
   "source": [
    "### Train Model และ ประเมิน "
   ]
  },
  {
   "cell_type": "code",
   "execution_count": null,
   "id": "a2ed8da6",
   "metadata": {},
   "outputs": [],
   "source": [
    "model = LinearRegression()\n",
    "model.fit(X, y)"
   ]
  },
  {
   "cell_type": "code",
   "execution_count": null,
   "id": "f2420156-0d4d-42a1-a3fa-42f456c93af5",
   "metadata": {},
   "outputs": [],
   "source": [
    "model.score(X, y)"
   ]
  },
  {
   "cell_type": "code",
   "execution_count": null,
   "id": "1c3cf1b2",
   "metadata": {},
   "outputs": [],
   "source": [
    "y_predict = model.predict(X)    # R2\n",
    "r2_score(y, y_predict)"
   ]
  },
  {
   "cell_type": "code",
   "execution_count": null,
   "id": "603bee9e-1fdd-4ad7-8c5d-ea5964914b9a",
   "metadata": {},
   "outputs": [],
   "source": [
    "mean_squared_error(y, y_predict)"
   ]
  },
  {
   "cell_type": "code",
   "execution_count": null,
   "id": "ed731b11",
   "metadata": {},
   "outputs": [],
   "source": [
    "mean_absolute_error(y, y_predict)"
   ]
  },
  {
   "cell_type": "markdown",
   "id": "0100e945",
   "metadata": {},
   "source": [
    "## Predict ทำนาย"
   ]
  },
  {
   "cell_type": "code",
   "execution_count": null,
   "id": "04db6441",
   "metadata": {},
   "outputs": [],
   "source": [
    "df.head()"
   ]
  },
  {
   "cell_type": "code",
   "execution_count": null,
   "id": "0464d7ca",
   "metadata": {},
   "outputs": [],
   "source": [
    "x_input = [[125.1, 9.8, 27.1]]   # TV, Radio, Newspaper\n",
    "model.predict(x_input)"
   ]
  },
  {
   "cell_type": "markdown",
   "id": "a45738ec",
   "metadata": {},
   "source": [
    "## สมการ Model"
   ]
  },
  {
   "cell_type": "code",
   "execution_count": null,
   "id": "4b358a22",
   "metadata": {},
   "outputs": [],
   "source": [
    "model.coef_         # สัมประสิทธ์"
   ]
  },
  {
   "cell_type": "code",
   "execution_count": null,
   "id": "630a7445",
   "metadata": {},
   "outputs": [],
   "source": [
    "model.intercept_    # intercept (b)"
   ]
  },
  {
   "cell_type": "code",
   "execution_count": null,
   "id": "9b7552a6",
   "metadata": {},
   "outputs": [],
   "source": [
    "list(zip(dep_cols, model.coef_))  # รวมข้อมูลเป็น List เดียวกัน Features , Coefficient (slope) "
   ]
  },
  {
   "cell_type": "raw",
   "id": "9f01baf0-c2a3-4281-ab47-baa1e55315fe",
   "metadata": {},
   "source": [
    "y = m1.x1 + m2.x2 + m3.x3 + b\n",
    "\n",
    "y = (0.04039 * TV) + (0.175373 * Radio) + (-0.008838 * Newspaper) + 6.125542"
   ]
  },
  {
   "cell_type": "code",
   "execution_count": null,
   "id": "8bb3f514",
   "metadata": {},
   "outputs": [],
   "source": [
    "# x_input (predict) = [125.1, 9.8, 27.1]\n",
    "125.1*0.04039 + 9.8*0.175373 + 27.1*(-0.008838) + 6.125542"
   ]
  },
  {
   "cell_type": "code",
   "execution_count": null,
   "id": "1eb396b9",
   "metadata": {},
   "outputs": [],
   "source": [
    "# ทำนาย (Predict) หลาย case\n",
    "x_input = [ [0, 0, 0],\n",
    "            [0, 0, 10],\n",
    "            [216.5, 43.8, 27.1],\n",
    "            [182.0, 78.3, 27.1],\n",
    "            [180.0, 107.4, 0],\n",
    "            [1.0, 286.4, 0]]\n",
    "y_pred = model.predict(x_input)\n",
    "y_pred"
   ]
  },
  {
   "cell_type": "code",
   "execution_count": null,
   "id": "30376ea0",
   "metadata": {},
   "outputs": [],
   "source": [
    "import numpy as np\n",
    "x_in = np.array(x_input)\n",
    "\n",
    "x_in.sum(axis=1)"
   ]
  },
  {
   "cell_type": "code",
   "execution_count": null,
   "id": "50c3568e",
   "metadata": {},
   "outputs": [],
   "source": [
    "216.5 + 43.8 + 27.1"
   ]
  },
  {
   "cell_type": "code",
   "execution_count": null,
   "id": "e05bdc26",
   "metadata": {},
   "outputs": [],
   "source": [
    "182.0 + 78.3 + 27.1"
   ]
  },
  {
   "cell_type": "markdown",
   "id": "8e923498",
   "metadata": {},
   "source": [
    "## สรุป Report"
   ]
  },
  {
   "cell_type": "code",
   "execution_count": null,
   "id": "35c40cd4",
   "metadata": {},
   "outputs": [],
   "source": [
    "print('|   TV  | Radio | Newsp |   Sales ')\n",
    "for i, x in enumerate(x_input):\n",
    "    print(f'| {x[0]:5} | {x[1]:5} | {x[2]:5} | = {y_pred[i] :5.2f}')"
   ]
  },
  {
   "cell_type": "code",
   "execution_count": null,
   "id": "1e068ebd",
   "metadata": {},
   "outputs": [],
   "source": [
    "x_in_sum = x_in.sum(axis=1)"
   ]
  },
  {
   "cell_type": "code",
   "execution_count": null,
   "id": "59206570",
   "metadata": {},
   "outputs": [],
   "source": [
    "# สรุป Report\n",
    "print('|   TV  | Radio | Newsp |  Sum  |  Sales ')\n",
    "for i, x in enumerate(x_input):\n",
    "    print('| {:5} | {:5} | {:5} | {:5.1f} | = {:5.2f}'.\n",
    "          format(x[0],x[1],x[2],x_in_sum[i],y_pred[i] ))"
   ]
  },
  {
   "cell_type": "code",
   "execution_count": null,
   "id": "4f468e45",
   "metadata": {},
   "outputs": [],
   "source": [
    "# สรุป Report\n",
    "print('|   TV  | Radio | Newsp |  Sum  |  Sales ')\n",
    "for i, x in enumerate(x_input):\n",
    "    print(f'| {x[0]:5} | {x[1]:5} | {x[2]:5} | {x_in_sum[i]:5.1f} | = {y_pred[i] :5.2f}')"
   ]
  },
  {
   "cell_type": "code",
   "execution_count": null,
   "id": "2eabe8e3-ae52-4cf1-8537-42a084f5b63f",
   "metadata": {},
   "outputs": [],
   "source": [
    "for i, x in enumerate(x_input):\n",
    "    print(x, x_in_sum[i], y_pred[i])"
   ]
  },
  {
   "cell_type": "code",
   "execution_count": null,
   "id": "60e11ae7-f290-42ef-a05b-ec2963fdd742",
   "metadata": {},
   "outputs": [],
   "source": []
  }
 ],
 "metadata": {
  "kernelspec": {
   "display_name": "Python 3",
   "language": "python",
   "name": "python3"
  },
  "language_info": {
   "codemirror_mode": {
    "name": "ipython",
    "version": 3
   },
   "file_extension": ".py",
   "mimetype": "text/x-python",
   "name": "python",
   "nbconvert_exporter": "python",
   "pygments_lexer": "ipython3",
   "version": "3.9.5"
  }
 },
 "nbformat": 4,
 "nbformat_minor": 5
}
