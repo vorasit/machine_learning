{
 "cells": [
  {
   "cell_type": "markdown",
   "metadata": {
    "id": "n6lDkPTsojQI"
   },
   "source": [
    "# Classification 2 (2 Features - Fruit 2 classes)"
   ]
  },
  {
   "cell_type": "code",
   "execution_count": null,
   "metadata": {
    "id": "cHpoQpkgojQM"
   },
   "outputs": [],
   "source": [
    "import pandas as pd\n",
    "import matplotlib.pyplot as plt\n",
    "import seaborn as sns             # scatter plot **\n",
    "import numpy as np"
   ]
  },
  {
   "cell_type": "markdown",
   "metadata": {
    "id": "Pj4oMkkQojQO"
   },
   "source": [
    "## Dataset"
   ]
  },
  {
   "cell_type": "code",
   "execution_count": null,
   "metadata": {
    "id": "sX6m9AQmojQP"
   },
   "outputs": [],
   "source": [
    "# X = [[27],                                                              \n",
    "#      [35],                                                              \n",
    "#      [39],                                                              \n",
    "#      [21],                                                              \n",
    "#      [22],                                                                   \n",
    "#      [45]]                                                              \n",
    "\n",
    "# y_names = ['lemon', 'orange', 'orange', 'lemon', 'lemon', 'orange']\n",
    "# y = [0, 1, 1, 0, 0, 1]\n",
    "\n",
    "df = pd.read_csv('data/fruit2class.csv')\n",
    "df"
   ]
  },
  {
   "cell_type": "markdown",
   "metadata": {
    "id": "W05z7GqKojQR"
   },
   "source": [
    "## Data Visualization"
   ]
  },
  {
   "cell_type": "code",
   "execution_count": null,
   "metadata": {},
   "outputs": [],
   "source": [
    "plt.scatter(df.m, df.d)     # X=df.m   y=df.d\n",
    "plt.show()"
   ]
  },
  {
   "cell_type": "code",
   "execution_count": null,
   "metadata": {},
   "outputs": [],
   "source": [
    "# plt.figure(figsize=(4,3))\n",
    "sns.scatterplot(data=df, x='m', y='d', hue='target', \n",
    "                style='target',\n",
    "                s=100)\n",
    "plt.show()"
   ]
  },
  {
   "cell_type": "markdown",
   "metadata": {
    "id": "4q9FnWwEojQT"
   },
   "source": [
    "# Model"
   ]
  },
  {
   "cell_type": "code",
   "execution_count": null,
   "metadata": {},
   "outputs": [],
   "source": [
    "X = df.drop(['target'], axis=1)\n",
    "X\n",
    "X.head()"
   ]
  },
  {
   "cell_type": "code",
   "execution_count": null,
   "metadata": {},
   "outputs": [],
   "source": [
    "y = df.target\n",
    "y\n",
    "# y.head()"
   ]
  },
  {
   "cell_type": "code",
   "execution_count": null,
   "metadata": {
    "id": "v5TFDP1rojQT"
   },
   "outputs": [],
   "source": [
    "from sklearn.tree import DecisionTreeClassifier\n",
    "model = DecisionTreeClassifier()  "
   ]
  },
  {
   "cell_type": "code",
   "execution_count": null,
   "metadata": {
    "colab": {
     "base_uri": "https://localhost:8080/"
    },
    "id": "ztYJ-uOeojQV",
    "outputId": "e2297f6d-7b1f-4a2f-d771-a4ebe65cd9d5"
   },
   "outputs": [],
   "source": [
    "model.fit(X, y)"
   ]
  },
  {
   "cell_type": "markdown",
   "metadata": {
    "id": "yekmMu6tojQV"
   },
   "source": [
    "## Predict"
   ]
  },
  {
   "cell_type": "code",
   "execution_count": null,
   "metadata": {
    "colab": {
     "base_uri": "https://localhost:8080/"
    },
    "id": "-s_wntoJojQW",
    "outputId": "9bafb5a9-a2cb-43ae-b6ac-385b9baf4241"
   },
   "outputs": [],
   "source": [
    "# X_input = [[25.3]]\n",
    "\n",
    "X_input = [[5.6, 3.5]]      # 2 Features (m, d)\n",
    "\n",
    "y_predict = model.predict(X_input)\n",
    "y_predict\n",
    "print('Result =', y_predict[0])"
   ]
  },
  {
   "cell_type": "code",
   "execution_count": null,
   "metadata": {
    "id": "OzMaaYp7ojQW"
   },
   "outputs": [],
   "source": [
    "fruit_classes = ['Grape','Lemon']"
   ]
  },
  {
   "cell_type": "code",
   "execution_count": null,
   "metadata": {
    "colab": {
     "base_uri": "https://localhost:8080/"
    },
    "id": "qRHkXpWpojQX",
    "outputId": "6252904c-5023-4a3d-883e-71585bcb1697"
   },
   "outputs": [],
   "source": [
    "prd = fruit_classes[y_predict[0]]\n",
    "print('Result: {}'. format(prd))"
   ]
  },
  {
   "cell_type": "code",
   "execution_count": null,
   "metadata": {
    "colab": {
     "base_uri": "https://localhost:8080/"
    },
    "id": "ASP4l0CWojQX",
    "outputId": "7e913008-c815-4e26-971c-608b1f9949cc"
   },
   "outputs": [],
   "source": [
    "X_input = [[5.6, 4.2],          # fruit 1\n",
    "           [7.6, 4.5]]          # fruit 2\n",
    "y_predict = model.predict(X_input)\n",
    "y_predict"
   ]
  },
  {
   "cell_type": "code",
   "execution_count": null,
   "metadata": {
    "colab": {
     "base_uri": "https://localhost:8080/"
    },
    "id": "IznFvFZFojQY",
    "outputId": "29d58ea3-a53f-4eda-a690-3cdaa0bb6f2e"
   },
   "outputs": [],
   "source": [
    "print('Result:')\n",
    "for i in y_predict:\n",
    "    print(fruit_classes[i])"
   ]
  },
  {
   "cell_type": "code",
   "execution_count": null,
   "metadata": {
    "colab": {
     "base_uri": "https://localhost:8080/"
    },
    "id": "nn15HYBnojQY",
    "outputId": "bb24162d-f73b-4e51-d20a-556295e09be3"
   },
   "outputs": [],
   "source": [
    "for i, val in enumerate(y_predict):\n",
    "    print(f'{X_input[i]} = {val}  {fruit_classes[val]}')"
   ]
  },
  {
   "cell_type": "markdown",
   "metadata": {
    "id": "7-QNAf-1ojQZ"
   },
   "source": [
    "## Visualize Model\n",
    "- Tree \n",
    "- ขอบเขตการแบ่ง (การตัดสินใจ)"
   ]
  },
  {
   "cell_type": "markdown",
   "metadata": {
    "id": "8R2Vn31zx21Y"
   },
   "source": [
    "### Tree\n",
    "- scikit learn v >= .21\n",
    "- python-graphviz + pydotplus (Optional) "
   ]
  },
  {
   "cell_type": "code",
   "execution_count": null,
   "metadata": {
    "colab": {
     "base_uri": "https://localhost:8080/",
     "height": 277
    },
    "id": "0W-Vxsf9ojQb",
    "outputId": "1a8ae9c4-c32a-4507-80b3-c3b285b62291"
   },
   "outputs": [],
   "source": [
    "# !pip show scikit-learn\n",
    "# !conda list scikit-learn"
   ]
  },
  {
   "cell_type": "code",
   "execution_count": null,
   "metadata": {
    "colab": {
     "base_uri": "https://localhost:8080/",
     "height": 277
    },
    "id": "0W-Vxsf9ojQb",
    "outputId": "1a8ae9c4-c32a-4507-80b3-c3b285b62291"
   },
   "outputs": [],
   "source": [
    "from sklearn.tree import plot_tree\n",
    "\n",
    "# data_feature_names = ['size']\n",
    "data_feature_names = ['m', 'd' ]\n",
    "\n",
    "plt.subplots(nrows=1, ncols=1, figsize=(7, 7), dpi=96)\n",
    "# plt.figure(figsize=(6,6))\n",
    "\n",
    "plot_tree(model, \n",
    "         filled=True, rounded=True,\n",
    "         feature_names=data_feature_names,  \n",
    "         class_names=fruit_classes)\n",
    "\n",
    "plt.show()"
   ]
  },
  {
   "cell_type": "code",
   "execution_count": null,
   "metadata": {
    "colab": {
     "base_uri": "https://localhost:8080/",
     "height": 277
    },
    "id": "0W-Vxsf9ojQb",
    "outputId": "1a8ae9c4-c32a-4507-80b3-c3b285b62291"
   },
   "outputs": [],
   "source": [
    "plot_tree(model)\n",
    "plt.show()"
   ]
  },
  {
   "cell_type": "markdown",
   "metadata": {
    "id": "bT34ODcsojQc"
   },
   "source": [
    "### ขอบเขตการแบ่ง (การตัดสินใจ: Decision regions)"
   ]
  },
  {
   "cell_type": "code",
   "execution_count": null,
   "metadata": {
    "id": "5arrGcRdojQc"
   },
   "outputs": [],
   "source": [
    "# !pip show mlxtend\n",
    "# !pip install mlxtend"
   ]
  },
  {
   "cell_type": "code",
   "execution_count": null,
   "metadata": {
    "id": "5arrGcRdojQc"
   },
   "outputs": [],
   "source": [
    "from mlxtend.plotting import plot_decision_regions"
   ]
  },
  {
   "cell_type": "code",
   "execution_count": null,
   "metadata": {
    "id": "9ofcZjuAojQc"
   },
   "outputs": [],
   "source": [
    "# plot needs Numpy\n",
    "X = np.array(X)\n",
    "y = np.array(y)"
   ]
  },
  {
   "cell_type": "code",
   "execution_count": null,
   "metadata": {
    "colab": {
     "base_uri": "https://localhost:8080/",
     "height": 320
    },
    "id": "BNcRcGDQojQd",
    "outputId": "fadfb5c7-15a7-4c2a-8df9-c01f23f6a1bc"
   },
   "outputs": [],
   "source": [
    "# Plot\n",
    "plot_decision_regions(X, y, clf=model)\n",
    "\n",
    "plt.xlabel('m')\n",
    "plt.ylabel('d')\n",
    "plt.show()"
   ]
  },
  {
   "cell_type": "code",
   "execution_count": null,
   "metadata": {},
   "outputs": [],
   "source": [
    "# Plot\n",
    "plot_decision_regions(X, y, clf=model)\n",
    "\n",
    "X_input = [[5.6, 4.2],\n",
    "           [7.5, 4.5]]\n",
    "\n",
    "plt.scatter(X_input[0][0], X_input[0][1], s=200, c='r')     # fruit 1 (input 1)\n",
    "plt.scatter(X_input[1][0], X_input[1][1], s=200, c='b')     # fruit 2 (input 2)\n",
    "\n",
    "plt.xlabel('m')\n",
    "plt.ylabel('d')\n",
    "plt.show()"
   ]
  },
  {
   "cell_type": "code",
   "execution_count": null,
   "metadata": {
    "colab": {
     "base_uri": "https://localhost:8080/"
    },
    "id": "duqhipsCojQd",
    "outputId": "eb1f40eb-d2a4-4874-9270-5d52e290b776"
   },
   "outputs": [],
   "source": [
    "# X_input_size = 25\n",
    "\n",
    "X_input_size = [5.6, 3.5]\n",
    "\n",
    "if (X_input_size[0] <= 6.8):     # m\n",
    "    fruit = 'Lemon'\n",
    "elif (X_input_size[1] <= 5.55):  # d\n",
    "    if (X_input_size[0] <= 7.75):\n",
    "        .... \n"
   ]
  },
  {
   "cell_type": "markdown",
   "metadata": {
    "id": "4YEiX8IjojQd"
   },
   "source": [
    "# Classification 2: (Fruit 3 classes)\n",
    "Grape, Lemon, Orange"
   ]
  },
  {
   "cell_type": "markdown",
   "metadata": {
    "id": "Rpzm2D23ojQe"
   },
   "source": [
    "## Dataset"
   ]
  },
  {
   "cell_type": "code",
   "execution_count": null,
   "metadata": {
    "id": "Rpzm2D23ojQe"
   },
   "outputs": [],
   "source": [
    "# X = [[27],                                                              \n",
    "#      [35],                                                              \n",
    "#      [39],                                                              \n",
    "#      [21],                                                              \n",
    "#      [22],                                                                   \n",
    "#      [45],\n",
    "#      [102],\n",
    "#      [110],\n",
    "#      [120] ]                                                              \n",
    "\n",
    "# y_names = ['lemon', 'orange', 'orange', 'lemon', 'lemon', 'orange', 'pamelo', 'pamelo', 'pamelo']\n",
    "# y = [0, 1, 1, 0, 0, 1, 2, 2, 2]"
   ]
  },
  {
   "cell_type": "code",
   "execution_count": null,
   "metadata": {},
   "outputs": [],
   "source": [
    "df = pd.read_csv('data/fruit3class.csv')\n",
    "df"
   ]
  },
  {
   "cell_type": "markdown",
   "metadata": {
    "id": "mwsstJ1IojQe"
   },
   "source": [
    "## Data Visualization"
   ]
  },
  {
   "cell_type": "code",
   "execution_count": null,
   "metadata": {
    "colab": {
     "base_uri": "https://localhost:8080/",
     "height": 279
    },
    "id": "0PyFa7hwojQe",
    "outputId": "65e8d285-c7a4-4ef1-c5c5-a18ed234edea"
   },
   "outputs": [],
   "source": [
    "# https://matplotlib.org/stable/tutorials/colors/colormaps.html\n",
    "sns.scatterplot(data=df, x='m', y='d', hue='target', style='target', s=100, \n",
    "            palette='winter'\n",
    "               )\n",
    "plt.show()"
   ]
  },
  {
   "cell_type": "markdown",
   "metadata": {
    "id": "W_8NUbX10Fdr"
   },
   "source": [
    "## Model"
   ]
  },
  {
   "cell_type": "code",
   "execution_count": null,
   "metadata": {},
   "outputs": [],
   "source": [
    "X = df.drop(['target'], axis=1)\n",
    "# X\n",
    "X.head()"
   ]
  },
  {
   "cell_type": "code",
   "execution_count": null,
   "metadata": {},
   "outputs": [],
   "source": [
    "y = df.target\n",
    "y"
   ]
  },
  {
   "cell_type": "code",
   "execution_count": null,
   "metadata": {
    "colab": {
     "base_uri": "https://localhost:8080/"
    },
    "id": "gURtsmH3ojQf",
    "outputId": "94c8e05d-9ccb-497c-d84e-2fbdec73761f"
   },
   "outputs": [],
   "source": [
    "model = DecisionTreeClassifier(max_depth=4)\n",
    "model.fit(X, y)"
   ]
  },
  {
   "cell_type": "code",
   "execution_count": null,
   "metadata": {
    "id": "0Qa4PDDzojQf"
   },
   "outputs": [],
   "source": [
    "fruit_classes = ['Grape','Lemon','Orange']"
   ]
  },
  {
   "cell_type": "markdown",
   "metadata": {
    "id": "wUn9sPlAojQf"
   },
   "source": [
    "## Predict"
   ]
  },
  {
   "cell_type": "code",
   "execution_count": null,
   "metadata": {
    "colab": {
     "base_uri": "https://localhost:8080/"
    },
    "id": "wUMh-_ISojQf",
    "outputId": "8ac0a6f6-41d0-495f-d165-cc1b028480f5"
   },
   "outputs": [],
   "source": [
    "X_input = [[5.6, 4.2],          # fruit 1\n",
    "           [7.6, 4.5],          # fruit 2\n",
    "           [7.8, 5.4]]          # fruit 3\n",
    "y_predict = model.predict(X_input)\n",
    "y_predict"
   ]
  },
  {
   "cell_type": "code",
   "execution_count": null,
   "metadata": {
    "colab": {
     "base_uri": "https://localhost:8080/"
    },
    "id": "AUJ6eCx_ojQg",
    "outputId": "69b305e8-99ae-4fbe-bc10-3d79d04affa0"
   },
   "outputs": [],
   "source": [
    "for i, k in enumerate(y_predict):\n",
    "    print(f'{X_input[i]} = {fruit_classes[k]}')"
   ]
  },
  {
   "cell_type": "markdown",
   "metadata": {
    "id": "bcKEb1Fuz058"
   },
   "source": [
    "## Visualize Model"
   ]
  },
  {
   "cell_type": "markdown",
   "metadata": {
    "colab": {
     "base_uri": "https://localhost:8080/",
     "height": 277
    },
    "id": "BzeEVNHhojQh",
    "outputId": "863c6bd0-d750-44fc-b609-ca9127d9fa0d"
   },
   "source": [
    "### Tree"
   ]
  },
  {
   "cell_type": "code",
   "execution_count": null,
   "metadata": {
    "colab": {
     "base_uri": "https://localhost:8080/",
     "height": 277
    },
    "id": "BzeEVNHhojQh",
    "outputId": "863c6bd0-d750-44fc-b609-ca9127d9fa0d"
   },
   "outputs": [],
   "source": [
    "# from sklearn.tree import plot_tree\n",
    "\n",
    "data_feature_names = ['m', 'd' ]\n",
    "\n",
    "plt.subplots(nrows=1, ncols=1, figsize=(7, 7), dpi=96)\n",
    "# plt.figure(figsize=(6,6))\n",
    "\n",
    "plot_tree(model, \n",
    "         filled=True, rounded=True,\n",
    "         feature_names=data_feature_names,  \n",
    "         class_names=fruit_classes)\n",
    "\n",
    "plt.show()"
   ]
  },
  {
   "cell_type": "markdown",
   "metadata": {
    "id": "6m7sSWeZojQh"
   },
   "source": [
    "### Decision regions"
   ]
  },
  {
   "cell_type": "code",
   "execution_count": null,
   "metadata": {
    "id": "6m7sSWeZojQh"
   },
   "outputs": [],
   "source": [
    "from mlxtend.plotting import plot_decision_regions"
   ]
  },
  {
   "cell_type": "code",
   "execution_count": null,
   "metadata": {
    "id": "tsvatjN_ojQh"
   },
   "outputs": [],
   "source": [
    "# plot needs Numpy\n",
    "X = np.array(X)\n",
    "y = np.array(y)"
   ]
  },
  {
   "cell_type": "code",
   "execution_count": null,
   "metadata": {
    "colab": {
     "base_uri": "https://localhost:8080/",
     "height": 320
    },
    "id": "Uk0XU635ojQi",
    "outputId": "1f8e91a5-4715-486b-ccc4-1356c3a1c298"
   },
   "outputs": [],
   "source": [
    "plot_decision_regions(X, y, clf=model)\n",
    "plt.show()"
   ]
  },
  {
   "cell_type": "code",
   "execution_count": null,
   "metadata": {
    "id": "3n5k8tRpqwYY"
   },
   "outputs": [],
   "source": [
    "# Plot\n",
    "plot_decision_regions(X, y, clf=model)\n",
    "\n",
    "X_input = [[5.6, 4.2],          # fruit 1\n",
    "           [7.6, 4.5],          # fruit 2\n",
    "           [7.8, 5.4]]          # fruit 3\n",
    "\n",
    "plt.scatter(X_input[0][0], X_input[0][1], s=200, c='r')     # fruit 1 (input 1)\n",
    "plt.scatter(X_input[1][0], X_input[1][1], s=200, c='b')     # fruit 2 (input 2)\n",
    "plt.scatter(X_input[2][0], X_input[2][1], s=200, c='m')     # fruit 2 (input 2)\n",
    "\n",
    "plt.xlabel('m')\n",
    "plt.ylabel('d')\n",
    "plt.show()"
   ]
  },
  {
   "cell_type": "code",
   "execution_count": null,
   "metadata": {},
   "outputs": [],
   "source": [
    "y_predict = model.predict(X_input)\n",
    "for i, k in enumerate(y_predict):\n",
    "    print(f'{X_input[i]} = {fruit_classes[k]}')"
   ]
  },
  {
   "cell_type": "code",
   "execution_count": null,
   "metadata": {
    "id": "3n5k8tRpqwYY"
   },
   "outputs": [],
   "source": [
    "X_input = [[5.6, 4.2],          # fruit 1\n",
    "           [7.6, 4.5],          # fruit 2\n",
    "           [7.8, 5.4],          # fruit 3\n",
    "           [8.9, 3.7]]          # fruit 4\n",
    "\n",
    "plot_decision_regions(X, y, clf=model)\n",
    "\n",
    "for i, x in enumerate(X_input):\n",
    "    # print(x)\n",
    "    plt.scatter(x[0], x[1], s=200)\n",
    "\n",
    "\n",
    "plt.xlabel('m')\n",
    "plt.ylabel('d')\n",
    "plt.show()"
   ]
  },
  {
   "cell_type": "code",
   "execution_count": null,
   "metadata": {},
   "outputs": [],
   "source": [
    "y_predict = model.predict(X_input)\n",
    "for i, k in enumerate(y_predict):\n",
    "    print(f'{X_input[i]} = {y_predict[i]} {fruit_classes[k]}')"
   ]
  },
  {
   "cell_type": "code",
   "execution_count": null,
   "metadata": {},
   "outputs": [],
   "source": [
    "# Plotting decision regions with Legend\n",
    "\n",
    "fruit_classes = ['Grape','Lemon','Orange']      # Legend\n",
    "\n",
    "ax = plot_decision_regions(X, y, clf=model)\n",
    "\n",
    "plt.xlabel('m')\n",
    "plt.ylabel('d')\n",
    "plt.title('Decision Tree')\n",
    "\n",
    "handles, labels = ax.get_legend_handles_labels()\n",
    "ax.legend(handles, \n",
    "          fruit_classes,\n",
    "          framealpha=0.4)\n",
    "\n",
    "plt.show()"
   ]
  },
  {
   "cell_type": "code",
   "execution_count": null,
   "metadata": {},
   "outputs": [],
   "source": []
  }
 ],
 "metadata": {
  "colab": {
   "name": "08 Classification 1.ipynb",
   "provenance": [],
   "toc_visible": true
  },
  "kernelspec": {
   "display_name": "Python 3",
   "language": "python",
   "name": "python3"
  },
  "language_info": {
   "codemirror_mode": {
    "name": "ipython",
    "version": 3
   },
   "file_extension": ".py",
   "mimetype": "text/x-python",
   "name": "python",
   "nbconvert_exporter": "python",
   "pygments_lexer": "ipython3",
   "version": "3.9.5"
  }
 },
 "nbformat": 4,
 "nbformat_minor": 4
}
