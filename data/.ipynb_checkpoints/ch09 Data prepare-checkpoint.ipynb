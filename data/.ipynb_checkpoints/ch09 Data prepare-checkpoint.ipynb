{
 "cells": [
  {
   "cell_type": "markdown",
   "id": "983a8dfa",
   "metadata": {},
   "source": [
    "# ข้อมูลสูญหาย (Missing Data/Values)\n",
    "- ตรวจสอบข้อมูลเบื้องต้น\n",
    "- จัดการกับข้อมูลสูญหาย"
   ]
  },
  {
   "cell_type": "markdown",
   "id": "030994f3",
   "metadata": {},
   "source": [
    "## ตรวจสอบข้อมูลเบื้องต้น\n",
    "- ดูโครงสร้าง.. ใช้ List (head, tail, sample), ดูรายชื่อ Columns\n",
    "- สถิติเบื้องต้น (describe): ค่าเฉลี่ย Max Min ..\n",
    "- Data types: ชนิดข้อมูล float, object ...\n",
    "- Data Visualization (Plot)\n",
    "- Missing data (values)"
   ]
  },
  {
   "cell_type": "code",
   "execution_count": null,
   "id": "f943abb4-0cf4-40fd-8fbf-69090f5bedc4",
   "metadata": {},
   "outputs": [],
   "source": [
    "import pandas as pd\n",
    "import matplotlib.pyplot as plt\n",
    "import numpy as np"
   ]
  },
  {
   "cell_type": "code",
   "execution_count": null,
   "id": "934a34d7",
   "metadata": {},
   "outputs": [],
   "source": [
    "# Load dataset\n",
    "# df = pd.read_csv('/data/data_missing.csv', encoding='utf-8')\n",
    "df = pd.read_csv('data/data_missing.csv')"
   ]
  },
  {
   "cell_type": "markdown",
   "id": "676be997",
   "metadata": {},
   "source": [
    "### ดูโครงสร้าง\n",
    "- List (head, tail, sample)\n",
    "- ดูรายชื่อ Columns\n",
    "- มิติ (shape)"
   ]
  },
  {
   "cell_type": "code",
   "execution_count": null,
   "id": "ae95bfb2",
   "metadata": {},
   "outputs": [],
   "source": [
    "# df\n",
    "# df.head(7)   \n",
    "df.head()              # NaN = Not a Number"
   ]
  },
  {
   "cell_type": "code",
   "execution_count": null,
   "id": "44db73a1",
   "metadata": {},
   "outputs": [],
   "source": [
    "df.tail()"
   ]
  },
  {
   "cell_type": "code",
   "execution_count": null,
   "id": "8256f5ec",
   "metadata": {},
   "outputs": [],
   "source": [
    "# df.sample(5)\n",
    "df.sample(5, random_state=0)"
   ]
  },
  {
   "cell_type": "code",
   "execution_count": null,
   "id": "135ad48b",
   "metadata": {},
   "outputs": [],
   "source": [
    "df.shape"
   ]
  },
  {
   "cell_type": "markdown",
   "id": "8699faa9",
   "metadata": {},
   "source": [
    "### List Columns"
   ]
  },
  {
   "cell_type": "code",
   "execution_count": null,
   "id": "e8a792df",
   "metadata": {},
   "outputs": [],
   "source": [
    "df.columns"
   ]
  },
  {
   "cell_type": "code",
   "execution_count": null,
   "id": "2bb45011",
   "metadata": {},
   "outputs": [],
   "source": [
    "# df[['Temp', 'Humid', 'Rain']]\n",
    "columns = ['Temp', 'Humid', 'Rain']\n",
    "df[columns].head()"
   ]
  },
  {
   "cell_type": "markdown",
   "id": "75208a8d",
   "metadata": {},
   "source": [
    "### Data types"
   ]
  },
  {
   "cell_type": "code",
   "execution_count": null,
   "id": "f4b93ebd",
   "metadata": {},
   "outputs": [],
   "source": [
    "df.dtypes"
   ]
  },
  {
   "cell_type": "code",
   "execution_count": null,
   "id": "63e545af",
   "metadata": {},
   "outputs": [],
   "source": [
    "df.info()"
   ]
  },
  {
   "cell_type": "markdown",
   "id": "daf5385f",
   "metadata": {},
   "source": [
    "### สถิติเบื้องต้น\n",
    "ค่าเฉลี่ย Max Min .."
   ]
  },
  {
   "cell_type": "code",
   "execution_count": null,
   "id": "567695ed",
   "metadata": {},
   "outputs": [],
   "source": [
    "df.describe() #.round(3)"
   ]
  },
  {
   "cell_type": "code",
   "execution_count": null,
   "id": "26e27b45",
   "metadata": {},
   "outputs": [],
   "source": [
    "df.describe().round(2)"
   ]
  },
  {
   "cell_type": "code",
   "execution_count": null,
   "id": "fb03d8ab",
   "metadata": {},
   "outputs": [],
   "source": [
    "# pd.options.display.float_format = '{:,.3f}'.format\n",
    "pd.reset_option('display.float_format')     # reset\n",
    "df"
   ]
  },
  {
   "cell_type": "code",
   "execution_count": null,
   "id": "27a40abc",
   "metadata": {},
   "outputs": [],
   "source": [
    "df.describe()"
   ]
  },
  {
   "cell_type": "code",
   "execution_count": null,
   "id": "051dd1cc",
   "metadata": {},
   "outputs": [],
   "source": [
    "df.style.format({'Temp': '{}', 'Humid':'{:.4f}'})"
   ]
  },
  {
   "cell_type": "markdown",
   "id": "25566909",
   "metadata": {},
   "source": [
    "### Data Visualization (Plot)"
   ]
  },
  {
   "cell_type": "code",
   "execution_count": null,
   "id": "49ded2c1",
   "metadata": {},
   "outputs": [],
   "source": [
    "df.plot.bar()\n",
    "plt.show()"
   ]
  },
  {
   "cell_type": "code",
   "execution_count": null,
   "id": "68b6f117",
   "metadata": {},
   "outputs": [],
   "source": [
    "plt.scatter(df.Date, df.Temp)\n",
    "plt.show()"
   ]
  },
  {
   "cell_type": "markdown",
   "id": "3ce6c1a9",
   "metadata": {},
   "source": [
    "### ตรวจสอบ Missing Values"
   ]
  },
  {
   "cell_type": "code",
   "execution_count": null,
   "id": "11e268f2",
   "metadata": {},
   "outputs": [],
   "source": [
    "# ตรวจสอบว่ามีข้อมูลสูญหายหรือไม่? Check Missing Data (Missing Values)\n",
    "df.isnull().sum()"
   ]
  },
  {
   "cell_type": "markdown",
   "id": "0976deef",
   "metadata": {},
   "source": [
    "# ปัญหา Missing Values กับ Model"
   ]
  },
  {
   "cell_type": "code",
   "execution_count": null,
   "id": "a3ff9576",
   "metadata": {},
   "outputs": [],
   "source": [
    "df = pd.read_csv('data/gdp4c.csv', index_col=0)\n",
    "df.head()"
   ]
  },
  {
   "cell_type": "code",
   "execution_count": null,
   "id": "adc582ab",
   "metadata": {},
   "outputs": [],
   "source": [
    "df.tail()"
   ]
  },
  {
   "cell_type": "code",
   "execution_count": null,
   "id": "d908bd6c",
   "metadata": {},
   "outputs": [],
   "source": [
    "df.describe()"
   ]
  },
  {
   "cell_type": "code",
   "execution_count": null,
   "id": "57c09241",
   "metadata": {},
   "outputs": [],
   "source": [
    "plt.figure(figsize=(7,4))\n",
    "plt.scatter(df.index, df.THA, label='THA')\n",
    "# plt.scatter(df.index, df.SGP, label='SGP')\n",
    "plt.scatter(df.index, df.VNM, label='VNM')\n",
    "plt.ylabel('GDP')\n",
    "plt.legend()\n",
    "plt.show()"
   ]
  },
  {
   "cell_type": "markdown",
   "id": "45e183bf",
   "metadata": {},
   "source": [
    "### Model"
   ]
  },
  {
   "cell_type": "code",
   "execution_count": null,
   "id": "9793b79b",
   "metadata": {},
   "outputs": [],
   "source": [
    "from sklearn.linear_model import LinearRegression\n",
    "x = df.index.values.reshape(-1, 1)\n",
    "x[:5]"
   ]
  },
  {
   "cell_type": "code",
   "execution_count": null,
   "id": "7a4990e5",
   "metadata": {},
   "outputs": [],
   "source": [
    "y = df.VNM\n",
    "y\n",
    "# y[:5]"
   ]
  },
  {
   "cell_type": "code",
   "execution_count": null,
   "id": "4e2d4b8f",
   "metadata": {},
   "outputs": [],
   "source": [
    "model = LinearRegression()\n",
    "model.fit(x, y)"
   ]
  },
  {
   "cell_type": "code",
   "execution_count": null,
   "id": "2c3d0128",
   "metadata": {},
   "outputs": [],
   "source": [
    "df.shape"
   ]
  },
  {
   "cell_type": "code",
   "execution_count": null,
   "id": "6a980f6a",
   "metadata": {},
   "outputs": [],
   "source": [
    "df.dropna(inplace=True)         # ลบ NaN (Not a Number) Missing Values\n",
    "df.head()"
   ]
  },
  {
   "cell_type": "code",
   "execution_count": null,
   "id": "950a321c",
   "metadata": {},
   "outputs": [],
   "source": [
    "df.shape"
   ]
  },
  {
   "cell_type": "code",
   "execution_count": null,
   "id": "34b6a7a4",
   "metadata": {},
   "outputs": [],
   "source": [
    "df.head()"
   ]
  },
  {
   "cell_type": "markdown",
   "id": "c0f8a5d8-5e5b-451a-bda5-b63ddb6cdfac",
   "metadata": {
    "tags": []
   },
   "source": [
    "# Workshop: Missing Values"
   ]
  },
  {
   "cell_type": "code",
   "execution_count": null,
   "id": "f4e43c2e-70c3-4e88-a599-5962828489a8",
   "metadata": {},
   "outputs": [],
   "source": [
    "df = pd.read_csv('data/data_missing.csv')\n",
    "# df = pd.read_csv('data/data_missing.csv', encoding='utf-8')\n",
    "# df.head()\n",
    "df"
   ]
  },
  {
   "cell_type": "markdown",
   "id": "5199dd20",
   "metadata": {},
   "source": [
    "## ตรวจสอบเบื้องต้น"
   ]
  },
  {
   "cell_type": "code",
   "execution_count": null,
   "id": "fb85a56f-1a3f-4619-8a28-ec69243b7421",
   "metadata": {},
   "outputs": [],
   "source": [
    "df.shape"
   ]
  },
  {
   "cell_type": "code",
   "execution_count": null,
   "id": "8143c75c",
   "metadata": {},
   "outputs": [],
   "source": [
    "df.dtypes"
   ]
  },
  {
   "cell_type": "code",
   "execution_count": null,
   "id": "36016c26",
   "metadata": {},
   "outputs": [],
   "source": [
    "df.describe()"
   ]
  },
  {
   "cell_type": "code",
   "execution_count": null,
   "id": "da1cab22",
   "metadata": {},
   "outputs": [],
   "source": [
    "import matplotlib.pyplot as plt\n",
    "df.plot.bar()\n",
    "# df.Temp.plot.bar()\n",
    "plt.show()"
   ]
  },
  {
   "cell_type": "code",
   "execution_count": null,
   "id": "1329478e",
   "metadata": {},
   "outputs": [],
   "source": [
    "df.Date = df.Date.astype('category')"
   ]
  },
  {
   "cell_type": "code",
   "execution_count": null,
   "id": "9ffb4ee6",
   "metadata": {},
   "outputs": [],
   "source": [
    "df.dtypes"
   ]
  },
  {
   "cell_type": "code",
   "execution_count": null,
   "id": "b6a502c8",
   "metadata": {},
   "outputs": [],
   "source": [
    "df.describe()"
   ]
  },
  {
   "cell_type": "markdown",
   "id": "c3fc1c03-7d7c-4981-9bdb-f4de81b98532",
   "metadata": {
    "tags": []
   },
   "source": [
    "## Missing Values"
   ]
  },
  {
   "cell_type": "code",
   "execution_count": null,
   "id": "76123d40",
   "metadata": {},
   "outputs": [],
   "source": [
    "df.isnull().sum()"
   ]
  },
  {
   "cell_type": "code",
   "execution_count": null,
   "id": "ab775017-fd4d-4a51-bd40-420873010148",
   "metadata": {},
   "outputs": [],
   "source": [
    "df.isnull()"
   ]
  },
  {
   "cell_type": "code",
   "execution_count": null,
   "id": "4e90f237",
   "metadata": {},
   "outputs": [],
   "source": [
    "df.isnull().any()"
   ]
  },
  {
   "cell_type": "code",
   "execution_count": null,
   "id": "6cc933ad",
   "metadata": {},
   "outputs": [],
   "source": [
    "df.isnull().sum()"
   ]
  },
  {
   "cell_type": "code",
   "execution_count": null,
   "id": "8533a15a",
   "metadata": {},
   "outputs": [],
   "source": [
    "df.notnull()"
   ]
  },
  {
   "cell_type": "code",
   "execution_count": null,
   "id": "461974e3",
   "metadata": {},
   "outputs": [],
   "source": [
    "df.notnull().sum()"
   ]
  },
  {
   "cell_type": "markdown",
   "id": "2e8a03f5-6a27-4675-b608-c12b70895438",
   "metadata": {},
   "source": [
    "## ตรวจสอบเปอร์เซนต์ของ Missing Values"
   ]
  },
  {
   "cell_type": "code",
   "execution_count": null,
   "id": "e2fe9be5-3ea0-4b70-98d0-b2060132dbcb",
   "metadata": {},
   "outputs": [],
   "source": [
    "missing_count = df.isnull().sum()\n",
    "\n",
    "total_cells = np.product(df.shape)\n",
    "total_missing = missing_count.sum()\n",
    "\n",
    "# percent of data that is missing\n",
    "missing_percent = total_missing *100 /total_cells\n",
    "\n",
    "print('Total cells: {}' . format(total_cells))\n",
    "print('Total missing values: {}' . format(total_missing))\n",
    "print('missing: {} %' . format(missing_percent))"
   ]
  },
  {
   "cell_type": "markdown",
   "id": "c27ca4e2",
   "metadata": {},
   "source": [
    "## ตรวจสอบ Column"
   ]
  },
  {
   "cell_type": "code",
   "execution_count": null,
   "id": "91eb7ece-29ff-4e4e-ac84-6bc3a53e9586",
   "metadata": {},
   "outputs": [],
   "source": [
    "df.columns"
   ]
  },
  {
   "cell_type": "code",
   "execution_count": null,
   "id": "f2420156-0d4d-42a1-a3fa-42f456c93af5",
   "metadata": {},
   "outputs": [],
   "source": [
    "df.Temp.isnull().sum()"
   ]
  },
  {
   "cell_type": "code",
   "execution_count": null,
   "id": "603bee9e-1fdd-4ad7-8c5d-ea5964914b9a",
   "metadata": {},
   "outputs": [],
   "source": [
    "df.Temp.isnull()"
   ]
  },
  {
   "cell_type": "code",
   "execution_count": null,
   "id": "894d214e",
   "metadata": {},
   "outputs": [],
   "source": [
    "# List แถว (rows) ที่มี Missing Values\n",
    "df[df.Temp.isnull()]"
   ]
  },
  {
   "cell_type": "code",
   "execution_count": null,
   "id": "6d4fc484",
   "metadata": {},
   "outputs": [],
   "source": [
    "df[df.Rain.isnull()]"
   ]
  },
  {
   "cell_type": "code",
   "execution_count": null,
   "id": "a7687c65",
   "metadata": {},
   "outputs": [],
   "source": [
    "df[df.Humid.isnull()]"
   ]
  },
  {
   "cell_type": "code",
   "execution_count": null,
   "id": "4a331997",
   "metadata": {},
   "outputs": [],
   "source": [
    "# List ทุกคอลัมน์ ที่มี Missing Values\n",
    "df[df.isnull().any(axis=1)]"
   ]
  },
  {
   "cell_type": "markdown",
   "id": "cb1bef06",
   "metadata": {},
   "source": [
    "# จัดการกับ Missing Values\n",
    "- เติมข้อมูลเข้าไปแทนที่\n",
    "- ลบทิ้ง (Drop)"
   ]
  },
  {
   "cell_type": "markdown",
   "id": "bf8b27a6",
   "metadata": {},
   "source": [
    "## การเติมข้อมูลเข้าไปแทนที่ Missing Values\n",
    "- ค่ากลาง (ค่าเฉลี่ย, median ...)\n",
    "- ค่าใด ๆ\n",
    "- ข้อมูลก่อนหน้า หรือ ข้อมูลลำดับถัดไป"
   ]
  },
  {
   "cell_type": "markdown",
   "id": "1e78e081",
   "metadata": {},
   "source": [
    "### แทนที่ด้วยค่ากลาง หรือค่าใดค่าหนึ่ง"
   ]
  },
  {
   "cell_type": "code",
   "execution_count": null,
   "id": "ab398336",
   "metadata": {},
   "outputs": [],
   "source": [
    "df.describe()"
   ]
  },
  {
   "cell_type": "code",
   "execution_count": null,
   "id": "dd724e42",
   "metadata": {},
   "outputs": [],
   "source": [
    "colm = 'Humid'\n",
    "df[colm] = df[colm].fillna(df[colm].mean())"
   ]
  },
  {
   "cell_type": "code",
   "execution_count": null,
   "id": "2d7f2c1a",
   "metadata": {},
   "outputs": [],
   "source": [
    "df"
   ]
  },
  {
   "cell_type": "code",
   "execution_count": null,
   "id": "d1ea9116",
   "metadata": {},
   "outputs": [],
   "source": [
    "colm = 'Humid'\n",
    "df[colm] = df[colm].fillna(df[colm].median())"
   ]
  },
  {
   "cell_type": "code",
   "execution_count": null,
   "id": "79126edf",
   "metadata": {},
   "outputs": [],
   "source": [
    "df"
   ]
  },
  {
   "cell_type": "code",
   "execution_count": null,
   "id": "a4a95830",
   "metadata": {},
   "outputs": [],
   "source": [
    "df = pd.read_csv('data/data_missing.csv', encoding='utf-8')  # Reload the original dataset\n",
    "df"
   ]
  },
  {
   "cell_type": "code",
   "execution_count": null,
   "id": "d777c243",
   "metadata": {},
   "outputs": [],
   "source": [
    "# เติม/แทนที่ NaN ด้วยค่าใดค่าหนึ่ง\n",
    "colm = ['Humid','Temp']\n",
    "df[colm] = df[colm].fillna(99)"
   ]
  },
  {
   "cell_type": "code",
   "execution_count": null,
   "id": "897bb832",
   "metadata": {},
   "outputs": [],
   "source": [
    "df"
   ]
  },
  {
   "cell_type": "markdown",
   "id": "5a0c5b97",
   "metadata": {},
   "source": [
    "### เปลี่ยนชนิดข้อมูลเป็นตัวเลข (คอลัมน์->numeric)"
   ]
  },
  {
   "cell_type": "code",
   "execution_count": null,
   "id": "73783a7b",
   "metadata": {},
   "outputs": [],
   "source": [
    "df = pd.read_csv('data/data_missing.csv')  # Reload the original dataset\n",
    "df"
   ]
  },
  {
   "cell_type": "code",
   "execution_count": null,
   "id": "b56fb69a",
   "metadata": {},
   "outputs": [],
   "source": [
    "df.dtypes"
   ]
  },
  {
   "cell_type": "code",
   "execution_count": null,
   "id": "c37bcfa8",
   "metadata": {},
   "outputs": [],
   "source": [
    "colm = 'Rain'\n",
    "df[colm] = df[colm].fillna(df[colm].mean())     # Error"
   ]
  },
  {
   "cell_type": "code",
   "execution_count": null,
   "id": "a12880ec",
   "metadata": {},
   "outputs": [],
   "source": [
    "df.Rain = pd.to_numeric(df.Rain,errors='coerce')    #errors='coerce', "
   ]
  },
  {
   "cell_type": "code",
   "execution_count": null,
   "id": "7ac7b0d4",
   "metadata": {},
   "outputs": [],
   "source": [
    "df.dtypes"
   ]
  },
  {
   "cell_type": "code",
   "execution_count": null,
   "id": "73f72adc",
   "metadata": {},
   "outputs": [],
   "source": [
    "df"
   ]
  },
  {
   "cell_type": "code",
   "execution_count": null,
   "id": "de9fca44",
   "metadata": {},
   "outputs": [],
   "source": [
    "df.dtypes"
   ]
  },
  {
   "cell_type": "code",
   "execution_count": null,
   "id": "f335a60c",
   "metadata": {},
   "outputs": [],
   "source": [
    "colm = 'Rain'\n",
    "df[colm] = df[colm].fillna(df[colm].mean())  "
   ]
  },
  {
   "cell_type": "markdown",
   "id": "59e92c3a",
   "metadata": {},
   "source": [
    "### การแทนค่าด้วยข้อมูลก่อนหน้า หรือข้อมูลถัดไป"
   ]
  },
  {
   "cell_type": "code",
   "execution_count": null,
   "id": "d05ccf29",
   "metadata": {},
   "outputs": [],
   "source": [
    "df = pd.read_csv('data/data_missing.csv')  # Reload the original dataset\n",
    "df"
   ]
  },
  {
   "cell_type": "code",
   "execution_count": null,
   "id": "46b46122",
   "metadata": {},
   "outputs": [],
   "source": [
    "# แทนที่ด้วยข้อมูลก่อนหน้า\n",
    "# นำข้อมูลก่อนหน้า เติมให้ Missing values (NaN) ลำดับถัดไป\n",
    "df.fillna(method='pad', inplace=True)\n",
    "df"
   ]
  },
  {
   "cell_type": "code",
   "execution_count": null,
   "id": "53c9f52e",
   "metadata": {},
   "outputs": [],
   "source": [
    "df = pd.read_csv('data/data_missing.csv')  # Reload the original dataset\n",
    "df"
   ]
  },
  {
   "cell_type": "code",
   "execution_count": null,
   "id": "6b104ad5",
   "metadata": {},
   "outputs": [],
   "source": [
    "df.fillna(method='pad', limit=1, inplace=True)\n",
    "df"
   ]
  },
  {
   "cell_type": "code",
   "execution_count": null,
   "id": "712bee84",
   "metadata": {},
   "outputs": [],
   "source": [
    "df = pd.read_csv('data/data_missing.csv')  # Reload the original dataset\n",
    "df"
   ]
  },
  {
   "cell_type": "code",
   "execution_count": null,
   "id": "8dfc2567",
   "metadata": {},
   "outputs": [],
   "source": [
    "# แทนที่ด้วยข้อมูลถัดไป\n",
    "# นำข้อมูลข้างหลัง มาเติมให้ Missing values (NaN) ลำดับก่อนหน้า (เอาข้างหลัง มาเติมให้ข้างหน้า)\n",
    "df.fillna(method='bfill', inplace=True)\n",
    "df"
   ]
  },
  {
   "cell_type": "markdown",
   "id": "d15a0c8a",
   "metadata": {},
   "source": [
    "### กำหนดค่า Missing Data ตอน Load file\n",
    "เช่น ถ้าข้อมูลเป็น 'n/a' , 'na' , '--' , 'none' ให้ถือว่าเป็น Missing Values ให้ใส่ NaN ลงไปเลย"
   ]
  },
  {
   "cell_type": "code",
   "execution_count": null,
   "id": "4a08b214",
   "metadata": {},
   "outputs": [],
   "source": [
    "missing_vals = ['n/a','na','--','none']\n",
    "df = pd.read_csv('data/data_missing.csv', na_values=missing_vals)\n",
    "df"
   ]
  },
  {
   "cell_type": "markdown",
   "id": "979a57bf",
   "metadata": {},
   "source": [
    "## ลบข้อมูล (Drop)"
   ]
  },
  {
   "cell_type": "code",
   "execution_count": null,
   "id": "5ea55875",
   "metadata": {},
   "outputs": [],
   "source": [
    "df = pd.read_csv('data/data_missing.csv')  # Reload the original dataset\n",
    "df"
   ]
  },
  {
   "cell_type": "markdown",
   "id": "349651c9",
   "metadata": {},
   "source": [
    "### ลบทั้งแถว (Drop Row)"
   ]
  },
  {
   "cell_type": "code",
   "execution_count": null,
   "id": "01c9cfa8",
   "metadata": {},
   "outputs": [],
   "source": [
    "# ลบออกทั้งแถว (Drop) ที่มี NaN\n",
    "df.dropna(inplace=True)\n",
    "df"
   ]
  },
  {
   "cell_type": "markdown",
   "id": "669e4792",
   "metadata": {},
   "source": [
    "### ลบ (Drop) บางส่วน"
   ]
  },
  {
   "cell_type": "code",
   "execution_count": null,
   "id": "8c8b296d",
   "metadata": {},
   "outputs": [],
   "source": [
    "df = pd.read_csv('data/data_missing.csv')  # Reload the original dataset\n",
    "df"
   ]
  },
  {
   "cell_type": "code",
   "execution_count": null,
   "id": "c7f09f40",
   "metadata": {},
   "outputs": [],
   "source": [
    "df.dropna(subset=['Temp', 'Humid'], inplace=True)\n",
    "df"
   ]
  },
  {
   "cell_type": "markdown",
   "id": "bb026f41",
   "metadata": {},
   "source": [
    "### ลบ Column"
   ]
  },
  {
   "cell_type": "code",
   "execution_count": null,
   "id": "be6e2a9d",
   "metadata": {},
   "outputs": [],
   "source": [
    "df = pd.read_csv('data/data_missing.csv')  # Reload the original dataset\n",
    "df"
   ]
  },
  {
   "cell_type": "code",
   "execution_count": null,
   "id": "e4ef73c8",
   "metadata": {},
   "outputs": [],
   "source": [
    "df.dropna(axis='columns', inplace=True)\n",
    "df"
   ]
  },
  {
   "cell_type": "markdown",
   "id": "8bea0dab",
   "metadata": {},
   "source": [
    "### ลบแบบมีเงื่อนไข (Threshold)"
   ]
  },
  {
   "cell_type": "code",
   "execution_count": null,
   "id": "386a1620",
   "metadata": {},
   "outputs": [],
   "source": [
    "df = pd.read_csv('data/data_missing.csv')  # Reload the original dataset\n",
    "df"
   ]
  },
  {
   "cell_type": "code",
   "execution_count": null,
   "id": "12731f92",
   "metadata": {},
   "outputs": [],
   "source": [
    "df.dropna(thresh=8, axis=1, inplace=True)\n",
    "df"
   ]
  },
  {
   "cell_type": "code",
   "execution_count": null,
   "id": "44a75dbb",
   "metadata": {},
   "outputs": [],
   "source": [
    "df.shape"
   ]
  },
  {
   "cell_type": "code",
   "execution_count": null,
   "id": "ecf521fe",
   "metadata": {},
   "outputs": [],
   "source": [
    "df.shape[0]"
   ]
  },
  {
   "cell_type": "code",
   "execution_count": null,
   "id": "d19a3c9a",
   "metadata": {},
   "outputs": [],
   "source": [
    "left = int(df.shape[0] * .8)\n",
    "left"
   ]
  },
  {
   "cell_type": "code",
   "execution_count": null,
   "id": "f0d326ba",
   "metadata": {},
   "outputs": [],
   "source": [
    "df.dropna(thresh=left, axis=1) # inplacce=True"
   ]
  },
  {
   "cell_type": "code",
   "execution_count": null,
   "id": "d72db749",
   "metadata": {},
   "outputs": [],
   "source": [
    "df.loc[[0,4],:] = np.nan\n",
    "df"
   ]
  },
  {
   "cell_type": "code",
   "execution_count": null,
   "id": "1671593b",
   "metadata": {},
   "outputs": [],
   "source": [
    "df[df.isnull().any(axis=1)]"
   ]
  },
  {
   "cell_type": "code",
   "execution_count": null,
   "id": "035e4757",
   "metadata": {},
   "outputs": [],
   "source": [
    "df[df.isnull().all(axis=1)]"
   ]
  },
  {
   "cell_type": "code",
   "execution_count": null,
   "id": "88029d8a",
   "metadata": {},
   "outputs": [],
   "source": [
    "df.dropna(how='all', inplace=True)\n",
    "df"
   ]
  },
  {
   "cell_type": "code",
   "execution_count": null,
   "id": "a80e9a1a",
   "metadata": {},
   "outputs": [],
   "source": [
    "df['location'] = np.nan\n",
    "df"
   ]
  },
  {
   "cell_type": "code",
   "execution_count": null,
   "id": "9afe549f",
   "metadata": {},
   "outputs": [],
   "source": [
    "# drop column if all are NaN\n",
    "df.dropna(axis=1, how='all', inplace=True)\n",
    "df"
   ]
  },
  {
   "cell_type": "markdown",
   "id": "4b2717f3",
   "metadata": {},
   "source": [
    "# ตรวจสอบข้อมูล\n",
    "- Unique (ตัวแปรชนิด Category)\n",
    "- ข้อมูลซ้ำ"
   ]
  },
  {
   "cell_type": "code",
   "execution_count": null,
   "id": "b1493de5",
   "metadata": {},
   "outputs": [],
   "source": [
    "df = pd.read_csv('data/data_clean_bfclean.csv')  \n",
    "df"
   ]
  },
  {
   "cell_type": "markdown",
   "id": "7eb2a8c1",
   "metadata": {},
   "source": [
    "### Unique"
   ]
  },
  {
   "cell_type": "code",
   "execution_count": null,
   "id": "190ace3b",
   "metadata": {},
   "outputs": [],
   "source": [
    "# Unique (Group)\n",
    "cols_to_check = ['OWN_OCCUPIED','NUM_BATH']\n",
    "for i, col in enumerate(cols_to_check):\n",
    "    print(df.groupby(col)[cols_to_check[i]].count())\n",
    "    print('--------------')"
   ]
  },
  {
   "cell_type": "markdown",
   "id": "7f3f8695",
   "metadata": {},
   "source": [
    "### ตรวจข้อมูลซ้ำ"
   ]
  },
  {
   "cell_type": "code",
   "execution_count": null,
   "id": "eac4ddef",
   "metadata": {},
   "outputs": [],
   "source": [
    "df = pd.read_csv('data/data_clean6_after_clean_bedroom_dup.csv')  \n",
    "df"
   ]
  },
  {
   "cell_type": "code",
   "execution_count": null,
   "id": "3508ee21",
   "metadata": {},
   "outputs": [],
   "source": [
    "df[df.duplicated()]"
   ]
  },
  {
   "cell_type": "code",
   "execution_count": null,
   "id": "68488cbf",
   "metadata": {},
   "outputs": [],
   "source": [
    "# ลบ Row ที่ซ้ำ\n",
    "df.drop_duplicates(inplace=True)\n",
    "df"
   ]
  },
  {
   "cell_type": "code",
   "execution_count": null,
   "id": "060f8eaa",
   "metadata": {},
   "outputs": [],
   "source": []
  }
 ],
 "metadata": {
  "kernelspec": {
   "display_name": "Python 3",
   "language": "python",
   "name": "python3"
  },
  "language_info": {
   "codemirror_mode": {
    "name": "ipython",
    "version": 3
   },
   "file_extension": ".py",
   "mimetype": "text/x-python",
   "name": "python",
   "nbconvert_exporter": "python",
   "pygments_lexer": "ipython3",
   "version": "3.9.5"
  }
 },
 "nbformat": 4,
 "nbformat_minor": 5
}
