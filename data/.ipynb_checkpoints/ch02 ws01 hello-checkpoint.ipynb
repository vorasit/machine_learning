{
 "cells": [
  {
   "cell_type": "code",
   "execution_count": null,
   "id": "f943abb4-0cf4-40fd-8fbf-69090f5bedc4",
   "metadata": {},
   "outputs": [],
   "source": [
    "print(\"hello, kobkiat\")"
   ]
  },
  {
   "cell_type": "markdown",
   "id": "c0f8a5d8-5e5b-451a-bda5-b63ddb6cdfac",
   "metadata": {
    "tags": []
   },
   "source": [
    "# ทดสอบ test Jupyter Lab\n",
    "test test"
   ]
  },
  {
   "cell_type": "code",
   "execution_count": null,
   "id": "f4e43c2e-70c3-4e88-a599-5962828489a8",
   "metadata": {},
   "outputs": [],
   "source": [
    "a = 51"
   ]
  },
  {
   "cell_type": "code",
   "execution_count": null,
   "id": "fb85a56f-1a3f-4619-8a28-ec69243b7421",
   "metadata": {},
   "outputs": [],
   "source": [
    "b = 3\n",
    "b"
   ]
  },
  {
   "cell_type": "markdown",
   "id": "c3fc1c03-7d7c-4981-9bdb-f4de81b98532",
   "metadata": {
    "tags": []
   },
   "source": [
    "## part2"
   ]
  },
  {
   "cell_type": "code",
   "execution_count": null,
   "id": "ab775017-fd4d-4a51-bd40-420873010148",
   "metadata": {},
   "outputs": [],
   "source": [
    "c = a * b\n",
    "\n",
    "c"
   ]
  },
  {
   "cell_type": "markdown",
   "id": "2e8a03f5-6a27-4675-b608-c12b70895438",
   "metadata": {},
   "source": [
    "### part3"
   ]
  },
  {
   "cell_type": "code",
   "execution_count": null,
   "id": "e2fe9be5-3ea0-4b70-98d0-b2060132dbcb",
   "metadata": {},
   "outputs": [],
   "source": [
    "print(c)"
   ]
  },
  {
   "cell_type": "code",
   "execution_count": null,
   "id": "91eb7ece-29ff-4e4e-ac84-6bc3a53e9586",
   "metadata": {},
   "outputs": [],
   "source": [
    "a = 10"
   ]
  },
  {
   "cell_type": "code",
   "execution_count": null,
   "id": "f2420156-0d4d-42a1-a3fa-42f456c93af5",
   "metadata": {},
   "outputs": [],
   "source": [
    "a"
   ]
  },
  {
   "cell_type": "code",
   "execution_count": null,
   "id": "603bee9e-1fdd-4ad7-8c5d-ea5964914b9a",
   "metadata": {},
   "outputs": [],
   "source": []
  }
 ],
 "metadata": {
  "kernelspec": {
   "display_name": "Python 3",
   "language": "python",
   "name": "python3"
  },
  "language_info": {
   "codemirror_mode": {
    "name": "ipython",
    "version": 3
   },
   "file_extension": ".py",
   "mimetype": "text/x-python",
   "name": "python",
   "nbconvert_exporter": "python",
   "pygments_lexer": "ipython3",
   "version": "3.9.5"
  }
 },
 "nbformat": 4,
 "nbformat_minor": 5
}
