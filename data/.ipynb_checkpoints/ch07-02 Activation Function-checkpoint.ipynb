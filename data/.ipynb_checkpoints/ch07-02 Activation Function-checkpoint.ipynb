{
 "cells": [
  {
   "cell_type": "markdown",
   "id": "bcf6073f-541a-4f14-b86a-0a7ab318302e",
   "metadata": {},
   "source": [
    "# Binary Step Activation Function"
   ]
  },
  {
   "cell_type": "code",
   "execution_count": null,
   "id": "e38bc0ed-e4b9-47c7-bb0a-463bc7afee72",
   "metadata": {},
   "outputs": [],
   "source": [
    "def binary_step(x):\n",
    "#     if x >= 0:     \n",
    "#         result = 1\n",
    "#     else:\n",
    "#         result = 0\n",
    "\n",
    "    result = 1 if x >= 0 else 0\n",
    "    return result"
   ]
  },
  {
   "cell_type": "code",
   "execution_count": null,
   "id": "703b05c6-a2d5-44af-9cbc-f2226ce86025",
   "metadata": {},
   "outputs": [],
   "source": [
    "binary_step(0)"
   ]
  },
  {
   "cell_type": "code",
   "execution_count": null,
   "id": "80eed1b2-9733-4871-94cf-19bb77371d97",
   "metadata": {},
   "outputs": [],
   "source": [
    "binary_step(-0.5)"
   ]
  },
  {
   "cell_type": "code",
   "execution_count": null,
   "id": "42c76d16-ac13-4038-a659-2ecce947a3ed",
   "metadata": {},
   "outputs": [],
   "source": [
    "binary_step(0.4)"
   ]
  },
  {
   "cell_type": "code",
   "execution_count": null,
   "id": "371c8567-60ac-405f-8229-5df7042a934a",
   "metadata": {},
   "outputs": [],
   "source": [
    "binary_step(2.5)"
   ]
  },
  {
   "cell_type": "code",
   "execution_count": null,
   "id": "690a0359-f6f6-450a-af59-e718743ff048",
   "metadata": {},
   "outputs": [],
   "source": [
    "import numpy as np\n",
    "\n",
    "input = np.arange(-7, 7, 0.15)\n",
    "\n",
    "print(input[:10])       # 10 ตัวแรก\n",
    "print(input[-11:-1])  # 10 ตัวท้าย"
   ]
  },
  {
   "cell_type": "code",
   "execution_count": null,
   "id": "94805723-783f-4be9-8c3c-a48887ccd07f",
   "metadata": {},
   "outputs": [],
   "source": [
    "output = [binary_step(x) for x in input]\n",
    "\n",
    "print(output[40:55])"
   ]
  },
  {
   "cell_type": "code",
   "execution_count": null,
   "id": "a768fcb1-76c3-418c-8da5-fdf6941b3a91",
   "metadata": {},
   "outputs": [],
   "source": [
    "import matplotlib.pyplot as plt\n",
    "\n",
    "plt.plot(input, output)\n",
    "plt.ylabel('y (Output)')\n",
    "plt.xlabel('x (input)')\n",
    "plt.show()"
   ]
  },
  {
   "cell_type": "markdown",
   "id": "5be4697d-2545-429f-8a3f-405e2d7c1f59",
   "metadata": {},
   "source": [
    "# Linear Activation Function\n",
    "ใช้สมการเชิงเส้น y = m.x + b"
   ]
  },
  {
   "cell_type": "code",
   "execution_count": null,
   "id": "1884bc7c-6324-4eb9-a46a-ec283d469eea",
   "metadata": {},
   "outputs": [],
   "source": [
    "def linear05(x):\n",
    "    result = 0.5 * x\n",
    "    return result\n",
    "\n",
    "def linear1(x):\n",
    "    result = x\n",
    "    return result\n",
    "\n",
    "def linear2(x):\n",
    "    result = 2.0 * x\n",
    "    return result"
   ]
  },
  {
   "cell_type": "code",
   "execution_count": null,
   "id": "a09d30cb-797a-4a82-9ef6-b64d41a32393",
   "metadata": {},
   "outputs": [],
   "source": [
    "linear05(3)"
   ]
  },
  {
   "cell_type": "code",
   "execution_count": null,
   "id": "1c83d577-38aa-4fcf-b55e-ff90ebcb6f5a",
   "metadata": {},
   "outputs": [],
   "source": [
    "linear1(3)"
   ]
  },
  {
   "cell_type": "code",
   "execution_count": null,
   "id": "95001a28-9a3d-454f-8cea-e34feaf61edb",
   "metadata": {},
   "outputs": [],
   "source": [
    "linear2(3)"
   ]
  },
  {
   "cell_type": "code",
   "execution_count": null,
   "id": "fa0063b6-82f0-4281-ae97-d346a413b2ac",
   "metadata": {},
   "outputs": [],
   "source": [
    "input = np.arange(-7, 7, 0.15)\n",
    "\n",
    "output05 = [linear05(x) for x in input]\n",
    "output1 = [linear1(x) for x in input]\n",
    "output2 = [linear2(x) for x in input]\n",
    "\n",
    "import matplotlib.pyplot as plt\n",
    "\n",
    "plt.figure(figsize=(4.5, 3.5)) # \n",
    "\n",
    "plt.plot(input, output05, lw=2., c='g')\n",
    "plt.plot(input, output1, lw=2., c='m')\n",
    "plt.plot(input, output2, lw=2., c='b')\n",
    "\n",
    "plt.ylabel('y (Output)')\n",
    "plt.xlabel('x (input)')\n",
    "plt.show()"
   ]
  },
  {
   "cell_type": "markdown",
   "id": "706182b6-5827-4a40-b8f6-207fde22f1a8",
   "metadata": {},
   "source": [
    "# Sigmoid Function\n"
   ]
  },
  {
   "cell_type": "code",
   "execution_count": null,
   "id": "b5e5c919-ca66-4c26-b05d-81b1fe38e4c3",
   "metadata": {},
   "outputs": [],
   "source": [
    "from math import exp\n",
    "\n",
    "def sigmoid(x):\n",
    "    return 1.0 / (1.0 + exp(-x))"
   ]
  },
  {
   "cell_type": "code",
   "execution_count": null,
   "id": "66949c78-bc44-4009-b6a5-5d7b13fd1d49",
   "metadata": {},
   "outputs": [],
   "source": [
    "sigmoid(0)"
   ]
  },
  {
   "cell_type": "code",
   "execution_count": null,
   "id": "92d4b79a-ce3a-462f-8f3d-a5105adde080",
   "metadata": {},
   "outputs": [],
   "source": [
    "sigmoid(1)"
   ]
  },
  {
   "cell_type": "code",
   "execution_count": null,
   "id": "8c884c84-4ed7-4c6c-abfa-724a98154f83",
   "metadata": {},
   "outputs": [],
   "source": [
    "sigmoid(6)"
   ]
  },
  {
   "cell_type": "code",
   "execution_count": null,
   "id": "58f524db-2bc0-4e33-b884-fb45f249cb33",
   "metadata": {},
   "outputs": [],
   "source": [
    "sigmoid(50)"
   ]
  },
  {
   "cell_type": "code",
   "execution_count": null,
   "id": "23efcf76-f02b-4126-9bf9-f8cea656f4f3",
   "metadata": {},
   "outputs": [],
   "source": [
    "sigmoid(-8)"
   ]
  },
  {
   "cell_type": "code",
   "execution_count": null,
   "id": "c564c645-e284-4a4f-843b-546e02e0ffe8",
   "metadata": {},
   "outputs": [],
   "source": [
    "import matplotlib.pyplot as plt\n",
    "\n",
    "input = np.arange(-7, 7, 0.2)\n",
    "\n",
    "output = [sigmoid(x) for x in input]\n",
    "\n",
    "plt.axhline(y = 0.5, color = 'r', linestyle = '--', lw=1.2)\n",
    "\n",
    "plt.ylabel('y (Output)')\n",
    "plt.xlabel('x (input)')\n",
    "plt.grid()\n",
    "plt.plot(input, output, c='b', lw=2)\n",
    "plt.show()"
   ]
  },
  {
   "cell_type": "markdown",
   "id": "dc421b28-2111-4f89-9931-a3892d60cf53",
   "metadata": {},
   "source": [
    "# TanH: Hyperbolic Tangent Activation Function\n"
   ]
  },
  {
   "cell_type": "code",
   "execution_count": null,
   "id": "63f64743-34d6-4799-9073-427586917348",
   "metadata": {},
   "outputs": [],
   "source": [
    "import numpy as np\n",
    "from math import exp\n",
    "\n",
    "def tanh(x):\n",
    "    return (exp(x) - exp(-x)) / (exp(x) + exp(-x))"
   ]
  },
  {
   "cell_type": "code",
   "execution_count": null,
   "id": "7742d54a-7627-4790-a072-bfdb5a68cae4",
   "metadata": {},
   "outputs": [],
   "source": [
    "tanh(0)"
   ]
  },
  {
   "cell_type": "code",
   "execution_count": null,
   "id": "cb7834d2-773c-4263-beca-67d0ddfc0a78",
   "metadata": {},
   "outputs": [],
   "source": [
    "tanh(1)"
   ]
  },
  {
   "cell_type": "code",
   "execution_count": null,
   "id": "4f32e558-e76a-4d0c-9677-9b20cb2af654",
   "metadata": {},
   "outputs": [],
   "source": [
    "tanh(10)"
   ]
  },
  {
   "cell_type": "code",
   "execution_count": null,
   "id": "72bf7bd3-faff-4f3c-a3e0-fc0ab28f4ce1",
   "metadata": {},
   "outputs": [],
   "source": [
    "tanh(-1)"
   ]
  },
  {
   "cell_type": "code",
   "execution_count": null,
   "id": "6bc74199-4c98-43d1-92c7-abb03a196df7",
   "metadata": {},
   "outputs": [],
   "source": [
    "inputs = np.arange(-6, 6, 0.2)\n",
    "\n",
    "outputs = [tanh(x) for x in inputs]\n",
    "\n",
    "plt.axhline(y = 0, color = 'r', linestyle = '--', lw=1.2)\n",
    "\n",
    "plt.ylabel('y (Output)')\n",
    "plt.xlabel('x (input)')\n",
    "plt.grid()\n",
    "\n",
    "plt.plot(inputs, outputs, c='g', lw=2)\n",
    "plt.show()"
   ]
  },
  {
   "cell_type": "markdown",
   "id": "303be766-56b5-4221-9144-67ddeadc64f3",
   "metadata": {},
   "source": [
    "# ReLU: Rectified Linear Unit\n"
   ]
  },
  {
   "cell_type": "code",
   "execution_count": null,
   "id": "0e49896a-c7a3-416c-8c79-a10ba90f077f",
   "metadata": {},
   "outputs": [],
   "source": [
    "def ReLu(x):\n",
    "    return max(0.0, x)"
   ]
  },
  {
   "cell_type": "code",
   "execution_count": null,
   "id": "e3ee1ffe-59b2-4c6b-a0c0-9be69fcd25a0",
   "metadata": {},
   "outputs": [],
   "source": [
    "ReLu(-1)"
   ]
  },
  {
   "cell_type": "code",
   "execution_count": null,
   "id": "cfdf780b-27a3-452a-bb13-5d629c04250c",
   "metadata": {},
   "outputs": [],
   "source": [
    "ReLu(-2)"
   ]
  },
  {
   "cell_type": "code",
   "execution_count": null,
   "id": "9c80dde7-d13a-462b-a097-9790276348e0",
   "metadata": {},
   "outputs": [],
   "source": [
    "ReLu(0.5)"
   ]
  },
  {
   "cell_type": "code",
   "execution_count": null,
   "id": "39850b80-e04c-476b-b725-2fe8e4482aa6",
   "metadata": {},
   "outputs": [],
   "source": [
    "ReLu(2)"
   ]
  },
  {
   "cell_type": "code",
   "execution_count": null,
   "id": "886fc938-10a5-46bf-9367-3176bf2d696d",
   "metadata": {},
   "outputs": [],
   "source": [
    "import matplotlib.pyplot as plt\n",
    "\n",
    "input = np.arange(-7, 7, 0.5)\n",
    "\n",
    "output = [ReLu(x) for x in input]\n",
    "\n",
    "plt.ylabel('y (Output)')\n",
    "plt.xlabel('x (input)')\n",
    "plt.grid()\n",
    "plt.plot(input, output, c='b', lw=2)\n",
    "plt.show()"
   ]
  },
  {
   "cell_type": "markdown",
   "id": "1146824b-fca6-47ec-97e4-abc7491facb6",
   "metadata": {},
   "source": [
    "# Leakey ReLU\n"
   ]
  },
  {
   "cell_type": "code",
   "execution_count": null,
   "id": "5e68715c-ee1b-4061-b514-a0839ef878d8",
   "metadata": {},
   "outputs": [],
   "source": [
    "def leaky_ReLu(x):\n",
    "    if x < 0:\n",
    "        return 0.1 * x\n",
    "    else:\n",
    "        return x"
   ]
  },
  {
   "cell_type": "code",
   "execution_count": null,
   "id": "1cd0e1ae-f225-4416-9864-33c0613b8569",
   "metadata": {},
   "outputs": [],
   "source": [
    "import matplotlib.pyplot as plt\n",
    "plt.figure(figsize=(4.7, 3.2))\n",
    "\n",
    "input = np.arange(-7, 7, 0.5)\n",
    "\n",
    "output = [leaky_ReLu(x) for x in input]\n",
    "\n",
    "plt.ylabel('y (Output)')\n",
    "plt.xlabel('x (input)')\n",
    "plt.grid()\n",
    "\n",
    "plt.axhline(y = 0, color = 'r', linestyle = '--', lw=1.2)\n",
    "plt.plot(input, output, c='b', lw=2)\n",
    "plt.show()"
   ]
  },
  {
   "cell_type": "code",
   "execution_count": null,
   "id": "d8fe31d9-28c7-4125-9add-290e5b064bc1",
   "metadata": {},
   "outputs": [],
   "source": [
    "inputs[:10]"
   ]
  },
  {
   "cell_type": "markdown",
   "id": "a2744c4d-b515-4a6c-9cb7-2c492ec0232c",
   "metadata": {},
   "source": [
    "# Softmax\n"
   ]
  },
  {
   "cell_type": "code",
   "execution_count": null,
   "id": "532e95ac-c7c0-494a-b159-68738206dfb1",
   "metadata": {},
   "outputs": [],
   "source": [
    "import matplotlib.pyplot as plt\n",
    "from numpy import exp\n",
    "\n",
    "def softmax(z):\n",
    "    e = exp(z)\n",
    "    return e / e.sum()    "
   ]
  },
  {
   "cell_type": "code",
   "execution_count": null,
   "id": "60d66829-f036-4c02-96b2-682e01cd451e",
   "metadata": {},
   "outputs": [],
   "source": [
    "output = [0.6, 1.9, 0.01]\n",
    "\n",
    "result = softmax(output)\n",
    "print(result)"
   ]
  },
  {
   "cell_type": "code",
   "execution_count": null,
   "id": "1f5874e5-7c0e-44e9-8d8f-e37e4e19847c",
   "metadata": {},
   "outputs": [],
   "source": [
    "result.sum()"
   ]
  },
  {
   "cell_type": "code",
   "execution_count": null,
   "id": "8a83a886-e9d4-4834-82c9-061446a7b9cf",
   "metadata": {},
   "outputs": [],
   "source": [
    "np.argmax(result)"
   ]
  },
  {
   "cell_type": "code",
   "execution_count": null,
   "id": "e6f3f374-6053-480f-b0bf-8341a160bb1d",
   "metadata": {},
   "outputs": [],
   "source": [
    "output = [1.1, .13, 1.832]\n",
    "\n",
    "result = softmax(output)\n",
    "print(result)"
   ]
  },
  {
   "cell_type": "code",
   "execution_count": null,
   "id": "741f70cf-6b4f-442c-b6b8-40c350804063",
   "metadata": {},
   "outputs": [],
   "source": [
    "np.argmax(result)"
   ]
  },
  {
   "cell_type": "code",
   "execution_count": null,
   "id": "664120cb-b7aa-4bb0-8d52-4dd427edd2f7",
   "metadata": {},
   "outputs": [],
   "source": []
  },
  {
   "cell_type": "code",
   "execution_count": null,
   "id": "68de5250-bd11-4a5c-8e9a-b7848ad6382f",
   "metadata": {},
   "outputs": [],
   "source": []
  },
  {
   "cell_type": "code",
   "execution_count": null,
   "id": "a2fab7c7",
   "metadata": {},
   "outputs": [],
   "source": []
  }
 ],
 "metadata": {
  "kernelspec": {
   "display_name": "Python 3 (ipykernel)",
   "language": "python",
   "name": "python3"
  },
  "language_info": {
   "codemirror_mode": {
    "name": "ipython",
    "version": 3
   },
   "file_extension": ".py",
   "mimetype": "text/x-python",
   "name": "python",
   "nbconvert_exporter": "python",
   "pygments_lexer": "ipython3",
   "version": "3.10.4"
  }
 },
 "nbformat": 4,
 "nbformat_minor": 5
}
