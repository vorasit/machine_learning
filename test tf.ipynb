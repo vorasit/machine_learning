{
 "cells": [
  {
   "cell_type": "code",
   "execution_count": 1,
   "id": "bd97ad13",
   "metadata": {},
   "outputs": [
    {
     "name": "stdout",
     "output_type": "stream",
     "text": [
      "2.4.0\n"
     ]
    }
   ],
   "source": [
    "import tensorflow as tf\n",
    "print(tf.__version__)"
   ]
  },
  {
   "cell_type": "code",
   "execution_count": 4,
   "id": "b4bfc2f6",
   "metadata": {},
   "outputs": [
    {
     "name": "stdout",
     "output_type": "stream",
     "text": [
      "64_110\n",
      "64_8\n"
     ]
    }
   ],
   "source": [
    "import tensorflow.python.platform.build_info as build\n",
    "\n",
    "print(build.build_info['cuda_version'])\n",
    "print(build.build_info['cudnn_version'])"
   ]
  },
  {
   "cell_type": "code",
   "execution_count": 7,
   "id": "ba1bcccd",
   "metadata": {},
   "outputs": [],
   "source": [
    "import time\n",
    "import numpy as np\n",
    "import matplotlib.pyplot as plt\n",
    "\n",
    "import plotly\n",
    "import plotly.graph_objs as go\n",
    "\n",
    "from sklearn.metrics import classification_report\n",
    "from sklearn.metrics import confusion_matrix\n",
    "\n",
    "to_categorical = tf.keras.utils.to_categorical\n",
    "mnist = tf.keras.datasets.mnist\n",
    "load_model = tf.keras.models.load_model\n",
    "model_from_json = tf.keras.models.model_from_json"
   ]
  },
  {
   "cell_type": "code",
   "execution_count": 8,
   "id": "579e12f3",
   "metadata": {},
   "outputs": [],
   "source": [
    "#pip install plotly"
   ]
  },
  {
   "cell_type": "code",
   "execution_count": 10,
   "id": "c23de368",
   "metadata": {},
   "outputs": [],
   "source": [
    "batch_size = 128 #จำนวนข้อมูลที่นำเข้า\n",
    "num_classes = 10 #จำนวน out put ที่จะทำนาย\n",
    "epochs = 5 #จำนวนรอบที่ train \n",
    "\n",
    "img_rows, img_cols = 28,28  #ความกว้างและสูงของภาพที่นำเข้า model"
   ]
  },
  {
   "cell_type": "code",
   "execution_count": null,
   "id": "1bcfaf64",
   "metadata": {},
   "outputs": [],
   "source": []
  }
 ],
 "metadata": {
  "kernelspec": {
   "display_name": "Python 3 (ipykernel)",
   "language": "python",
   "name": "python3"
  },
  "language_info": {
   "codemirror_mode": {
    "name": "ipython",
    "version": 3
   },
   "file_extension": ".py",
   "mimetype": "text/x-python",
   "name": "python",
   "nbconvert_exporter": "python",
   "pygments_lexer": "ipython3",
   "version": "3.8.12"
  }
 },
 "nbformat": 4,
 "nbformat_minor": 5
}
